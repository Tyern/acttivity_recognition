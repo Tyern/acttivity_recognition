{
 "cells": [
  {
   "cell_type": "code",
   "execution_count": 1,
   "id": "c03f55a8",
   "metadata": {},
   "outputs": [
    {
     "name": "stderr",
     "output_type": "stream",
     "text": [
      "/Users/tranhoang/opt/anaconda3/envs/torch-gpu/lib/python3.8/site-packages/tqdm/auto.py:22: TqdmWarning: IProgress not found. Please update jupyter and ipywidgets. See https://ipywidgets.readthedocs.io/en/stable/user_install.html\n",
      "  from .autonotebook import tqdm as notebook_tqdm\n"
     ]
    }
   ],
   "source": [
    "import torch\n",
    "from torch import nn\n",
    "from torchinfo import summary\n",
    "\n",
    "from sklearn import tree\n",
    "from sklearn.metrics import confusion_matrix\n",
    "from sklearn.metrics import precision_recall_fscore_support\n",
    "from sklearn.model_selection import train_test_split\n",
    "\n",
    "import pytorch_lightning as pl\n",
    "import torch.nn.functional as F\n",
    "\n",
    "import seaborn as sns\n",
    "import matplotlib.pyplot as plt\n",
    "\n",
    "import pandas as pd\n",
    "import numpy  as np\n",
    "\n",
    "import json\n",
    "import os\n",
    "import glob\n",
    "\n",
    "import warnings\n",
    "warnings.filterwarnings(\"ignore\")"
   ]
  },
  {
   "cell_type": "markdown",
   "id": "f587973b",
   "metadata": {},
   "source": [
    "## Read Raw data"
   ]
  },
  {
   "cell_type": "code",
   "execution_count": 2,
   "id": "85805ab6",
   "metadata": {},
   "outputs": [],
   "source": [
    "save_folder = \"../data/jikken1/\"\n",
    "\n",
    "feature_save_file = os.path.join(save_folder, \"features.npy\")\n",
    "label_save_file = os.path.join(save_folder, \"label.npy\")\n",
    "label_name_save_file = os.path.join(save_folder, \"label_name.json\")\n",
    "\n",
    "kfold_split_save_file = os.path.join(save_folder, \"kfold_train_val_test.npy\")"
   ]
  },
  {
   "cell_type": "code",
   "execution_count": 3,
   "id": "53906422",
   "metadata": {},
   "outputs": [],
   "source": [
    "features = np.load(feature_save_file, allow_pickle=True).astype(np.float)\n",
    "labels = np.load(label_save_file, allow_pickle=True)\n",
    "\n",
    "kfold_train_test_index_list = np.load(kfold_split_save_file, allow_pickle=True)"
   ]
  },
  {
   "cell_type": "code",
   "execution_count": 4,
   "id": "b858450e",
   "metadata": {},
   "outputs": [],
   "source": [
    "# Normalize over the feature data\n",
    "\n",
    "from sklearn.preprocessing import StandardScaler\n",
    "sc = StandardScaler()\n",
    "\n",
    "data_num, window_size, feature_num = features.shape\n",
    "features_reshape = features.reshape(-1, feature_num)\n",
    "features_norm = sc.fit_transform(features_reshape)\n",
    "\n",
    "# convert back t feature size\n",
    "features = features_norm.reshape(data_num, window_size, feature_num)"
   ]
  },
  {
   "cell_type": "code",
   "execution_count": 5,
   "id": "bf23ac42",
   "metadata": {},
   "outputs": [],
   "source": [
    "with open(label_name_save_file) as f:\n",
    "    label_list = json.load(f)"
   ]
  },
  {
   "cell_type": "code",
   "execution_count": 6,
   "id": "cbd1628c",
   "metadata": {},
   "outputs": [],
   "source": [
    "from torch.utils.data import Dataset\n",
    "from torch.utils.data import DataLoader\n",
    "\n",
    "class CustomDataset(Dataset):\n",
    "    def __init__(self, all_feature_list, y_list, data_index_list):\n",
    "\n",
    "        self.all_feature_list = all_feature_list\n",
    "        self.y_list = y_list\n",
    "        self.data_index_list = data_index_list\n",
    "        \n",
    "    def __len__(self):\n",
    "        return len(self.data_index_list)\n",
    "    \n",
    "    def __getitem__(self, idx):\n",
    "        index = self.data_index_list[idx]\n",
    "        x = self.all_feature_list[index]\n",
    "        label = self.y_list[index]\n",
    "        \n",
    "        return x, label"
   ]
  },
  {
   "cell_type": "code",
   "execution_count": 7,
   "id": "e46f6f2c",
   "metadata": {},
   "outputs": [
    {
     "data": {
      "text/plain": [
       "[tensor([[[-7.8359e-01, -3.1282e-01, -4.9598e-01,  ..., -4.3510e-01,\n",
       "            7.3018e-01, -1.6694e+00],\n",
       "          [-7.0130e-01, -3.3016e-01, -4.7102e-01,  ..., -4.9755e-01,\n",
       "            6.7183e-01, -1.6151e+00],\n",
       "          [-6.3043e-01, -3.3355e-01, -4.5598e-01,  ..., -4.1698e-01,\n",
       "            6.7504e-01, -1.4171e+00],\n",
       "          ...,\n",
       "          [ 6.4485e-01, -8.5654e-02,  1.9672e-01,  ...,  8.8857e-01,\n",
       "            3.1264e-01, -6.0877e-01],\n",
       "          [ 6.2727e-01, -8.0859e-02,  1.3176e-01,  ...,  9.0993e-01,\n",
       "            7.1091e-01, -7.1450e-01],\n",
       "          [ 6.0153e-01, -7.0566e-02,  1.1672e-01,  ...,  9.3804e-01,\n",
       "            6.2258e-01, -7.3855e-01]],\n",
       " \n",
       "         [[-4.4537e-01, -3.7345e-01, -6.9121e-01,  ..., -1.6314e-02,\n",
       "           -7.3120e-01, -6.4625e-01],\n",
       "          [-3.9589e-01, -3.7966e-01, -7.2130e-01,  ...,  1.7995e-03,\n",
       "           -8.0989e-01, -5.8472e-01],\n",
       "          [-3.5257e-01, -3.7754e-01, -7.1788e-01,  ..., -1.4448e-03,\n",
       "           -8.8163e-01, -5.4388e-01],\n",
       "          ...,\n",
       "          [-9.1535e-01,  7.8903e-02, -1.3572e+00,  ..., -1.9369e+00,\n",
       "           -1.9269e-01,  3.3213e-01],\n",
       "          [-7.4371e-01,  2.6589e-02, -1.3972e+00,  ..., -1.8693e+00,\n",
       "           -5.1922e-01,  8.8014e-03],\n",
       "          [-6.2517e-01, -2.0931e-02, -1.3337e+00,  ..., -1.8561e+00,\n",
       "           -8.9126e-01, -3.3579e-01]],\n",
       " \n",
       "         [[-2.8787e-01, -2.8391e-01, -3.8896e-01,  ...,  3.3161e-02,\n",
       "           -5.5649e-02, -3.2594e-02],\n",
       "          [-2.9330e-01, -2.8194e-01, -3.9409e-01,  ...,  3.4783e-02,\n",
       "           -4.2802e-02, -2.9237e-02],\n",
       "          [-2.8968e-01, -2.8391e-01, -4.0093e-01,  ...,  4.3164e-02,\n",
       "           -4.6013e-02, -1.8609e-02],\n",
       "          ...,\n",
       "          [-2.9584e-01, -2.7023e-01, -3.9409e-01,  ...,  5.4519e-02,\n",
       "            6.1048e-02, -1.8609e-02],\n",
       "          [-2.9947e-01, -2.7221e-01, -4.0264e-01,  ...,  5.4519e-02,\n",
       "            5.1412e-02, -1.8609e-02],\n",
       "          [-2.7192e-01, -2.7221e-01, -4.2076e-01,  ...,  4.9653e-02,\n",
       "            2.8394e-02, -8.5399e-03]],\n",
       " \n",
       "         ...,\n",
       " \n",
       "         [[ 7.0955e-01, -2.9250e-02,  1.9763e+00,  ...,  3.1539e-02,\n",
       "           -5.1239e-04,  1.8870e-02],\n",
       "          [ 7.0412e-01, -3.1224e-02,  1.9815e+00,  ...,  3.1539e-02,\n",
       "           -1.0683e-02,  8.8014e-03],\n",
       "          [ 7.0774e-01, -3.8134e-02,  1.9982e+00,  ...,  2.9917e-02,\n",
       "           -1.7107e-02,  1.5514e-02],\n",
       "          ...,\n",
       "          [ 7.0067e-01, -4.9838e-02,  1.9781e+00,  ...,  3.8027e-02,\n",
       "           -7.4714e-03, -1.5253e-02],\n",
       "          [ 7.0412e-01, -4.6453e-02,  1.9883e+00,  ...,  3.9649e-02,\n",
       "           -4.2595e-03, -1.5253e-02],\n",
       "          [ 7.0249e-01, -5.1953e-02,  1.9647e+00,  ...,  3.6405e-02,\n",
       "           -1.0683e-02, -1.1896e-02]],\n",
       " \n",
       "         [[-6.6740e-02, -5.0022e-01, -2.5733e-01,  ...,  4.1382e-01,\n",
       "            3.1585e-01,  3.5563e-01],\n",
       "          [-6.2209e-02, -4.9261e-01, -2.3374e-01,  ...,  3.2623e-01,\n",
       "            1.8524e-01,  3.6290e-01],\n",
       "          [-7.8159e-02, -4.8781e-01, -2.5049e-01,  ...,  2.9838e-01,\n",
       "            7.4430e-02,  4.0038e-01],\n",
       "          ...,\n",
       "          [-9.0303e-01, -6.0555e-01, -5.0011e-03,  ...,  3.1504e+00,\n",
       "           -4.4749e-01, -2.1029e+00],\n",
       "          [-9.0122e-01, -5.6494e-01, -1.1851e-01,  ...,  3.1669e+00,\n",
       "           -5.6151e-01, -2.1197e+00],\n",
       "          [-8.3669e-01, -5.1460e-01, -2.0057e-01,  ...,  3.1717e+00,\n",
       "           -7.0551e-01, -2.1505e+00]],\n",
       " \n",
       "         [[-7.3392e-01, -1.9240e-01, -5.7428e-01,  ..., -3.3615e-01,\n",
       "           -5.9738e-01, -9.3658e-01],\n",
       "          [-8.5790e-01, -1.9578e-01, -7.0625e-01,  ..., -7.6628e-01,\n",
       "           -7.9330e-01, -1.1374e+00],\n",
       "          [-9.9855e-01, -2.0960e-01, -8.4780e-01,  ..., -9.6581e-01,\n",
       "           -3.2651e-01, -1.6118e+00],\n",
       "          ...,\n",
       "          [-8.9759e-02, -3.0802e-01,  2.4869e-01,  ...,  1.2084e+00,\n",
       "            6.8468e-01, -8.0008e-01],\n",
       "          [-9.3203e-02, -3.0182e-01,  3.3554e-01,  ...,  1.2809e+00,\n",
       "            8.8060e-01, -7.8945e-01],\n",
       "          [-1.0480e-01, -3.0605e-01,  3.7383e-01,  ...,  1.2957e+00,\n",
       "            1.2462e+00, -7.6932e-01]]], dtype=torch.float64),\n",
       " tensor([4, 0, 1, 1, 5, 5, 4, 4])]"
      ]
     },
     "execution_count": 7,
     "metadata": {},
     "output_type": "execute_result"
    }
   ],
   "source": [
    "## test\n",
    "\n",
    "# Create train dataset and test dataset for the first activity in label_list\n",
    "train_data_df_index_list, val_data_df_index_list, test_data_df_index_list = kfold_train_test_index_list[0]\n",
    "\n",
    "train_dataset = CustomDataset(features, labels, train_data_df_index_list)\n",
    "val_dataset = CustomDataset(features, labels, val_data_df_index_list)\n",
    "test_dataset = CustomDataset(features, labels, test_data_df_index_list)\n",
    "\n",
    "train_dataloader = DataLoader(\n",
    "    train_dataset, \n",
    "    batch_size=8,\n",
    "    num_workers=0, # number of subprocesses to use for data loading\n",
    "    shuffle=True)\n",
    "\n",
    "val_dataloader = DataLoader(\n",
    "    train_dataset, \n",
    "    batch_size=8,\n",
    "    num_workers=0, # number of subprocesses to use for data loading\n",
    "    shuffle=False)\n",
    "\n",
    "test_dataloader = DataLoader(\n",
    "    test_dataset,\n",
    "    batch_size=1,\n",
    "    num_workers=0, # number of subprocesses to use for data loading\n",
    "    shuffle=False)\n",
    "\n",
    "next(iter(train_dataloader))"
   ]
  },
  {
   "cell_type": "markdown",
   "id": "efb582ed",
   "metadata": {},
   "source": [
    "## Model definition"
   ]
  },
  {
   "cell_type": "code",
   "execution_count": 8,
   "id": "ff620a26",
   "metadata": {},
   "outputs": [],
   "source": [
    "class SelfAttention(nn.Module):\n",
    "    def __init__(self, input_size=128, attention_mat_size=64, output_kernel=1):\n",
    "        \"\"\"\n",
    "        output_kernel(int): the kernel of attention matrix\n",
    "        to the input shape (B, Sequence_number, Feature),\n",
    "        the size of output shape will be (B, Sequence_number, attention_mat_size x output_kernel )\n",
    "        \"\"\"\n",
    "        super(SelfAttention, self).__init__()\n",
    "        self.lstm_dim = input_size\n",
    "        self.da = attention_mat_size\n",
    "        self.r = output_kernel\n",
    "        \n",
    "        self.main = nn.Sequential(\n",
    "            # Bidirectionalなので各隠れ層のベクトルの次元は２倍のサイズになってます。\n",
    "            nn.Linear(input_size, attention_mat_size), \n",
    "            nn.Tanh(),\n",
    "            nn.Linear(attention_mat_size, output_kernel)\n",
    "        )\n",
    "        \n",
    "    def forward(self, out):\n",
    "        attention_weight = F.softmax(self.main(out), dim=1) # calculate the attention maxtrix\n",
    "        \n",
    "        # attention is changed for matmul with lstm output\n",
    "        attention_weight = attention_weight.unsqueeze(dim=3)\n",
    "        \n",
    "        mul = torch.matmul(attention_weight, out.unsqueeze(dim=2))\n",
    "        mul = mul.view(mul.shape[0], mul.shape[1], -1)\n",
    "    \n",
    "        return mul\n",
    "        "
   ]
  },
  {
   "cell_type": "code",
   "execution_count": 9,
   "id": "7689ff97",
   "metadata": {},
   "outputs": [
    {
     "data": {
      "text/plain": [
       "=================================================================\n",
       "Layer (type:depth-idx)                   Param #\n",
       "=================================================================\n",
       "SelfAttention                            --\n",
       "├─Sequential: 1-1                        --\n",
       "│    └─Linear: 2-1                       8,256\n",
       "│    └─Tanh: 2-2                         --\n",
       "│    └─Linear: 2-3                       65\n",
       "=================================================================\n",
       "Total params: 8,321\n",
       "Trainable params: 8,321\n",
       "Non-trainable params: 0\n",
       "================================================================="
      ]
     },
     "execution_count": 9,
     "metadata": {},
     "output_type": "execute_result"
    }
   ],
   "source": [
    "model = SelfAttention()\n",
    "summary(model)"
   ]
  },
  {
   "cell_type": "code",
   "execution_count": 10,
   "id": "a4991455",
   "metadata": {},
   "outputs": [],
   "source": [
    "def test():\n",
    "    rnn = nn.LSTM(\n",
    "        input_size=10, \n",
    "        hidden_size=64,\n",
    "        num_layers=1,\n",
    "        batch_first=True)\n",
    "\n",
    "    attention = SelfAttention(\n",
    "        input_size=64, \n",
    "        attention_mat_size=64, \n",
    "        output_kernel=4\n",
    "    )\n",
    "    \n",
    "    x = torch.rand(2, 6, 10)\n",
    "    rnn_out, _ = rnn(x)\n",
    "    print(\"rnn_out.shape:\", rnn_out.shape)\n",
    "    attention_out = attention(rnn_out)\n",
    "    \n",
    "    print(attention_out.shape)\n"
   ]
  },
  {
   "cell_type": "code",
   "execution_count": 11,
   "id": "3e58edf7",
   "metadata": {},
   "outputs": [],
   "source": [
    "class LSTMModel(pl.LightningModule):\n",
    "    def __init__(self, hidden_size=128, input_size=30, output_size=6):\n",
    "        super().__init__()\n",
    "        self.rnn1 = nn.LSTM(input_size=input_size, \n",
    "                          hidden_size=hidden_size,\n",
    "                          num_layers=1,\n",
    "                          batch_first=True)\n",
    "        \n",
    "        self.attention1 = SelfAttention(\n",
    "            input_size=hidden_size, \n",
    "            attention_mat_size=hidden_size, \n",
    "            output_kernel=1)\n",
    "\n",
    "        self.rnn2 = nn.LSTM(input_size=hidden_size, \n",
    "                          hidden_size=hidden_size,\n",
    "                          num_layers=1,\n",
    "                          batch_first=True)\n",
    "        \n",
    "        self.attention2 = SelfAttention(\n",
    "            input_size=hidden_size, \n",
    "            attention_mat_size=hidden_size, \n",
    "            output_kernel=1\n",
    "        )\n",
    "        \n",
    "        self.seq_1 = nn.Sequential(\n",
    "            nn.Linear(in_features=hidden_size, out_features=hidden_size),\n",
    "            nn.BatchNorm1d(num_features=hidden_size),\n",
    "            nn.Dropout1d(p=0.2),\n",
    "            nn.ReLU(),\n",
    "            nn.Linear(in_features=hidden_size, out_features=hidden_size),\n",
    "            nn.BatchNorm1d(num_features=hidden_size),\n",
    "            nn.Dropout1d(p=0.2),\n",
    "            nn.ReLU(),\n",
    "        )\n",
    "        \n",
    "        self.seq_2 = nn.Sequential(\n",
    "            nn.Linear(in_features=hidden_size, out_features=hidden_size),\n",
    "            nn.BatchNorm1d(num_features=hidden_size),\n",
    "            nn.Dropout1d(p=0.2),\n",
    "            nn.ReLU(),\n",
    "            nn.Linear(in_features=hidden_size, out_features=hidden_size),\n",
    "            nn.BatchNorm1d(num_features=hidden_size),\n",
    "            nn.Dropout1d(p=0.2),\n",
    "            nn.ReLU(),\n",
    "        )\n",
    "        \n",
    "        self.classifier = nn.Linear(in_features=3 * hidden_size, out_features=output_size)\n",
    "        \n",
    "    def forward(self, x):\n",
    "        activation, _ = self.rnn1(x)\n",
    "        activation = self.attention1(activation)\n",
    "        activation, _ = self.rnn2(activation)\n",
    "        activation = self.attention2(activation)\n",
    "        \n",
    "        b, _, _ = activation.size()\n",
    "        lstm_output = activation[:,-1,:].view(b,-1)\n",
    "        seq_1_output = self.seq_1(lstm_output)\n",
    "        seq_2_output = self.seq_2(lstm_output)\n",
    "        \n",
    "        output = torch.concat([lstm_output, seq_1_output, seq_2_output], dim=1)\n",
    "        output = self.classifier(output)\n",
    "        \n",
    "        return output\n",
    "    \n",
    "    def configure_optimizers(self):\n",
    "        optimizer = torch.optim.Adam(params=self.parameters(), lr=0.0005)\n",
    "        return optimizer\n",
    "    \n",
    "    def training_step(self, batch, batch_idx):\n",
    "        X, y = batch\n",
    "        X = X.float()\n",
    "        # 1. Forward pass\n",
    "        y_pred = self.forward(X)\n",
    "        # 2. Calculate  and accumulate loss\n",
    "        loss = F.cross_entropy(y_pred, y)\n",
    "        \n",
    "        self.log(\"train_loss\", loss)\n",
    "        \n",
    "        return loss\n",
    "    \n",
    "    def test_step(self, batch, batch_idx):\n",
    "        # this is the test loop\n",
    "        X, y = batch\n",
    "        X = X.float()\n",
    "    \n",
    "        # 1. Forward pass\n",
    "        test_pred_logits = self.forward(X)\n",
    "\n",
    "        # Calculate and accumulate accuracy\n",
    "        test_pred_labels = test_pred_logits.argmax(dim=1)\n",
    "        test_acc = ((test_pred_labels == y).sum().item()/len(test_pred_labels))\n",
    "        self.log(\"test_acc\", test_acc)\n",
    "\n",
    "    def validation_step(self, batch, batch_idx):\n",
    "        # this is the validation loop\n",
    "        X, y = batch\n",
    "        X = X.float()\n",
    "        \n",
    "        y_pred = self.forward(X)\n",
    "        # 2. Calculate  and accumulate loss\n",
    "        loss = F.cross_entropy(y_pred, y)\n",
    "        \n",
    "        self.log(\"val_loss\", loss)\n",
    "        "
   ]
  },
  {
   "cell_type": "code",
   "execution_count": 12,
   "id": "676fa569",
   "metadata": {},
   "outputs": [
    {
     "data": {
      "text/plain": [
       "=================================================================\n",
       "Layer (type:depth-idx)                   Param #\n",
       "=================================================================\n",
       "LSTMModel                                --\n",
       "├─LSTM: 1-1                              81,920\n",
       "├─SelfAttention: 1-2                     --\n",
       "│    └─Sequential: 2-1                   --\n",
       "│    │    └─Linear: 3-1                  16,512\n",
       "│    │    └─Tanh: 3-2                    --\n",
       "│    │    └─Linear: 3-3                  129\n",
       "├─LSTM: 1-3                              132,096\n",
       "├─SelfAttention: 1-4                     --\n",
       "│    └─Sequential: 2-2                   --\n",
       "│    │    └─Linear: 3-4                  16,512\n",
       "│    │    └─Tanh: 3-5                    --\n",
       "│    │    └─Linear: 3-6                  129\n",
       "├─Sequential: 1-5                        --\n",
       "│    └─Linear: 2-3                       16,512\n",
       "│    └─BatchNorm1d: 2-4                  256\n",
       "│    └─Dropout1d: 2-5                    --\n",
       "│    └─ReLU: 2-6                         --\n",
       "│    └─Linear: 2-7                       16,512\n",
       "│    └─BatchNorm1d: 2-8                  256\n",
       "│    └─Dropout1d: 2-9                    --\n",
       "│    └─ReLU: 2-10                        --\n",
       "├─Sequential: 1-6                        --\n",
       "│    └─Linear: 2-11                      16,512\n",
       "│    └─BatchNorm1d: 2-12                 256\n",
       "│    └─Dropout1d: 2-13                   --\n",
       "│    └─ReLU: 2-14                        --\n",
       "│    └─Linear: 2-15                      16,512\n",
       "│    └─BatchNorm1d: 2-16                 256\n",
       "│    └─Dropout1d: 2-17                   --\n",
       "│    └─ReLU: 2-18                        --\n",
       "├─Linear: 1-7                            2,310\n",
       "=================================================================\n",
       "Total params: 316,680\n",
       "Trainable params: 316,680\n",
       "Non-trainable params: 0\n",
       "================================================================="
      ]
     },
     "execution_count": 12,
     "metadata": {},
     "output_type": "execute_result"
    }
   ],
   "source": [
    "model = LSTMModel()\n",
    "summary(model)"
   ]
  },
  {
   "cell_type": "markdown",
   "id": "94d9d85c",
   "metadata": {},
   "source": [
    "## Train step setup"
   ]
  },
  {
   "cell_type": "code",
   "execution_count": 13,
   "id": "ca20a156",
   "metadata": {
    "scrolled": true
   },
   "outputs": [
    {
     "name": "stderr",
     "output_type": "stream",
     "text": [
      "GPU available: False, used: False\n",
      "TPU available: False, using: 0 TPU cores\n",
      "IPU available: False, using: 0 IPUs\n",
      "HPU available: False, using: 0 HPUs\n",
      "\n",
      "  | Name       | Type          | Params\n",
      "---------------------------------------------\n",
      "0 | rnn1       | LSTM          | 24.6 K\n",
      "1 | attention1 | SelfAttention | 4.2 K \n",
      "2 | rnn2       | LSTM          | 33.3 K\n",
      "3 | attention2 | SelfAttention | 4.2 K \n",
      "4 | seq_1      | Sequential    | 8.6 K \n",
      "5 | seq_2      | Sequential    | 8.6 K \n",
      "6 | classifier | Linear        | 1.2 K \n",
      "---------------------------------------------\n",
      "84.6 K    Trainable params\n",
      "0         Non-trainable params\n",
      "84.6 K    Total params\n",
      "0.338     Total estimated model params size (MB)\n"
     ]
    },
    {
     "name": "stdout",
     "output_type": "stream",
     "text": [
      "\n",
      "*************KFOLD 1*************\n",
      "Epoch 0:  84%|█████████████████████████████████████████████████████████████████████████▏             | 132/157 [00:13<00:02,  9.59it/s, loss=1.44, v_num=3]\n",
      "Validation: 0it [00:00, ?it/s]\u001b[A\n",
      "Validation DataLoader 0:   0%|                                                                                                      | 0/25 [00:00<?, ?it/s]\u001b[A\n",
      "Epoch 0:  85%|█████████████████████████████████████████████████████████████████████████▋             | 133/157 [00:13<00:02,  9.64it/s, loss=1.44, v_num=3]\u001b[A\n",
      "Epoch 0:  85%|██████████████████████████████████████████████████████████████████████████▎            | 134/157 [00:13<00:02,  9.70it/s, loss=1.44, v_num=3]\u001b[A\n",
      "Epoch 0:  86%|██████████████████████████████████████████████████████████████████████████▊            | 135/157 [00:13<00:02,  9.76it/s, loss=1.44, v_num=3]\u001b[A\n",
      "Epoch 0:  87%|███████████████████████████████████████████████████████████████████████████▎           | 136/157 [00:13<00:02,  9.82it/s, loss=1.44, v_num=3]\u001b[A\n",
      "Epoch 0:  87%|███████████████████████████████████████████████████████████████████████████▉           | 137/157 [00:13<00:02,  9.88it/s, loss=1.44, v_num=3]\u001b[A\n",
      "Epoch 0:  88%|████████████████████████████████████████████████████████████████████████████▍          | 138/157 [00:13<00:01,  9.93it/s, loss=1.44, v_num=3]\u001b[A\n",
      "Epoch 0:  89%|█████████████████████████████████████████████████████████████████████████████          | 139/157 [00:13<00:01,  9.99it/s, loss=1.44, v_num=3]\u001b[A\n",
      "Epoch 0:  89%|█████████████████████████████████████████████████████████████████████████████▌         | 140/157 [00:13<00:01, 10.05it/s, loss=1.44, v_num=3]\u001b[A\n",
      "Epoch 0:  90%|██████████████████████████████████████████████████████████████████████████████▏        | 141/157 [00:13<00:01, 10.10it/s, loss=1.44, v_num=3]\u001b[A\n",
      "Epoch 0:  90%|██████████████████████████████████████████████████████████████████████████████▋        | 142/157 [00:13<00:01, 10.16it/s, loss=1.44, v_num=3]\u001b[A\n",
      "Epoch 0:  91%|███████████████████████████████████████████████████████████████████████████████▏       | 143/157 [00:13<00:01, 10.22it/s, loss=1.44, v_num=3]\u001b[A\n",
      "Epoch 0:  92%|███████████████████████████████████████████████████████████████████████████████▊       | 144/157 [00:14<00:01, 10.28it/s, loss=1.44, v_num=3]\u001b[A\n",
      "Epoch 0:  92%|████████████████████████████████████████████████████████████████████████████████▎      | 145/157 [00:14<00:01, 10.33it/s, loss=1.44, v_num=3]\u001b[A\n",
      "Epoch 0:  93%|████████████████████████████████████████████████████████████████████████████████▉      | 146/157 [00:14<00:01, 10.39it/s, loss=1.44, v_num=3]\u001b[A\n",
      "Epoch 0:  94%|█████████████████████████████████████████████████████████████████████████████████▍     | 147/157 [00:14<00:00, 10.45it/s, loss=1.44, v_num=3]\u001b[A\n",
      "Epoch 0:  94%|██████████████████████████████████████████████████████████████████████████████████     | 148/157 [00:14<00:00, 10.51it/s, loss=1.44, v_num=3]\u001b[A\n",
      "Epoch 0:  95%|██████████████████████████████████████████████████████████████████████████████████▌    | 149/157 [00:14<00:00, 10.56it/s, loss=1.44, v_num=3]\u001b[A\n",
      "Epoch 0:  96%|███████████████████████████████████████████████████████████████████████████████████    | 150/157 [00:14<00:00, 10.62it/s, loss=1.44, v_num=3]\u001b[A\n",
      "Epoch 0:  96%|███████████████████████████████████████████████████████████████████████████████████▋   | 151/157 [00:14<00:00, 10.68it/s, loss=1.44, v_num=3]\u001b[A\n",
      "Epoch 0:  97%|████████████████████████████████████████████████████████████████████████████████████▏  | 152/157 [00:14<00:00, 10.73it/s, loss=1.44, v_num=3]\u001b[A\n",
      "Epoch 0:  97%|████████████████████████████████████████████████████████████████████████████████████▊  | 153/157 [00:14<00:00, 10.78it/s, loss=1.44, v_num=3]\u001b[A\n",
      "Epoch 0:  98%|█████████████████████████████████████████████████████████████████████████████████████▎ | 154/157 [00:14<00:00, 10.84it/s, loss=1.44, v_num=3]\u001b[A\n",
      "Epoch 0:  99%|█████████████████████████████████████████████████████████████████████████████████████▉ | 155/157 [00:14<00:00, 10.90it/s, loss=1.44, v_num=3]\u001b[A\n",
      "Epoch 0:  99%|██████████████████████████████████████████████████████████████████████████████████████▍| 156/157 [00:14<00:00, 10.95it/s, loss=1.44, v_num=3]\u001b[A\n",
      "Epoch 0: 100%|███████████████████████████████████████████████████████████████████████████████████████| 157/157 [00:14<00:00, 11.01it/s, loss=1.44, v_num=3]\u001b[A\n",
      "Epoch 1:  84%|█████████████████████████████████████████████████████████████████████████▏             | 132/157 [00:24<00:04,  5.33it/s, loss=1.16, v_num=3]\u001b[A\n",
      "Validation: 0it [00:00, ?it/s]\u001b[A\n",
      "Validation DataLoader 0:   0%|                                                                                                      | 0/25 [00:00<?, ?it/s]\u001b[A\n",
      "Epoch 1:  85%|█████████████████████████████████████████████████████████████████████████▋             | 133/157 [00:24<00:04,  5.37it/s, loss=1.16, v_num=3]\u001b[A\n",
      "Epoch 1:  85%|██████████████████████████████████████████████████████████████████████████▎            | 134/157 [00:24<00:04,  5.40it/s, loss=1.16, v_num=3]\u001b[A\n",
      "Epoch 1:  86%|██████████████████████████████████████████████████████████████████████████▊            | 135/157 [00:24<00:04,  5.44it/s, loss=1.16, v_num=3]\u001b[A\n",
      "Epoch 1:  87%|███████████████████████████████████████████████████████████████████████████▎           | 136/157 [00:24<00:03,  5.48it/s, loss=1.16, v_num=3]\u001b[A\n",
      "Epoch 1:  87%|███████████████████████████████████████████████████████████████████████████▉           | 137/157 [00:24<00:03,  5.51it/s, loss=1.16, v_num=3]\u001b[A\n",
      "Epoch 1:  88%|████████████████████████████████████████████████████████████████████████████▍          | 138/157 [00:24<00:03,  5.55it/s, loss=1.16, v_num=3]\u001b[A\n",
      "Epoch 1:  89%|█████████████████████████████████████████████████████████████████████████████          | 139/157 [00:24<00:03,  5.58it/s, loss=1.16, v_num=3]\u001b[A\n",
      "Epoch 1:  89%|█████████████████████████████████████████████████████████████████████████████▌         | 140/157 [00:24<00:03,  5.62it/s, loss=1.16, v_num=3]\u001b[A\n",
      "Epoch 1:  90%|██████████████████████████████████████████████████████████████████████████████▏        | 141/157 [00:24<00:02,  5.66it/s, loss=1.16, v_num=3]\u001b[A\n",
      "Epoch 1:  90%|██████████████████████████████████████████████████████████████████████████████▋        | 142/157 [00:24<00:02,  5.69it/s, loss=1.16, v_num=3]\u001b[A\n",
      "Epoch 1:  91%|███████████████████████████████████████████████████████████████████████████████▏       | 143/157 [00:24<00:02,  5.73it/s, loss=1.16, v_num=3]\u001b[A\n",
      "Epoch 1:  92%|███████████████████████████████████████████████████████████████████████████████▊       | 144/157 [00:24<00:02,  5.76it/s, loss=1.16, v_num=3]\u001b[A\n",
      "Epoch 1:  92%|████████████████████████████████████████████████████████████████████████████████▎      | 145/157 [00:25<00:02,  5.80it/s, loss=1.16, v_num=3]\u001b[A\n",
      "Epoch 1:  93%|████████████████████████████████████████████████████████████████████████████████▉      | 146/157 [00:25<00:01,  5.83it/s, loss=1.16, v_num=3]\u001b[A\n",
      "Epoch 1:  94%|█████████████████████████████████████████████████████████████████████████████████▍     | 147/157 [00:25<00:01,  5.87it/s, loss=1.16, v_num=3]\u001b[A\n",
      "Epoch 1:  94%|██████████████████████████████████████████████████████████████████████████████████     | 148/157 [00:25<00:01,  5.91it/s, loss=1.16, v_num=3]\u001b[A\n",
      "Epoch 1:  95%|██████████████████████████████████████████████████████████████████████████████████▌    | 149/157 [00:25<00:01,  5.94it/s, loss=1.16, v_num=3]\u001b[A\n",
      "Epoch 1:  96%|███████████████████████████████████████████████████████████████████████████████████    | 150/157 [00:25<00:01,  5.98it/s, loss=1.16, v_num=3]\u001b[A\n",
      "Epoch 1:  96%|███████████████████████████████████████████████████████████████████████████████████▋   | 151/157 [00:25<00:00,  6.01it/s, loss=1.16, v_num=3]\u001b[A\n",
      "Epoch 1:  97%|████████████████████████████████████████████████████████████████████████████████████▏  | 152/157 [00:25<00:00,  6.05it/s, loss=1.16, v_num=3]\u001b[A\n",
      "Epoch 1:  97%|████████████████████████████████████████████████████████████████████████████████████▊  | 153/157 [00:25<00:00,  6.08it/s, loss=1.16, v_num=3]\u001b[A\n"
     ]
    },
    {
     "name": "stdout",
     "output_type": "stream",
     "text": [
      "Epoch 1:  98%|█████████████████████████████████████████████████████████████████████████████████████▎ | 154/157 [00:25<00:00,  6.12it/s, loss=1.16, v_num=3]\u001b[A\n",
      "Epoch 1:  99%|█████████████████████████████████████████████████████████████████████████████████████▉ | 155/157 [00:25<00:00,  6.15it/s, loss=1.16, v_num=3]\u001b[A\n",
      "Epoch 1:  99%|██████████████████████████████████████████████████████████████████████████████████████▍| 156/157 [00:25<00:00,  6.19it/s, loss=1.16, v_num=3]\u001b[A\n",
      "Epoch 1: 100%|███████████████████████████████████████████████████████████████████████████████████████| 157/157 [00:25<00:00,  6.22it/s, loss=1.16, v_num=3]\u001b[A\n",
      "Epoch 2:  84%|████████████████████████████████████████████████████████████████████████▎             | 132/157 [00:35<00:06,  3.72it/s, loss=0.907, v_num=3]\u001b[A\n",
      "Validation: 0it [00:00, ?it/s]\u001b[A\n",
      "Validation DataLoader 0:   0%|                                                                                                      | 0/25 [00:00<?, ?it/s]\u001b[A\n",
      "Epoch 2:  85%|████████████████████████████████████████████████████████████████████████▊             | 133/157 [00:35<00:06,  3.75it/s, loss=0.907, v_num=3]\u001b[A\n",
      "Epoch 2:  85%|█████████████████████████████████████████████████████████████████████████▍            | 134/157 [00:35<00:06,  3.77it/s, loss=0.907, v_num=3]\u001b[A\n",
      "Epoch 2:  86%|█████████████████████████████████████████████████████████████████████████▉            | 135/157 [00:35<00:05,  3.80it/s, loss=0.907, v_num=3]\u001b[A\n",
      "Epoch 2:  87%|██████████████████████████████████████████████████████████████████████████▍           | 136/157 [00:35<00:05,  3.83it/s, loss=0.907, v_num=3]\u001b[A\n",
      "Epoch 2:  87%|███████████████████████████████████████████████████████████████████████████           | 137/157 [00:35<00:05,  3.85it/s, loss=0.907, v_num=3]\u001b[A\n",
      "Epoch 2:  88%|███████████████████████████████████████████████████████████████████████████▌          | 138/157 [00:35<00:04,  3.88it/s, loss=0.907, v_num=3]\u001b[A\n",
      "Epoch 2:  89%|████████████████████████████████████████████████████████████████████████████▏         | 139/157 [00:35<00:04,  3.90it/s, loss=0.907, v_num=3]\u001b[A\n",
      "Epoch 2:  89%|████████████████████████████████████████████████████████████████████████████▋         | 140/157 [00:35<00:04,  3.93it/s, loss=0.907, v_num=3]\u001b[A\n",
      "Epoch 2:  90%|█████████████████████████████████████████████████████████████████████████████▏        | 141/157 [00:35<00:04,  3.96it/s, loss=0.907, v_num=3]\u001b[A\n",
      "Epoch 2:  90%|█████████████████████████████████████████████████████████████████████████████▊        | 142/157 [00:35<00:03,  3.98it/s, loss=0.907, v_num=3]\u001b[A\n",
      "Epoch 2:  91%|██████████████████████████████████████████████████████████████████████████████▎       | 143/157 [00:35<00:03,  4.01it/s, loss=0.907, v_num=3]\u001b[A\n",
      "Epoch 2:  92%|██████████████████████████████████████████████████████████████████████████████▉       | 144/157 [00:35<00:03,  4.03it/s, loss=0.907, v_num=3]\u001b[A\n",
      "Epoch 2:  92%|███████████████████████████████████████████████████████████████████████████████▍      | 145/157 [00:35<00:02,  4.06it/s, loss=0.907, v_num=3]\u001b[A\n",
      "Epoch 2:  93%|███████████████████████████████████████████████████████████████████████████████▉      | 146/157 [00:35<00:02,  4.09it/s, loss=0.907, v_num=3]\u001b[A\n",
      "Epoch 2:  94%|████████████████████████████████████████████████████████████████████████████████▌     | 147/157 [00:35<00:02,  4.11it/s, loss=0.907, v_num=3]\u001b[A\n",
      "Epoch 2:  94%|█████████████████████████████████████████████████████████████████████████████████     | 148/157 [00:35<00:02,  4.14it/s, loss=0.907, v_num=3]\u001b[A\n",
      "Epoch 2:  95%|█████████████████████████████████████████████████████████████████████████████████▌    | 149/157 [00:35<00:01,  4.16it/s, loss=0.907, v_num=3]\u001b[A\n",
      "Epoch 2:  96%|██████████████████████████████████████████████████████████████████████████████████▏   | 150/157 [00:35<00:01,  4.19it/s, loss=0.907, v_num=3]\u001b[A\n",
      "Epoch 2:  96%|██████████████████████████████████████████████████████████████████████████████████▋   | 151/157 [00:35<00:01,  4.21it/s, loss=0.907, v_num=3]\u001b[A\n",
      "Epoch 2:  97%|███████████████████████████████████████████████████████████████████████████████████▎  | 152/157 [00:35<00:01,  4.24it/s, loss=0.907, v_num=3]\u001b[A\n",
      "Epoch 2:  97%|███████████████████████████████████████████████████████████████████████████████████▊  | 153/157 [00:35<00:00,  4.27it/s, loss=0.907, v_num=3]\u001b[A\n",
      "Epoch 2:  98%|████████████████████████████████████████████████████████████████████████████████████▎ | 154/157 [00:35<00:00,  4.29it/s, loss=0.907, v_num=3]\u001b[A\n",
      "Epoch 2:  99%|████████████████████████████████████████████████████████████████████████████████████▉ | 155/157 [00:35<00:00,  4.32it/s, loss=0.907, v_num=3]\u001b[A\n",
      "Epoch 2:  99%|█████████████████████████████████████████████████████████████████████████████████████▍| 156/157 [00:35<00:00,  4.34it/s, loss=0.907, v_num=3]\u001b[A\n",
      "Epoch 2: 100%|██████████████████████████████████████████████████████████████████████████████████████| 157/157 [00:35<00:00,  4.37it/s, loss=0.907, v_num=3]\u001b[A\n",
      "Epoch 3:  84%|████████████████████████████████████████████████████████████████████████▎             | 132/157 [00:46<00:08,  2.84it/s, loss=0.919, v_num=3]\u001b[A\n",
      "Validation: 0it [00:00, ?it/s]\u001b[A\n",
      "Validation DataLoader 0:   0%|                                                                                                      | 0/25 [00:00<?, ?it/s]\u001b[A\n",
      "Epoch 3:  85%|████████████████████████████████████████████████████████████████████████▊             | 133/157 [00:46<00:08,  2.86it/s, loss=0.919, v_num=3]\u001b[A\n",
      "Epoch 3:  85%|█████████████████████████████████████████████████████████████████████████▍            | 134/157 [00:46<00:07,  2.88it/s, loss=0.919, v_num=3]\u001b[A\n",
      "Epoch 3:  86%|█████████████████████████████████████████████████████████████████████████▉            | 135/157 [00:46<00:07,  2.90it/s, loss=0.919, v_num=3]\u001b[A\n",
      "Epoch 3:  87%|██████████████████████████████████████████████████████████████████████████▍           | 136/157 [00:46<00:07,  2.92it/s, loss=0.919, v_num=3]\u001b[A\n",
      "Epoch 3:  87%|███████████████████████████████████████████████████████████████████████████           | 137/157 [00:46<00:06,  2.94it/s, loss=0.919, v_num=3]\u001b[A\n",
      "Epoch 3:  88%|███████████████████████████████████████████████████████████████████████████▌          | 138/157 [00:46<00:06,  2.96it/s, loss=0.919, v_num=3]\u001b[A\n",
      "Epoch 3:  89%|████████████████████████████████████████████████████████████████████████████▏         | 139/157 [00:46<00:06,  2.98it/s, loss=0.919, v_num=3]\u001b[A\n",
      "Epoch 3:  89%|████████████████████████████████████████████████████████████████████████████▋         | 140/157 [00:46<00:05,  3.00it/s, loss=0.919, v_num=3]\u001b[A\n",
      "Epoch 3:  90%|█████████████████████████████████████████████████████████████████████████████▏        | 141/157 [00:46<00:05,  3.02it/s, loss=0.919, v_num=3]\u001b[A\n",
      "Epoch 3:  90%|█████████████████████████████████████████████████████████████████████████████▊        | 142/157 [00:46<00:04,  3.04it/s, loss=0.919, v_num=3]\u001b[A\n",
      "Epoch 3:  91%|██████████████████████████████████████████████████████████████████████████████▎       | 143/157 [00:46<00:04,  3.06it/s, loss=0.919, v_num=3]\u001b[A\n",
      "Epoch 3:  92%|██████████████████████████████████████████████████████████████████████████████▉       | 144/157 [00:46<00:04,  3.08it/s, loss=0.919, v_num=3]\u001b[A\n",
      "Epoch 3:  92%|███████████████████████████████████████████████████████████████████████████████▍      | 145/157 [00:46<00:03,  3.10it/s, loss=0.919, v_num=3]\u001b[A\n",
      "Epoch 3:  93%|███████████████████████████████████████████████████████████████████████████████▉      | 146/157 [00:46<00:03,  3.12it/s, loss=0.919, v_num=3]\u001b[A\n",
      "Epoch 3:  94%|████████████████████████████████████████████████████████████████████████████████▌     | 147/157 [00:46<00:03,  3.14it/s, loss=0.919, v_num=3]\u001b[A\n",
      "Epoch 3:  94%|█████████████████████████████████████████████████████████████████████████████████     | 148/157 [00:46<00:02,  3.16it/s, loss=0.919, v_num=3]\u001b[A\n",
      "Epoch 3:  95%|█████████████████████████████████████████████████████████████████████████████████▌    | 149/157 [00:46<00:02,  3.18it/s, loss=0.919, v_num=3]\u001b[A\n",
      "Epoch 3:  96%|██████████████████████████████████████████████████████████████████████████████████▏   | 150/157 [00:46<00:02,  3.20it/s, loss=0.919, v_num=3]\u001b[A\n"
     ]
    },
    {
     "name": "stdout",
     "output_type": "stream",
     "text": [
      "Epoch 3:  96%|██████████████████████████████████████████████████████████████████████████████████▋   | 151/157 [00:46<00:01,  3.22it/s, loss=0.919, v_num=3]\u001b[A\n",
      "Epoch 3:  97%|███████████████████████████████████████████████████████████████████████████████████▎  | 152/157 [00:46<00:01,  3.24it/s, loss=0.919, v_num=3]\u001b[A\n",
      "Epoch 3:  97%|███████████████████████████████████████████████████████████████████████████████████▊  | 153/157 [00:46<00:01,  3.26it/s, loss=0.919, v_num=3]\u001b[A\n",
      "Epoch 3:  98%|████████████████████████████████████████████████████████████████████████████████████▎ | 154/157 [00:46<00:00,  3.28it/s, loss=0.919, v_num=3]\u001b[A\n",
      "Epoch 3:  99%|████████████████████████████████████████████████████████████████████████████████████▉ | 155/157 [00:47<00:00,  3.30it/s, loss=0.919, v_num=3]\u001b[A\n",
      "Epoch 3:  99%|█████████████████████████████████████████████████████████████████████████████████████▍| 156/157 [00:47<00:00,  3.32it/s, loss=0.919, v_num=3]\u001b[A\n",
      "Epoch 3: 100%|██████████████████████████████████████████████████████████████████████████████████████| 157/157 [00:47<00:00,  3.34it/s, loss=0.919, v_num=3]\u001b[A\n",
      "Epoch 4:  84%|████████████████████████████████████████████████████████████████████████▎             | 132/157 [00:57<00:10,  2.29it/s, loss=0.844, v_num=3]\u001b[A\n",
      "Validation: 0it [00:00, ?it/s]\u001b[A\n",
      "Validation DataLoader 0:   0%|                                                                                                      | 0/25 [00:00<?, ?it/s]\u001b[A\n",
      "Epoch 4:  85%|████████████████████████████████████████████████████████████████████████▊             | 133/157 [00:57<00:10,  2.30it/s, loss=0.844, v_num=3]\u001b[A\n",
      "Epoch 4:  85%|█████████████████████████████████████████████████████████████████████████▍            | 134/157 [00:57<00:09,  2.32it/s, loss=0.844, v_num=3]\u001b[A\n",
      "Epoch 4:  86%|█████████████████████████████████████████████████████████████████████████▉            | 135/157 [00:57<00:09,  2.34it/s, loss=0.844, v_num=3]\u001b[A\n",
      "Epoch 4:  87%|██████████████████████████████████████████████████████████████████████████▍           | 136/157 [00:57<00:08,  2.35it/s, loss=0.844, v_num=3]\u001b[A\n",
      "Epoch 4:  87%|███████████████████████████████████████████████████████████████████████████           | 137/157 [00:57<00:08,  2.37it/s, loss=0.844, v_num=3]\u001b[A\n",
      "Epoch 4:  88%|███████████████████████████████████████████████████████████████████████████▌          | 138/157 [00:57<00:07,  2.39it/s, loss=0.844, v_num=3]\u001b[A\n",
      "Epoch 4:  89%|████████████████████████████████████████████████████████████████████████████▏         | 139/157 [00:57<00:07,  2.40it/s, loss=0.844, v_num=3]\u001b[A\n",
      "Epoch 4:  89%|████████████████████████████████████████████████████████████████████████████▋         | 140/157 [00:57<00:07,  2.42it/s, loss=0.844, v_num=3]\u001b[A\n",
      "Epoch 4:  90%|█████████████████████████████████████████████████████████████████████████████▏        | 141/157 [00:57<00:06,  2.43it/s, loss=0.844, v_num=3]\u001b[A\n",
      "Epoch 4:  90%|█████████████████████████████████████████████████████████████████████████████▊        | 142/157 [00:57<00:06,  2.45it/s, loss=0.844, v_num=3]\u001b[A\n",
      "Epoch 4:  91%|██████████████████████████████████████████████████████████████████████████████▎       | 143/157 [00:57<00:05,  2.47it/s, loss=0.844, v_num=3]\u001b[A\n",
      "Epoch 4:  92%|██████████████████████████████████████████████████████████████████████████████▉       | 144/157 [00:57<00:05,  2.48it/s, loss=0.844, v_num=3]\u001b[A\n",
      "Epoch 4:  92%|███████████████████████████████████████████████████████████████████████████████▍      | 145/157 [00:58<00:04,  2.50it/s, loss=0.844, v_num=3]\u001b[A\n",
      "Epoch 4:  93%|███████████████████████████████████████████████████████████████████████████████▉      | 146/157 [00:58<00:04,  2.52it/s, loss=0.844, v_num=3]\u001b[A\n",
      "Epoch 4:  94%|████████████████████████████████████████████████████████████████████████████████▌     | 147/157 [00:58<00:03,  2.53it/s, loss=0.844, v_num=3]\u001b[A\n",
      "Epoch 4:  94%|█████████████████████████████████████████████████████████████████████████████████     | 148/157 [00:58<00:03,  2.55it/s, loss=0.844, v_num=3]\u001b[A\n",
      "Epoch 4:  95%|█████████████████████████████████████████████████████████████████████████████████▌    | 149/157 [00:58<00:03,  2.57it/s, loss=0.844, v_num=3]\u001b[A\n",
      "Epoch 4:  96%|██████████████████████████████████████████████████████████████████████████████████▏   | 150/157 [00:58<00:02,  2.58it/s, loss=0.844, v_num=3]\u001b[A\n",
      "Epoch 4:  96%|██████████████████████████████████████████████████████████████████████████████████▋   | 151/157 [00:58<00:02,  2.60it/s, loss=0.844, v_num=3]\u001b[A\n",
      "Epoch 4:  97%|███████████████████████████████████████████████████████████████████████████████████▎  | 152/157 [00:58<00:01,  2.61it/s, loss=0.844, v_num=3]\u001b[A\n",
      "Epoch 4:  97%|███████████████████████████████████████████████████████████████████████████████████▊  | 153/157 [00:58<00:01,  2.63it/s, loss=0.844, v_num=3]\u001b[A\n",
      "Epoch 4:  98%|████████████████████████████████████████████████████████████████████████████████████▎ | 154/157 [00:58<00:01,  2.65it/s, loss=0.844, v_num=3]\u001b[A\n",
      "Epoch 4:  99%|████████████████████████████████████████████████████████████████████████████████████▉ | 155/157 [00:58<00:00,  2.66it/s, loss=0.844, v_num=3]\u001b[A\n",
      "Epoch 4:  99%|█████████████████████████████████████████████████████████████████████████████████████▍| 156/157 [00:58<00:00,  2.68it/s, loss=0.844, v_num=3]\u001b[A\n",
      "Epoch 4: 100%|██████████████████████████████████████████████████████████████████████████████████████| 157/157 [00:58<00:00,  2.70it/s, loss=0.844, v_num=3]\u001b[A\n",
      "Testing DataLoader 0: 100%|████████████████████████████████████████████████████████████████████████████████████████████████| 19/19 [00:00<00:00, 56.21it/s]\u001b[A\n"
     ]
    },
    {
     "data": {
      "text/html": [
       "<pre style=\"white-space:pre;overflow-x:auto;line-height:normal;font-family:Menlo,'DejaVu Sans Mono',consolas,'Courier New',monospace\">┏━━━━━━━━━━━━━━━━━━━━━━━━━━━┳━━━━━━━━━━━━━━━━━━━━━━━━━━━┓\n",
       "┃<span style=\"font-weight: bold\">        Test metric        </span>┃<span style=\"font-weight: bold\">       DataLoader 0        </span>┃\n",
       "┡━━━━━━━━━━━━━━━━━━━━━━━━━━━╇━━━━━━━━━━━━━━━━━━━━━━━━━━━┩\n",
       "│<span style=\"color: #008080; text-decoration-color: #008080\">         test_acc          </span>│<span style=\"color: #800080; text-decoration-color: #800080\">    0.16438356041908264    </span>│\n",
       "└───────────────────────────┴───────────────────────────┘\n",
       "</pre>\n"
      ],
      "text/plain": [
       "┏━━━━━━━━━━━━━━━━━━━━━━━━━━━┳━━━━━━━━━━━━━━━━━━━━━━━━━━━┓\n",
       "┃\u001b[1m \u001b[0m\u001b[1m       Test metric       \u001b[0m\u001b[1m \u001b[0m┃\u001b[1m \u001b[0m\u001b[1m      DataLoader 0       \u001b[0m\u001b[1m \u001b[0m┃\n",
       "┡━━━━━━━━━━━━━━━━━━━━━━━━━━━╇━━━━━━━━━━━━━━━━━━━━━━━━━━━┩\n",
       "│\u001b[36m \u001b[0m\u001b[36m        test_acc         \u001b[0m\u001b[36m \u001b[0m│\u001b[35m \u001b[0m\u001b[35m   0.16438356041908264   \u001b[0m\u001b[35m \u001b[0m│\n",
       "└───────────────────────────┴───────────────────────────┘\n"
      ]
     },
     "metadata": {},
     "output_type": "display_data"
    },
    {
     "name": "stdout",
     "output_type": "stream",
     "text": [
      "\n",
      "*************KFOLD 2*************\n"
     ]
    },
    {
     "name": "stderr",
     "output_type": "stream",
     "text": [
      "GPU available: False, used: False\n",
      "TPU available: False, using: 0 TPU cores\n",
      "IPU available: False, using: 0 IPUs\n",
      "HPU available: False, using: 0 HPUs\n",
      "\n",
      "  | Name       | Type          | Params\n",
      "---------------------------------------------\n",
      "0 | rnn1       | LSTM          | 24.6 K\n",
      "1 | attention1 | SelfAttention | 4.2 K \n",
      "2 | rnn2       | LSTM          | 33.3 K\n",
      "3 | attention2 | SelfAttention | 4.2 K \n",
      "4 | seq_1      | Sequential    | 8.6 K \n",
      "5 | seq_2      | Sequential    | 8.6 K \n",
      "6 | classifier | Linear        | 1.2 K \n",
      "---------------------------------------------\n",
      "84.6 K    Trainable params\n",
      "0         Non-trainable params\n",
      "84.6 K    Total params\n",
      "0.338     Total estimated model params size (MB)\n"
     ]
    },
    {
     "name": "stdout",
     "output_type": "stream",
     "text": [
      "Testing DataLoader 0: 100%|████████████████████████████████████████████████████████████████████████████████████████████████| 19/19 [00:00<00:00, 59.72it/s]"
     ]
    },
    {
     "name": "stderr",
     "output_type": "stream",
     "text": [
      "GPU available: False, used: False\n",
      "TPU available: False, using: 0 TPU cores\n",
      "IPU available: False, using: 0 IPUs\n",
      "HPU available: False, using: 0 HPUs\n",
      "\n",
      "  | Name       | Type          | Params\n",
      "---------------------------------------------\n",
      "0 | rnn1       | LSTM          | 24.6 K\n",
      "1 | attention1 | SelfAttention | 4.2 K \n",
      "2 | rnn2       | LSTM          | 33.3 K\n",
      "3 | attention2 | SelfAttention | 4.2 K \n",
      "4 | seq_1      | Sequential    | 8.6 K \n",
      "5 | seq_2      | Sequential    | 8.6 K \n",
      "6 | classifier | Linear        | 1.2 K \n",
      "---------------------------------------------\n",
      "84.6 K    Trainable params\n",
      "0         Non-trainable params\n",
      "84.6 K    Total params\n",
      "0.338     Total estimated model params size (MB)\n"
     ]
    },
    {
     "name": "stdout",
     "output_type": "stream",
     "text": [
      "\n",
      "\n",
      "*************KFOLD 3*************\n",
      "Testing DataLoader 0:  50%|████████████████████████████████████████████████▌                                                | 9/18 [00:00<00:00, 55.92it/s]"
     ]
    },
    {
     "name": "stderr",
     "output_type": "stream",
     "text": [
      "GPU available: False, used: False\n",
      "TPU available: False, using: 0 TPU cores\n",
      "IPU available: False, using: 0 IPUs\n",
      "HPU available: False, using: 0 HPUs\n",
      "\n",
      "  | Name       | Type          | Params\n",
      "---------------------------------------------\n",
      "0 | rnn1       | LSTM          | 24.6 K\n",
      "1 | attention1 | SelfAttention | 4.2 K \n",
      "2 | rnn2       | LSTM          | 33.3 K\n",
      "3 | attention2 | SelfAttention | 4.2 K \n",
      "4 | seq_1      | Sequential    | 8.6 K \n",
      "5 | seq_2      | Sequential    | 8.6 K \n",
      "6 | classifier | Linear        | 1.2 K \n",
      "---------------------------------------------\n",
      "84.6 K    Trainable params\n",
      "0         Non-trainable params\n",
      "84.6 K    Total params\n",
      "0.338     Total estimated model params size (MB)\n"
     ]
    },
    {
     "name": "stdout",
     "output_type": "stream",
     "text": [
      "\n",
      "*************KFOLD 4*************\n",
      "Testing DataLoader 0: 100%|████████████████████████████████████████████████████████████████████████████████████████████████| 18/18 [00:00<00:00, 55.23it/s]\n"
     ]
    },
    {
     "data": {
      "text/html": [
       "<pre style=\"white-space:pre;overflow-x:auto;line-height:normal;font-family:Menlo,'DejaVu Sans Mono',consolas,'Courier New',monospace\">┏━━━━━━━━━━━━━━━━━━━━━━━━━━━┳━━━━━━━━━━━━━━━━━━━━━━━━━━━┓\n",
       "┃<span style=\"font-weight: bold\">        Test metric        </span>┃<span style=\"font-weight: bold\">       DataLoader 0        </span>┃\n",
       "┡━━━━━━━━━━━━━━━━━━━━━━━━━━━╇━━━━━━━━━━━━━━━━━━━━━━━━━━━┩\n",
       "│<span style=\"color: #008080; text-decoration-color: #008080\">         test_acc          </span>│<span style=\"color: #800080; text-decoration-color: #800080\">    0.1690140813589096     </span>│\n",
       "└───────────────────────────┴───────────────────────────┘\n",
       "</pre>\n"
      ],
      "text/plain": [
       "┏━━━━━━━━━━━━━━━━━━━━━━━━━━━┳━━━━━━━━━━━━━━━━━━━━━━━━━━━┓\n",
       "┃\u001b[1m \u001b[0m\u001b[1m       Test metric       \u001b[0m\u001b[1m \u001b[0m┃\u001b[1m \u001b[0m\u001b[1m      DataLoader 0       \u001b[0m\u001b[1m \u001b[0m┃\n",
       "┡━━━━━━━━━━━━━━━━━━━━━━━━━━━╇━━━━━━━━━━━━━━━━━━━━━━━━━━━┩\n",
       "│\u001b[36m \u001b[0m\u001b[36m        test_acc         \u001b[0m\u001b[36m \u001b[0m│\u001b[35m \u001b[0m\u001b[35m   0.1690140813589096    \u001b[0m\u001b[35m \u001b[0m│\n",
       "└───────────────────────────┴───────────────────────────┘\n"
      ]
     },
     "metadata": {},
     "output_type": "display_data"
    },
    {
     "name": "stderr",
     "output_type": "stream",
     "text": [
      "GPU available: False, used: False\n",
      "TPU available: False, using: 0 TPU cores\n",
      "IPU available: False, using: 0 IPUs\n",
      "HPU available: False, using: 0 HPUs\n",
      "\n",
      "  | Name       | Type          | Params\n",
      "---------------------------------------------\n",
      "0 | rnn1       | LSTM          | 24.6 K\n",
      "1 | attention1 | SelfAttention | 4.2 K \n",
      "2 | rnn2       | LSTM          | 33.3 K\n",
      "3 | attention2 | SelfAttention | 4.2 K \n",
      "4 | seq_1      | Sequential    | 8.6 K \n",
      "5 | seq_2      | Sequential    | 8.6 K \n",
      "6 | classifier | Linear        | 1.2 K \n",
      "---------------------------------------------\n",
      "84.6 K    Trainable params\n",
      "0         Non-trainable params\n",
      "84.6 K    Total params\n",
      "0.338     Total estimated model params size (MB)\n"
     ]
    },
    {
     "name": "stdout",
     "output_type": "stream",
     "text": [
      "\n",
      "*************KFOLD 5*************\n",
      "Testing DataLoader 0: 100%|████████████████████████████████████████████████████████████████████████████████████████████████| 18/18 [00:00<00:00, 59.87it/s]\n"
     ]
    },
    {
     "data": {
      "text/html": [
       "<pre style=\"white-space:pre;overflow-x:auto;line-height:normal;font-family:Menlo,'DejaVu Sans Mono',consolas,'Courier New',monospace\">┏━━━━━━━━━━━━━━━━━━━━━━━━━━━┳━━━━━━━━━━━━━━━━━━━━━━━━━━━┓\n",
       "┃<span style=\"font-weight: bold\">        Test metric        </span>┃<span style=\"font-weight: bold\">       DataLoader 0        </span>┃\n",
       "┡━━━━━━━━━━━━━━━━━━━━━━━━━━━╇━━━━━━━━━━━━━━━━━━━━━━━━━━━┩\n",
       "│<span style=\"color: #008080; text-decoration-color: #008080\">         test_acc          </span>│<span style=\"color: #800080; text-decoration-color: #800080\">    0.15714286267757416    </span>│\n",
       "└───────────────────────────┴───────────────────────────┘\n",
       "</pre>\n"
      ],
      "text/plain": [
       "┏━━━━━━━━━━━━━━━━━━━━━━━━━━━┳━━━━━━━━━━━━━━━━━━━━━━━━━━━┓\n",
       "┃\u001b[1m \u001b[0m\u001b[1m       Test metric       \u001b[0m\u001b[1m \u001b[0m┃\u001b[1m \u001b[0m\u001b[1m      DataLoader 0       \u001b[0m\u001b[1m \u001b[0m┃\n",
       "┡━━━━━━━━━━━━━━━━━━━━━━━━━━━╇━━━━━━━━━━━━━━━━━━━━━━━━━━━┩\n",
       "│\u001b[36m \u001b[0m\u001b[36m        test_acc         \u001b[0m\u001b[36m \u001b[0m│\u001b[35m \u001b[0m\u001b[35m   0.15714286267757416   \u001b[0m\u001b[35m \u001b[0m│\n",
       "└───────────────────────────┴───────────────────────────┘\n"
      ]
     },
     "metadata": {},
     "output_type": "display_data"
    },
    {
     "name": "stdout",
     "output_type": "stream",
     "text": [
      "\n",
      "*************KFOLD 6*************\n",
      "Epoch 0:  20%|█████████████████▉                                                                      | 32/157 [00:04<00:18,  6.79it/s, loss=1.79, v_num=4]\n",
      "Epoch 0:   1%|█▏                                                                                       | 2/158 [00:01<02:10,  1.20it/s, loss=1.79, v_num=5]\n",
      "Testing DataLoader 0:  50%|████████████████████████████████████████████████▌                                                | 9/18 [00:01<00:01,  6.08it/s]\n",
      "Epoch 0:   3%|██▎                                                                                       | 4/158 [00:01<00:48,  3.19it/s, loss=1.8, v_num=5]"
     ]
    },
    {
     "name": "stderr",
     "output_type": "stream",
     "text": [
      "GPU available: False, used: False\n",
      "TPU available: False, using: 0 TPU cores\n",
      "IPU available: False, using: 0 IPUs\n",
      "HPU available: False, using: 0 HPUs\n"
     ]
    },
    {
     "name": "stdout",
     "output_type": "stream",
     "text": [
      "\n"
     ]
    },
    {
     "name": "stderr",
     "output_type": "stream",
     "text": [
      "\n",
      "  | Name       | Type          | Params\n",
      "---------------------------------------------\n",
      "0 | rnn1       | LSTM          | 24.6 K\n",
      "1 | attention1 | SelfAttention | 4.2 K \n",
      "2 | rnn2       | LSTM          | 33.3 K\n",
      "3 | attention2 | SelfAttention | 4.2 K \n",
      "4 | seq_1      | Sequential    | 8.6 K \n",
      "5 | seq_2      | Sequential    | 8.6 K \n",
      "6 | classifier | Linear        | 1.2 K \n",
      "---------------------------------------------\n",
      "84.6 K    Trainable params\n",
      "0         Non-trainable params\n",
      "84.6 K    Total params\n",
      "0.338     Total estimated model params size (MB)\n"
     ]
    },
    {
     "name": "stdout",
     "output_type": "stream",
     "text": [
      "Testing DataLoader 0: 100%|████████████████████████████████████████████████████████████████████████████████████████████████| 18/18 [00:00<00:00, 58.87it/s]\n"
     ]
    },
    {
     "data": {
      "text/html": [
       "<pre style=\"white-space:pre;overflow-x:auto;line-height:normal;font-family:Menlo,'DejaVu Sans Mono',consolas,'Courier New',monospace\">┏━━━━━━━━━━━━━━━━━━━━━━━━━━━┳━━━━━━━━━━━━━━━━━━━━━━━━━━━┓\n",
       "┃<span style=\"font-weight: bold\">        Test metric        </span>┃<span style=\"font-weight: bold\">       DataLoader 0        </span>┃\n",
       "┡━━━━━━━━━━━━━━━━━━━━━━━━━━━╇━━━━━━━━━━━━━━━━━━━━━━━━━━━┩\n",
       "│<span style=\"color: #008080; text-decoration-color: #008080\">         test_acc          </span>│<span style=\"color: #800080; text-decoration-color: #800080\">    0.17391304671764374    </span>│\n",
       "└───────────────────────────┴───────────────────────────┘\n",
       "</pre>\n"
      ],
      "text/plain": [
       "┏━━━━━━━━━━━━━━━━━━━━━━━━━━━┳━━━━━━━━━━━━━━━━━━━━━━━━━━━┓\n",
       "┃\u001b[1m \u001b[0m\u001b[1m       Test metric       \u001b[0m\u001b[1m \u001b[0m┃\u001b[1m \u001b[0m\u001b[1m      DataLoader 0       \u001b[0m\u001b[1m \u001b[0m┃\n",
       "┡━━━━━━━━━━━━━━━━━━━━━━━━━━━╇━━━━━━━━━━━━━━━━━━━━━━━━━━━┩\n",
       "│\u001b[36m \u001b[0m\u001b[36m        test_acc         \u001b[0m\u001b[36m \u001b[0m│\u001b[35m \u001b[0m\u001b[35m   0.17391304671764374   \u001b[0m\u001b[35m \u001b[0m│\n",
       "└───────────────────────────┴───────────────────────────┘\n"
      ]
     },
     "metadata": {},
     "output_type": "display_data"
    },
    {
     "name": "stderr",
     "output_type": "stream",
     "text": [
      "GPU available: False, used: False\n",
      "TPU available: False, using: 0 TPU cores\n",
      "IPU available: False, using: 0 IPUs\n",
      "HPU available: False, using: 0 HPUs\n"
     ]
    },
    {
     "name": "stdout",
     "output_type": "stream",
     "text": [
      "\n",
      "*************KFOLD 7*************\n"
     ]
    },
    {
     "name": "stderr",
     "output_type": "stream",
     "text": [
      "\n",
      "  | Name       | Type          | Params\n",
      "---------------------------------------------\n",
      "0 | rnn1       | LSTM          | 24.6 K\n",
      "1 | attention1 | SelfAttention | 4.2 K \n",
      "2 | rnn2       | LSTM          | 33.3 K\n",
      "3 | attention2 | SelfAttention | 4.2 K \n",
      "4 | seq_1      | Sequential    | 8.6 K \n",
      "5 | seq_2      | Sequential    | 8.6 K \n",
      "6 | classifier | Linear        | 1.2 K \n",
      "---------------------------------------------\n",
      "84.6 K    Trainable params\n",
      "0         Non-trainable params\n",
      "84.6 K    Total params\n",
      "0.338     Total estimated model params size (MB)\n"
     ]
    },
    {
     "name": "stdout",
     "output_type": "stream",
     "text": [
      "Testing DataLoader 0: 100%|████████████████████████████████████████████████████████████████████████████████████████████████| 18/18 [00:00<00:00, 58.14it/s]\n"
     ]
    },
    {
     "data": {
      "text/html": [
       "<pre style=\"white-space:pre;overflow-x:auto;line-height:normal;font-family:Menlo,'DejaVu Sans Mono',consolas,'Courier New',monospace\">┏━━━━━━━━━━━━━━━━━━━━━━━━━━━┳━━━━━━━━━━━━━━━━━━━━━━━━━━━┓\n",
       "┃<span style=\"font-weight: bold\">        Test metric        </span>┃<span style=\"font-weight: bold\">       DataLoader 0        </span>┃\n",
       "┡━━━━━━━━━━━━━━━━━━━━━━━━━━━╇━━━━━━━━━━━━━━━━━━━━━━━━━━━┩\n",
       "│<span style=\"color: #008080; text-decoration-color: #008080\">         test_acc          </span>│<span style=\"color: #800080; text-decoration-color: #800080\">    0.17391304671764374    </span>│\n",
       "└───────────────────────────┴───────────────────────────┘\n",
       "</pre>\n"
      ],
      "text/plain": [
       "┏━━━━━━━━━━━━━━━━━━━━━━━━━━━┳━━━━━━━━━━━━━━━━━━━━━━━━━━━┓\n",
       "┃\u001b[1m \u001b[0m\u001b[1m       Test metric       \u001b[0m\u001b[1m \u001b[0m┃\u001b[1m \u001b[0m\u001b[1m      DataLoader 0       \u001b[0m\u001b[1m \u001b[0m┃\n",
       "┡━━━━━━━━━━━━━━━━━━━━━━━━━━━╇━━━━━━━━━━━━━━━━━━━━━━━━━━━┩\n",
       "│\u001b[36m \u001b[0m\u001b[36m        test_acc         \u001b[0m\u001b[36m \u001b[0m│\u001b[35m \u001b[0m\u001b[35m   0.17391304671764374   \u001b[0m\u001b[35m \u001b[0m│\n",
       "└───────────────────────────┴───────────────────────────┘\n"
      ]
     },
     "metadata": {},
     "output_type": "display_data"
    },
    {
     "name": "stderr",
     "output_type": "stream",
     "text": [
      "GPU available: False, used: False\n",
      "TPU available: False, using: 0 TPU cores\n",
      "IPU available: False, using: 0 IPUs\n",
      "HPU available: False, using: 0 HPUs\n",
      "\n",
      "  | Name       | Type          | Params\n",
      "---------------------------------------------\n",
      "0 | rnn1       | LSTM          | 24.6 K\n",
      "1 | attention1 | SelfAttention | 4.2 K \n",
      "2 | rnn2       | LSTM          | 33.3 K\n",
      "3 | attention2 | SelfAttention | 4.2 K \n",
      "4 | seq_1      | Sequential    | 8.6 K \n",
      "5 | seq_2      | Sequential    | 8.6 K \n",
      "6 | classifier | Linear        | 1.2 K \n",
      "---------------------------------------------\n",
      "84.6 K    Trainable params\n",
      "0         Non-trainable params\n",
      "84.6 K    Total params\n",
      "0.338     Total estimated model params size (MB)\n"
     ]
    },
    {
     "name": "stdout",
     "output_type": "stream",
     "text": [
      "\n",
      "*************KFOLD 8*************\n",
      "Testing DataLoader 0: 100%|████████████████████████████████████████████████████████████████████████████████████████████████| 17/17 [00:00<00:00, 60.06it/s]\n"
     ]
    },
    {
     "data": {
      "text/html": [
       "<pre style=\"white-space:pre;overflow-x:auto;line-height:normal;font-family:Menlo,'DejaVu Sans Mono',consolas,'Courier New',monospace\">┏━━━━━━━━━━━━━━━━━━━━━━━━━━━┳━━━━━━━━━━━━━━━━━━━━━━━━━━━┓\n",
       "┃<span style=\"font-weight: bold\">        Test metric        </span>┃<span style=\"font-weight: bold\">       DataLoader 0        </span>┃\n",
       "┡━━━━━━━━━━━━━━━━━━━━━━━━━━━╇━━━━━━━━━━━━━━━━━━━━━━━━━━━┩\n",
       "│<span style=\"color: #008080; text-decoration-color: #008080\">         test_acc          </span>│<span style=\"color: #800080; text-decoration-color: #800080\">    0.1492537260055542     </span>│\n",
       "└───────────────────────────┴───────────────────────────┘\n",
       "</pre>\n"
      ],
      "text/plain": [
       "┏━━━━━━━━━━━━━━━━━━━━━━━━━━━┳━━━━━━━━━━━━━━━━━━━━━━━━━━━┓\n",
       "┃\u001b[1m \u001b[0m\u001b[1m       Test metric       \u001b[0m\u001b[1m \u001b[0m┃\u001b[1m \u001b[0m\u001b[1m      DataLoader 0       \u001b[0m\u001b[1m \u001b[0m┃\n",
       "┡━━━━━━━━━━━━━━━━━━━━━━━━━━━╇━━━━━━━━━━━━━━━━━━━━━━━━━━━┩\n",
       "│\u001b[36m \u001b[0m\u001b[36m        test_acc         \u001b[0m\u001b[36m \u001b[0m│\u001b[35m \u001b[0m\u001b[35m   0.1492537260055542    \u001b[0m\u001b[35m \u001b[0m│\n",
       "└───────────────────────────┴───────────────────────────┘\n"
      ]
     },
     "metadata": {},
     "output_type": "display_data"
    },
    {
     "name": "stderr",
     "output_type": "stream",
     "text": [
      "GPU available: False, used: False\n",
      "TPU available: False, using: 0 TPU cores\n",
      "IPU available: False, using: 0 IPUs\n",
      "HPU available: False, using: 0 HPUs\n",
      "\n",
      "  | Name       | Type          | Params\n",
      "---------------------------------------------\n",
      "0 | rnn1       | LSTM          | 24.6 K\n",
      "1 | attention1 | SelfAttention | 4.2 K \n",
      "2 | rnn2       | LSTM          | 33.3 K\n",
      "3 | attention2 | SelfAttention | 4.2 K \n",
      "4 | seq_1      | Sequential    | 8.6 K \n",
      "5 | seq_2      | Sequential    | 8.6 K \n",
      "6 | classifier | Linear        | 1.2 K \n",
      "---------------------------------------------\n",
      "84.6 K    Trainable params\n",
      "0         Non-trainable params\n",
      "84.6 K    Total params\n",
      "0.338     Total estimated model params size (MB)\n"
     ]
    },
    {
     "name": "stdout",
     "output_type": "stream",
     "text": [
      "\n",
      "*************KFOLD 9*************\n",
      "Testing DataLoader 0:  53%|███████████████████████████████████████████████████▎                                             | 9/17 [00:00<00:00, 54.78it/s]"
     ]
    },
    {
     "name": "stderr",
     "output_type": "stream",
     "text": [
      "GPU available: False, used: False\n",
      "TPU available: False, using: 0 TPU cores\n",
      "IPU available: False, using: 0 IPUs\n",
      "HPU available: False, using: 0 HPUs\n",
      "\n",
      "  | Name       | Type          | Params\n",
      "---------------------------------------------\n",
      "0 | rnn1       | LSTM          | 24.6 K\n",
      "1 | attention1 | SelfAttention | 4.2 K \n",
      "2 | rnn2       | LSTM          | 33.3 K\n",
      "3 | attention2 | SelfAttention | 4.2 K \n",
      "4 | seq_1      | Sequential    | 8.6 K \n",
      "5 | seq_2      | Sequential    | 8.6 K \n",
      "6 | classifier | Linear        | 1.2 K \n",
      "---------------------------------------------\n",
      "84.6 K    Trainable params\n",
      "0         Non-trainable params\n",
      "84.6 K    Total params\n",
      "0.338     Total estimated model params size (MB)\n"
     ]
    },
    {
     "name": "stdout",
     "output_type": "stream",
     "text": [
      "\n",
      "*************KFOLD 10*************\n",
      "Testing DataLoader 0:  47%|█████████████████████████████████████████████▋                                                   | 8/17 [00:00<00:00, 57.15it/s]"
     ]
    }
   ],
   "source": [
    "from tqdm.auto import tqdm\n",
    "from pytorch_lightning.callbacks.early_stopping import EarlyStopping\n",
    "# from lightning.pytorch.callbacks.early_stopping import EarlyStopping\n",
    "\n",
    "batch_size = 4\n",
    "patience = 20\n",
    "\n",
    "all_test = []\n",
    "all_pred = []\n",
    "loss_all_folds = []\n",
    "\n",
    "# kfold_train_test_index_list = [kfold_train_test_index_list[0]]\n",
    "\n",
    "for i, (train_index, val_index, test_index) in enumerate(kfold_train_test_index_list):\n",
    "    print(f\"\\n*************KFOLD {i + 1}*************\")\n",
    "    \n",
    "    train_dataset = CustomDataset(features, labels, train_index)\n",
    "    val_dataset = CustomDataset(features, labels, val_index)\n",
    "    test_dataset = CustomDataset(features, labels, test_index)\n",
    "\n",
    "    train_dataloader = DataLoader(\n",
    "        train_dataset, \n",
    "        batch_size=batch_size,\n",
    "        num_workers=0, # number of subprocesses to use for data loading\n",
    "        shuffle=True)\n",
    "    \n",
    "    val_dataloader = DataLoader(\n",
    "        val_dataset, \n",
    "        batch_size=batch_size,\n",
    "        num_workers=0, # number of subprocesses to use for data loading\n",
    "        shuffle=False)\n",
    "    \n",
    "    test_dataloader = DataLoader(\n",
    "        test_dataset,\n",
    "        batch_size=batch_size,\n",
    "        num_workers=0, # number of subprocesses to use for data loading\n",
    "        shuffle=False)\n",
    "    \n",
    "    model = LSTMModel(hidden_size=64, input_size=feature_num, output_size=len(label_list))\n",
    "\n",
    "    trainer = pl.Trainer(callbacks=[EarlyStopping(monitor=\"val_loss\", patience=patience, mode=\"min\")])\n",
    "    trainer.fit(model, train_dataloader, val_dataloader)\n",
    "    trainer.test(model, test_dataloader)\n",
    "    "
   ]
  },
  {
   "cell_type": "code",
   "execution_count": null,
   "id": "a27f0fd1",
   "metadata": {},
   "outputs": [],
   "source": []
  }
 ],
 "metadata": {
  "kernelspec": {
   "display_name": "torch-gpu",
   "language": "python",
   "name": "torch-gpu"
  },
  "language_info": {
   "codemirror_mode": {
    "name": "ipython",
    "version": 3
   },
   "file_extension": ".py",
   "mimetype": "text/x-python",
   "name": "python",
   "nbconvert_exporter": "python",
   "pygments_lexer": "ipython3",
   "version": "3.8.13"
  }
 },
 "nbformat": 4,
 "nbformat_minor": 5
}
