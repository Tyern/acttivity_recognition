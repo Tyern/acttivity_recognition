{
 "cells": [
  {
   "cell_type": "code",
   "execution_count": 13,
   "metadata": {},
   "outputs": [],
   "source": [
    "import torch\n",
    "from torch import nn\n",
    "from torchinfo import summary\n",
    "\n",
    "from sklearn import tree\n",
    "from sklearn.metrics import confusion_matrix\n",
    "from sklearn.metrics import precision_recall_fscore_support\n",
    "from sklearn.model_selection import train_test_split\n",
    "from sklearn.preprocessing import StandardScaler\n",
    "from sklearn.metrics import accuracy_score, f1_score, precision_score, recall_score\n",
    "\n",
    "import lightning as L\n",
    "import torch.nn.functional as F\n",
    "from torch.utils.data import Dataset\n",
    "from torch.utils.data import DataLoader\n",
    "\n",
    "import torch.optim as optim\n",
    "\n",
    "from tqdm.auto import tqdm\n",
    "\n",
    "import seaborn as sns\n",
    "import matplotlib.pyplot as plt\n",
    "\n",
    "import pandas as pd\n",
    "import numpy  as np\n",
    "import tracemalloc \n",
    "\n",
    "import json\n",
    "import os\n",
    "import glob\n",
    "import pickle\n",
    "from itertools import combinations\n",
    "import gc\n",
    "import time\n",
    "import random\n",
    "import sys\n",
    "\n",
    "sys.path.insert(0, os.path.join(os.path.abspath(''), \"..\"))\n",
    "from model.builder import Classifier1DMaxPoolBNModel\n",
    "from datamodule.datamodule import DataModule, FFTDataModule\n",
    "from datamodule import SENSOR_NUM, eng_label_list\n",
    "\n",
    "import warnings\n",
    "warnings.filterwarnings(\"ignore\")"
   ]
  },
  {
   "cell_type": "code",
   "execution_count": 3,
   "metadata": {},
   "outputs": [
    {
     "name": "stderr",
     "output_type": "stream",
     "text": [
      "Seed set to 42\n"
     ]
    },
    {
     "data": {
      "text/plain": [
       "42"
      ]
     },
     "execution_count": 3,
     "metadata": {},
     "output_type": "execute_result"
    }
   ],
   "source": [
    "L.seed_everything(42)"
   ]
  },
  {
   "cell_type": "code",
   "execution_count": 44,
   "metadata": {},
   "outputs": [
    {
     "name": "stdout",
     "output_type": "stream",
     "text": [
      "../data/compgan_dataset/results/84_classify_fft/1_missing/user0/version_0/checkpoints/sample_epoch=209-step=16800-val_loss=0.096327.ckpt\n"
     ]
    }
   ],
   "source": [
    "missing = 6\n",
    "user = 0\n",
    "version = 0\n",
    "\n",
    "log_save_dir = os.path.join(\"../data/compgan_dataset/\", \"results\", \"84_classify_fft\")\n",
    "log_save_name = f\"{missing}_missing/user{user}\"\n",
    "\n",
    "ckpt_dir = os.path.join(log_save_dir, log_save_name, f\"version_{version}\", \"checkpoints\")\n",
    "weight_file = glob.glob(os.path.join(ckpt_dir, \"*.ckpt\"))[0]\n",
    "\n",
    "print(weight_file)"
   ]
  },
  {
   "cell_type": "code",
   "execution_count": 45,
   "metadata": {},
   "outputs": [
    {
     "name": "stdout",
     "output_type": "stream",
     "text": [
      "   | Name     | Type        | Params | In sizes      | Out sizes    \n",
      "--------------------------------------------------------------------------\n",
      "0  | cnn      | Sequential  | 87.6 K | [10, 42, 129] | [10, 128, 12]\n",
      "1  | cnn.0    | Conv1d      | 21.6 K | [10, 42, 129] | [10, 64, 41] \n",
      "2  | cnn.1    | BatchNorm1d | 128    | [10, 64, 41]  | [10, 64, 41] \n",
      "3  | cnn.2    | ReLU        | 0      | [10, 64, 41]  | [10, 64, 41] \n",
      "4  | cnn.3    | Conv1d      | 65.7 K | [10, 64, 41]  | [10, 128, 12]\n",
      "5  | cnn.4    | BatchNorm1d | 256    | [10, 128, 12] | [10, 128, 12]\n",
      "6  | cnn.5    | ReLU        | 0      | [10, 128, 12] | [10, 128, 12]\n",
      "7  | linear   | Sequential  | 1.9 M  | [10, 1536]    | [10, 10]     \n",
      "8  | linear.0 | Linear      | 1.6 M  | [10, 1536]    | [10, 1024]   \n",
      "9  | linear.1 | BatchNorm1d | 2.0 K  | [10, 1024]    | [10, 1024]   \n",
      "10 | linear.2 | ReLU        | 0      | [10, 1024]    | [10, 1024]   \n",
      "11 | linear.3 | Linear      | 262 K  | [10, 1024]    | [10, 256]    \n",
      "12 | linear.4 | BatchNorm1d | 512    | [10, 256]     | [10, 256]    \n",
      "13 | linear.5 | ReLU        | 0      | [10, 256]     | [10, 256]    \n",
      "14 | linear.6 | Linear      | 32.9 K | [10, 256]     | [10, 128]    \n",
      "15 | linear.7 | BatchNorm1d | 256    | [10, 128]     | [10, 128]    \n",
      "16 | linear.8 | ReLU        | 0      | [10, 128]     | [10, 128]    \n",
      "17 | linear.9 | Linear      | 1.3 K  | [10, 128]     | [10, 10]     \n",
      "--------------------------------------------------------------------------\n",
      "2.0 M     Trainable params\n",
      "0         Non-trainable params\n",
      "2.0 M     Total params\n",
      "7.844     Total estimated model params size (MB)\n"
     ]
    }
   ],
   "source": [
    "from lightning.pytorch.utilities.model_summary import ModelSummary\n",
    "\n",
    "net = Classifier1DMaxPoolBNModel.load_from_checkpoint(weight_file)\n",
    "\n",
    "model_summary = ModelSummary(net, max_depth=6)\n",
    "print(model_summary)"
   ]
  },
  {
   "cell_type": "code",
   "execution_count": 46,
   "metadata": {},
   "outputs": [],
   "source": [
    "# data_module = FFTDataModule(\n",
    "#     test_user=user, \n",
    "#     missing_sensor_numbers=missing,\n",
    "#     batch_size=512,\n",
    "#     test_mode=True)\n",
    "\n",
    "# data_module.setup(\"predict\")\n",
    "# print(len(data_module.test_dataset.missing_index_list))\n",
    "# print(data_module.test_dataset.missing_index_list)"
   ]
  },
  {
   "cell_type": "code",
   "execution_count": 47,
   "metadata": {},
   "outputs": [
    {
     "name": "stderr",
     "output_type": "stream",
     "text": [
      "GPU available: True (cuda), used: True\n",
      "TPU available: False, using: 0 TPU cores\n",
      "IPU available: False, using: 0 IPUs\n",
      "HPU available: False, using: 0 HPUs\n",
      "LOCAL_RANK: 0 - CUDA_VISIBLE_DEVICES: [0]\n"
     ]
    },
    {
     "name": "stdout",
     "output_type": "stream",
     "text": [
      "Testing DataLoader 0: 100%|██████████| 1/1 [00:00<00:00, 154.48it/s]\n",
      "────────────────────────────────────────────────────────────────────────────────────────────────────────────────────────\n",
      "       Test metric             DataLoader 0\n",
      "────────────────────────────────────────────────────────────────────────────────────────────────────────────────────────\n",
      "        test_acc            0.9626168012619019\n",
      "────────────────────────────────────────────────────────────────────────────────────────────────────────────────────────\n",
      "teardown\n"
     ]
    },
    {
     "name": "stderr",
     "output_type": "stream",
     "text": [
      "LOCAL_RANK: 0 - CUDA_VISIBLE_DEVICES: [0]\n"
     ]
    },
    {
     "name": "stdout",
     "output_type": "stream",
     "text": [
      "Predicting DataLoader 0: 100%|██████████| 1/1 [00:00<00:00, 307.07it/s]\n",
      "teardown\n"
     ]
    },
    {
     "name": "stderr",
     "output_type": "stream",
     "text": [
      "GPU available: True (cuda), used: True\n",
      "TPU available: False, using: 0 TPU cores\n",
      "IPU available: False, using: 0 IPUs\n",
      "HPU available: False, using: 0 HPUs\n",
      "LOCAL_RANK: 0 - CUDA_VISIBLE_DEVICES: [0]\n"
     ]
    },
    {
     "name": "stdout",
     "output_type": "stream",
     "text": [
      "Testing DataLoader 0: 100%|██████████| 3/3 [00:00<00:00, 217.44it/s]\n",
      "────────────────────────────────────────────────────────────────────────────────────────────────────────────────────────\n",
      "       Test metric             DataLoader 0\n",
      "────────────────────────────────────────────────────────────────────────────────────────────────────────────────────────\n",
      "        test_acc            0.9632843732833862\n",
      "────────────────────────────────────────────────────────────────────────────────────────────────────────────────────────\n",
      "teardown\n"
     ]
    },
    {
     "name": "stderr",
     "output_type": "stream",
     "text": [
      "LOCAL_RANK: 0 - CUDA_VISIBLE_DEVICES: [0]\n"
     ]
    },
    {
     "name": "stdout",
     "output_type": "stream",
     "text": [
      "Predicting DataLoader 0: 100%|██████████| 3/3 [00:00<00:00, 350.39it/s]\n",
      "teardown\n"
     ]
    },
    {
     "name": "stderr",
     "output_type": "stream",
     "text": [
      "GPU available: True (cuda), used: True\n",
      "TPU available: False, using: 0 TPU cores\n",
      "IPU available: False, using: 0 IPUs\n",
      "HPU available: False, using: 0 HPUs\n",
      "LOCAL_RANK: 0 - CUDA_VISIBLE_DEVICES: [0]\n"
     ]
    },
    {
     "name": "stdout",
     "output_type": "stream",
     "text": [
      "Testing DataLoader 0: 100%|██████████| 9/9 [00:00<00:00, 223.40it/s]\n",
      "────────────────────────────────────────────────────────────────────────────────────────────────────────────────────────\n",
      "       Test metric             DataLoader 0\n",
      "────────────────────────────────────────────────────────────────────────────────────────────────────────────────────────\n",
      "        test_acc            0.9619492888450623\n",
      "────────────────────────────────────────────────────────────────────────────────────────────────────────────────────────\n",
      "teardown\n"
     ]
    },
    {
     "name": "stderr",
     "output_type": "stream",
     "text": [
      "LOCAL_RANK: 0 - CUDA_VISIBLE_DEVICES: [0]\n"
     ]
    },
    {
     "name": "stdout",
     "output_type": "stream",
     "text": [
      "Predicting DataLoader 0: 100%|██████████| 9/9 [00:00<00:00, 348.42it/s]\n",
      "teardown\n"
     ]
    },
    {
     "name": "stderr",
     "output_type": "stream",
     "text": [
      "GPU available: True (cuda), used: True\n",
      "TPU available: False, using: 0 TPU cores\n",
      "IPU available: False, using: 0 IPUs\n",
      "HPU available: False, using: 0 HPUs\n",
      "LOCAL_RANK: 0 - CUDA_VISIBLE_DEVICES: [0]\n"
     ]
    },
    {
     "name": "stdout",
     "output_type": "stream",
     "text": [
      "Testing DataLoader 0: 100%|██████████| 15/15 [00:00<00:00, 222.06it/s]\n",
      "────────────────────────────────────────────────────────────────────────────────────────────────────────────────────────\n",
      "       Test metric             DataLoader 0\n",
      "────────────────────────────────────────────────────────────────────────────────────────────────────────────────────────\n",
      "        test_acc             0.945794403553009\n",
      "────────────────────────────────────────────────────────────────────────────────────────────────────────────────────────\n",
      "teardown\n"
     ]
    },
    {
     "name": "stderr",
     "output_type": "stream",
     "text": [
      "LOCAL_RANK: 0 - CUDA_VISIBLE_DEVICES: [0]\n"
     ]
    },
    {
     "name": "stdout",
     "output_type": "stream",
     "text": [
      "Predicting DataLoader 0: 100%|██████████| 15/15 [00:00<00:00, 238.47it/s]\n",
      "teardown\n"
     ]
    },
    {
     "name": "stderr",
     "output_type": "stream",
     "text": [
      "GPU available: True (cuda), used: True\n",
      "TPU available: False, using: 0 TPU cores\n",
      "IPU available: False, using: 0 IPUs\n",
      "HPU available: False, using: 0 HPUs\n",
      "LOCAL_RANK: 0 - CUDA_VISIBLE_DEVICES: [0]\n"
     ]
    },
    {
     "name": "stdout",
     "output_type": "stream",
     "text": [
      "Testing DataLoader 0: 100%|██████████| 15/15 [00:00<00:00, 200.60it/s]\n",
      "────────────────────────────────────────────────────────────────────────────────────────────────────────────────────────\n",
      "       Test metric             DataLoader 0\n",
      "────────────────────────────────────────────────────────────────────────────────────────────────────────────────────────\n",
      "        test_acc            0.8973297476768494\n",
      "────────────────────────────────────────────────────────────────────────────────────────────────────────────────────────\n",
      "teardown\n"
     ]
    },
    {
     "name": "stderr",
     "output_type": "stream",
     "text": [
      "LOCAL_RANK: 0 - CUDA_VISIBLE_DEVICES: [0]\n"
     ]
    },
    {
     "name": "stdout",
     "output_type": "stream",
     "text": [
      "Predicting DataLoader 0: 100%|██████████| 15/15 [00:00<00:00, 243.40it/s]\n",
      "teardown\n"
     ]
    },
    {
     "name": "stderr",
     "output_type": "stream",
     "text": [
      "GPU available: True (cuda), used: True\n",
      "TPU available: False, using: 0 TPU cores\n",
      "IPU available: False, using: 0 IPUs\n",
      "HPU available: False, using: 0 HPUs\n",
      "LOCAL_RANK: 0 - CUDA_VISIBLE_DEVICES: [0]\n"
     ]
    },
    {
     "name": "stdout",
     "output_type": "stream",
     "text": [
      "Testing DataLoader 0: 100%|██████████| 9/9 [00:00<00:00, 200.86it/s]\n",
      "────────────────────────────────────────────────────────────────────────────────────────────────────────────────────────\n",
      "       Test metric             DataLoader 0\n",
      "────────────────────────────────────────────────────────────────────────────────────────────────────────────────────────\n",
      "        test_acc            0.7794837355613708\n",
      "────────────────────────────────────────────────────────────────────────────────────────────────────────────────────────\n",
      "teardown\n"
     ]
    },
    {
     "name": "stderr",
     "output_type": "stream",
     "text": [
      "LOCAL_RANK: 0 - CUDA_VISIBLE_DEVICES: [0]\n"
     ]
    },
    {
     "name": "stdout",
     "output_type": "stream",
     "text": [
      "Predicting DataLoader 0: 100%|██████████| 9/9 [00:00<00:00, 235.77it/s]\n",
      "teardown\n"
     ]
    },
    {
     "name": "stderr",
     "output_type": "stream",
     "text": [
      "GPU available: True (cuda), used: True\n",
      "TPU available: False, using: 0 TPU cores\n",
      "IPU available: False, using: 0 IPUs\n",
      "HPU available: False, using: 0 HPUs\n",
      "LOCAL_RANK: 0 - CUDA_VISIBLE_DEVICES: [0]\n"
     ]
    },
    {
     "name": "stdout",
     "output_type": "stream",
     "text": [
      "Testing DataLoader 0: 100%|██████████| 3/3 [00:00<00:00, 168.24it/s]\n",
      "────────────────────────────────────────────────────────────────────────────────────────────────────────────────────────\n",
      "       Test metric             DataLoader 0\n",
      "────────────────────────────────────────────────────────────────────────────────────────────────────────────────────────\n",
      "        test_acc            0.5560747385025024\n",
      "────────────────────────────────────────────────────────────────────────────────────────────────────────────────────────\n",
      "teardown\n"
     ]
    },
    {
     "name": "stderr",
     "output_type": "stream",
     "text": [
      "LOCAL_RANK: 0 - CUDA_VISIBLE_DEVICES: [0]\n"
     ]
    },
    {
     "name": "stdout",
     "output_type": "stream",
     "text": [
      "Predicting DataLoader 0: 100%|██████████| 3/3 [00:00<00:00, 292.54it/s]\n",
      "teardown\n"
     ]
    }
   ],
   "source": [
    "pred_gt_dict = {}\n",
    "\n",
    "for missing_sensor_numbers in range(SENSOR_NUM):\n",
    "    # missing from 0 -> SENSOR_NUM - 1\n",
    "    data_module = FFTDataModule(\n",
    "        test_user=user, \n",
    "        missing_sensor_numbers=missing_sensor_numbers,\n",
    "        batch_size=512,\n",
    "        test_mode=True\n",
    "    )\n",
    "\n",
    "    trainer = L.Trainer()\n",
    "\n",
    "    trainer.test(model=net, datamodule=data_module)\n",
    "    output = trainer.predict(model=net, datamodule=data_module)\n",
    "    pred = torch.argmax(torch.concat(output), dim=1)\n",
    "    \n",
    "    data_module.setup(\"predict\")\n",
    "    gt = list(map(lambda x: x[1], iter(data_module.test_dataloader())))\n",
    "    \n",
    "    pred_ravel = pred.numpy()\n",
    "    gt_ravel = np.concatenate(list(map(lambda x: x.numpy(), gt)))\n",
    "    \n",
    "    pred_gt_dict[missing_sensor_numbers] = (pred_ravel, gt_ravel)"
   ]
  },
  {
   "cell_type": "code",
   "execution_count": 48,
   "metadata": {},
   "outputs": [],
   "source": [
    "\n",
    "def eval(gt_ravel, pred_ravel):\n",
    "    accuracy = accuracy_score(gt_ravel, pred_ravel)\n",
    "    print(\"Accuracy\", accuracy)\n",
    "\n",
    "    f1 = f1=f1_score(gt_ravel, pred_ravel, average=\"macro\")\n",
    "    print(\"F1\", f1)\n",
    "\n",
    "    cf = confusion_matrix(gt_ravel, pred_ravel)\n",
    "\n",
    "    print(cf)\n",
    "\n",
    "    s = sns.heatmap(cf, annot=True, fmt='g')\n",
    "    s.set(xlabel=\"Predict\", ylabel=\"Ground truth\", xticklabels=eng_label_list, yticklabels=eng_label_list)\n",
    "    plt.xticks(rotation=90)\n",
    "    plt.yticks(rotation=0)"
   ]
  },
  {
   "cell_type": "code",
   "execution_count": 64,
   "metadata": {},
   "outputs": [
    {
     "name": "stdout",
     "output_type": "stream",
     "text": [
      "Accuracy 0.9619492656875834\n",
      "F1 0.9523855335975545\n",
      "[[ 294    0    0    0    0    0    0    0    0    0]\n",
      " [   0  211    1    0    6    0    0   13    0    0]\n",
      " [   0    0  420    0    0    0    0    0    0    0]\n",
      " [   0    4    1  256   38   16    0    0    0    0]\n",
      " [   0    1    0    4  331    0    0    0    0    0]\n",
      " [   0    0    0   38    0  315    0    3    0    1]\n",
      " [   0    0    0    1    0    0  293    0    0    0]\n",
      " [   0    0    0    0    1    0    0  440    0    0]\n",
      " [   0    0   41    0    0    0    0    0  756    1]\n",
      " [   0    0    0    0    0    0    1    0    0 1007]]\n"
     ]
    },
    {
     "data": {
      "image/png": "[encoded data removed]",
      "text/plain": [
       "<Figure size 640x480 with 2 Axes>"
      ]
     },
     "metadata": {},
     "output_type": "display_data"
    }
   ],
   "source": [
    "pred_ravel, gt_ravel = pred_gt_dict[2]\n",
    "eval(gt_ravel, pred_ravel)"
   ]
  },
  {
   "cell_type": "code",
   "execution_count": null,
   "metadata": {},
   "outputs": [],
   "source": []
  }
 ],
 "metadata": {
  "interpreter": {
   "hash": "f3f15c77c882d8433ef1043b53db379ca3772938d44c39305f8b807ce25a312a"
  },
  "kernelspec": {
   "display_name": "Python 3.8.17 ('compgan': conda)",
   "language": "python",
   "name": "python3"
  },
  "language_info": {
   "codemirror_mode": {
    "name": "ipython",
    "version": 3
   },
   "file_extension": ".py",
   "mimetype": "text/x-python",
   "name": "python",
   "nbconvert_exporter": "python",
   "pygments_lexer": "ipython3",
   "version": "3.8.17"
  },
  "orig_nbformat": 4
 },
 "nbformat": 4,
 "nbformat_minor": 2
}
