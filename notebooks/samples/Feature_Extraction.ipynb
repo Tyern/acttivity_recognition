{
 "cells": [
  {
   "cell_type": "markdown",
   "id": "f4c7fda8",
   "metadata": {
    "id": "f4c7fda8"
   },
   "source": [
    "# スライディングウィンドウを用いた特徴量抽出\n",
    "ここでは、加速度データやアノテーションファイルに対して様々な処理をし、特徴量を抽出していただきます。  \n",
    "※Pythonプログラムの中でいくつかのモジュールを使用しています。\n",
    "コマンドプロンプトからJupyter Notebookを利用されている方は、  \n",
    "- Numpy\n",
    "- Pandas\n",
    "- Scipy\n",
    "- matplotlib\n",
    "\n",
    "をインストールしてください"
   ]
  },
  {
   "cell_type": "markdown",
   "id": "479e68eb",
   "metadata": {
    "id": "479e68eb"
   },
   "source": [
    "## 本章の構成  \n",
    "\n",
    "- 加速度データの処理\n",
    "- アノテーションデータの処理\n",
    "- アノテーションデータと加速度データの結合\n",
    "- 特徴量の抽出"
   ]
  },
  {
   "cell_type": "markdown",
   "id": "060858e0",
   "metadata": {
    "id": "060858e0"
   },
   "source": [
    "## 加速度データの処理"
   ]
  },
  {
   "cell_type": "markdown",
   "id": "935dc75f",
   "metadata": {
    "id": "935dc75f"
   },
   "source": [
    "### 加速度データの読み取り\n",
    "Pythonを用いて解析を行う場合、Numpyの配列やPandasのデータフレームを用いてデータを処理することが多いです。今回は、読み込んだCSVファイルのデータをPandasのデータフレームに変換しています。  \n",
    "自作したファイルを利用する場合、カンマに囲まれているファイル名を変更してください。"
   ]
  },
  {
   "cell_type": "code",
   "execution_count": 1,
   "id": "ff54ceec",
   "metadata": {
    "executionInfo": {
     "elapsed": 1972,
     "status": "ok",
     "timestamp": 1679993910246,
     "user": {
      "displayName": "大見士",
      "userId": "07111444960716721781"
     },
     "user_tz": -540
    },
    "id": "ff54ceec",
    "scrolled": true
   },
   "outputs": [],
   "source": [
    "import pandas as pd\n",
    "import numpy as np\n",
    "\n",
    "# csvの読み取り\n",
    "df= pd.read_csv(\"sample/Acc_sample.csv\")"
   ]
  },
  {
   "cell_type": "markdown",
   "id": "6ecb55b8",
   "metadata": {
    "id": "6ecb55b8"
   },
   "source": [
    "### 加速度データの中身\n",
    "shape関数でデータの行数と列数を確認してみましょう。  \n",
    "出力結果は(行数, 列数)となっています。"
   ]
  },
  {
   "cell_type": "code",
   "execution_count": 2,
   "id": "560a4efb",
   "metadata": {
    "colab": {
     "base_uri": "https://localhost:8080/"
    },
    "executionInfo": {
     "elapsed": 317,
     "status": "ok",
     "timestamp": 1679993912836,
     "user": {
      "displayName": "大見士",
      "userId": "07111444960716721781"
     },
     "user_tz": -540
    },
    "id": "560a4efb",
    "outputId": "2c454ff9-f1fe-437b-ca93-6dc1eff40499"
   },
   "outputs": [
    {
     "data": {
      "text/plain": [
       "(83402, 4)"
      ]
     },
     "execution_count": 2,
     "metadata": {},
     "output_type": "execute_result"
    }
   ],
   "source": [
    "df.shape"
   ]
  },
  {
   "cell_type": "markdown",
   "id": "fcb05d6d",
   "metadata": {
    "id": "fcb05d6d"
   },
   "source": [
    "次にhead関数を用いて加速度データがどのようなデータを含んでいるのか確認してみましょう。 DateTimeはデータを取得した年月日と0.001秒単位までの時間を示しています。そのため、〇〇〇〇△△□□〇〇△△□□×××の並びで、〇〇〇〇年△△月□□日 〇〇時△△分□□.×××秒にこのデータが摂られたことを示しています。 また、Ax、Ay、Azはそれぞれ3軸加速度センサにおけるx軸、y軸、z軸の値を示しています。"
   ]
  },
  {
   "cell_type": "code",
   "execution_count": 3,
   "id": "4c821947",
   "metadata": {
    "colab": {
     "base_uri": "https://localhost:8080/",
     "height": 206
    },
    "executionInfo": {
     "elapsed": 267,
     "status": "ok",
     "timestamp": 1679993917557,
     "user": {
      "displayName": "大見士",
      "userId": "07111444960716721781"
     },
     "user_tz": -540
    },
    "id": "4c821947",
    "outputId": "42b41824-f08d-4dae-9708-92bca469f622"
   },
   "outputs": [
    {
     "data": {
      "text/html": [
       "<div>\n",
       "<style scoped>\n",
       "    .dataframe tbody tr th:only-of-type {\n",
       "        vertical-align: middle;\n",
       "    }\n",
       "\n",
       "    .dataframe tbody tr th {\n",
       "        vertical-align: top;\n",
       "    }\n",
       "\n",
       "    .dataframe thead th {\n",
       "        text-align: right;\n",
       "    }\n",
       "</style>\n",
       "<table border=\"1\" class=\"dataframe\">\n",
       "  <thead>\n",
       "    <tr style=\"text-align: right;\">\n",
       "      <th></th>\n",
       "      <th>#DateTime</th>\n",
       "      <th>Ax</th>\n",
       "      <th>Ay</th>\n",
       "      <th>Az</th>\n",
       "    </tr>\n",
       "  </thead>\n",
       "  <tbody>\n",
       "    <tr>\n",
       "      <th>0</th>\n",
       "      <td>20210914152220720</td>\n",
       "      <td>-0.537475</td>\n",
       "      <td>6.081011</td>\n",
       "      <td>7.464201</td>\n",
       "    </tr>\n",
       "    <tr>\n",
       "      <th>1</th>\n",
       "      <td>20210914152220730</td>\n",
       "      <td>-0.480017</td>\n",
       "      <td>6.100163</td>\n",
       "      <td>7.540813</td>\n",
       "    </tr>\n",
       "    <tr>\n",
       "      <th>2</th>\n",
       "      <td>20210914152220739</td>\n",
       "      <td>-0.570993</td>\n",
       "      <td>6.277327</td>\n",
       "      <td>7.761069</td>\n",
       "    </tr>\n",
       "    <tr>\n",
       "      <th>3</th>\n",
       "      <td>20210914152220749</td>\n",
       "      <td>-0.757732</td>\n",
       "      <td>6.478431</td>\n",
       "      <td>7.914291</td>\n",
       "    </tr>\n",
       "    <tr>\n",
       "      <th>4</th>\n",
       "      <td>20210914152220759</td>\n",
       "      <td>-0.834343</td>\n",
       "      <td>6.578983</td>\n",
       "      <td>7.957386</td>\n",
       "    </tr>\n",
       "  </tbody>\n",
       "</table>\n",
       "</div>"
      ],
      "text/plain": [
       "           #DateTime        Ax        Ay        Az\n",
       "0  20210914152220720 -0.537475  6.081011  7.464201\n",
       "1  20210914152220730 -0.480017  6.100163  7.540813\n",
       "2  20210914152220739 -0.570993  6.277327  7.761069\n",
       "3  20210914152220749 -0.757732  6.478431  7.914291\n",
       "4  20210914152220759 -0.834343  6.578983  7.957386"
      ]
     },
     "execution_count": 3,
     "metadata": {},
     "output_type": "execute_result"
    }
   ],
   "source": [
    "df.head(5)"
   ]
  },
  {
   "cell_type": "markdown",
   "id": "561f14ee",
   "metadata": {
    "id": "561f14ee"
   },
   "source": [
    "### データの可視化\n",
    "せっかくなのでデータを可視化してみましょう。\n",
    "値が上下している部分としていない部分がはっきりしていることがわかります。\n",
    "恐らく値の上下が少ない部分は立っているなど動きが少ないと考えられます。\n",
    "データフレームのplotを用いて加速度をグラフ化し、可視化しています。\n",
    "それに加えてmatplotlibのpyplotもよく用いられます。気になる方は[こちら](https://www.sejuku.net/blog/60895)を参照してみてください。"
   ]
  },
  {
   "cell_type": "code",
   "execution_count": 4,
   "id": "90ab3615",
   "metadata": {
    "colab": {
     "base_uri": "https://localhost:8080/",
     "height": 283
    },
    "executionInfo": {
     "elapsed": 2424,
     "status": "ok",
     "timestamp": 1679993922607,
     "user": {
      "displayName": "大見士",
      "userId": "07111444960716721781"
     },
     "user_tz": -540
    },
    "id": "90ab3615",
    "outputId": "abc48970-22ad-4e68-a822-ddb08a4f43df",
    "scrolled": true
   },
   "outputs": [
    {
     "data": {
      "text/plain": [
       "array([<Axes: >, <Axes: >, <Axes: >], dtype=object)"
      ]
     },
     "execution_count": 4,
     "metadata": {},
     "output_type": "execute_result"
    },
    {
     "data": {
      "image/png": "[encoded data removed]",
      "text/plain": [
       "<Figure size 640x480 with 3 Axes>"
      ]
     },
     "metadata": {},
     "output_type": "display_data"
    }
   ],
   "source": [
    "df.plot(y=['Ax', 'Ay', 'Az'], subplots=True)"
   ]
  },
  {
   "cell_type": "markdown",
   "id": "669156f5",
   "metadata": {
    "id": "669156f5"
   },
   "source": [
    "## アノテーションデータの処理\n",
    "### アノテーションデータの読み込み\n",
    "ここではどのタイミングでどのような行動を行っていたか、正解のラベルを付与するためのアノテーションファイルを読み込み、センサと同期をとっていきます。  \n",
    "センサデータの読み込みと同様にアノテーションファイルを読み込みます。"
   ]
  },
  {
   "cell_type": "code",
   "execution_count": 5,
   "id": "63320927",
   "metadata": {
    "executionInfo": {
     "elapsed": 270,
     "status": "ok",
     "timestamp": 1679993939391,
     "user": {
      "displayName": "大見士",
      "userId": "07111444960716721781"
     },
     "user_tz": -540
    },
    "id": "63320927"
   },
   "outputs": [],
   "source": [
    "Text= pd.read_csv(\"sample/Annotation_sample.csv\", header=None)"
   ]
  },
  {
   "cell_type": "markdown",
   "id": "aab4787e",
   "metadata": {
    "id": "aab4787e"
   },
   "source": [
    "### アノテーションファイルの中身\n",
    "\n",
    "こちらも中身を確認しましょう。 "
   ]
  },
  {
   "cell_type": "code",
   "execution_count": 6,
   "id": "2d1118f5",
   "metadata": {
    "colab": {
     "base_uri": "https://localhost:8080/"
    },
    "executionInfo": {
     "elapsed": 283,
     "status": "ok",
     "timestamp": 1679993967116,
     "user": {
      "displayName": "大見士",
      "userId": "07111444960716721781"
     },
     "user_tz": -540
    },
    "id": "2d1118f5",
    "outputId": "73de6f03-fcb8-43e8-91f4-9afa7bd5bc3a"
   },
   "outputs": [
    {
     "data": {
      "text/plain": [
       "(8, 3)"
      ]
     },
     "execution_count": 6,
     "metadata": {},
     "output_type": "execute_result"
    }
   ],
   "source": [
    "Text.shape"
   ]
  },
  {
   "cell_type": "markdown",
   "id": "fc56d449",
   "metadata": {
    "id": "fc56d449"
   },
   "source": [
    "中身を確認してみましょう。\n",
    "0列目のデータは行動が始まった時間、1列目のデータは行動が終わった時間、2列目のデータは0列目から1列目の時間に行われていた行動の名称を示しています。"
   ]
  },
  {
   "cell_type": "code",
   "execution_count": 7,
   "id": "613ed083",
   "metadata": {
    "colab": {
     "base_uri": "https://localhost:8080/"
    },
    "executionInfo": {
     "elapsed": 282,
     "status": "ok",
     "timestamp": 1679993971515,
     "user": {
      "displayName": "大見士",
      "userId": "07111444960716721781"
     },
     "user_tz": -540
    },
    "id": "613ed083",
    "outputId": "e50c012e-97e5-45b9-ef4f-86e93835eddc"
   },
   "outputs": [
    {
     "name": "stdout",
     "output_type": "stream",
     "text": [
      "                       0                      1         2\n",
      "0  20210914 15:22:30.751  20210914 15:24:00.913  Standing\n",
      "1  20210914 15:24:03.565  20210914 15:25:33.271   Jogging\n",
      "2  20210914 15:25:34.081  20210914 15:27:07.862  Skipping\n",
      "3  20210914 15:27:09.921  20210914 15:28:47.941   Walking\n",
      "4  20210914 15:28:50.024  20210914 15:30:23.969  Standing\n",
      "5  20210914 15:30:25.579  20210914 15:31:59.047   Jogging\n",
      "6  20210914 15:32:01.024  20210914 15:33:44.038  Skipping\n",
      "7  20210914 15:33:45.830  20210914 15:35:18.972   Walking\n"
     ]
    }
   ],
   "source": [
    "print(Text)"
   ]
  },
  {
   "cell_type": "markdown",
   "id": "4c6d0a6f",
   "metadata": {
    "id": "4c6d0a6f"
   },
   "source": [
    "しかし、現在のままでは半角のスペースやコロン(：)などによりうまく処理ができないため、0列目と1列目の値を数値のみに変換します。"
   ]
  },
  {
   "cell_type": "code",
   "execution_count": 8,
   "id": "ae176697",
   "metadata": {
    "colab": {
     "base_uri": "https://localhost:8080/"
    },
    "executionInfo": {
     "elapsed": 4,
     "status": "ok",
     "timestamp": 1679993974028,
     "user": {
      "displayName": "大見士",
      "userId": "07111444960716721781"
     },
     "user_tz": -540
    },
    "id": "ae176697",
    "outputId": "ff234aa8-4dd5-4976-e457-5a6e78b80c09"
   },
   "outputs": [
    {
     "name": "stdout",
     "output_type": "stream",
     "text": [
      "                   0                  1         2\n",
      "0  20210914152230751  20210914152400913  Standing\n",
      "1  20210914152403565  20210914152533271   Jogging\n",
      "2  20210914152534081  20210914152707862  Skipping\n",
      "3  20210914152709921  20210914152847941   Walking\n",
      "4  20210914152850024  20210914153023969  Standing\n",
      "5  20210914153025579  20210914153159047   Jogging\n",
      "6  20210914153201024  20210914153344038  Skipping\n",
      "7  20210914153345830  20210914153518972   Walking\n"
     ]
    }
   ],
   "source": [
    "for index in range(len(Text.index)):\n",
    "  ss = Text.iloc[index, 0]\n",
    "  Text.iloc[index, 0] = int((ss[0:8] + ss[9:11] + ss[12:14] + ss[15:17] + ss[18:21]))\n",
    "  ss = Text.iloc[index, 1]\n",
    "  Text.iloc[index, 1] = int((ss[0:8] + ss[9:11] + ss[12:14] + ss[15:17] + ss[18:21]))\n",
    "\n",
    "print(Text)"
   ]
  },
  {
   "cell_type": "markdown",
   "id": "82b521f4",
   "metadata": {
    "id": "82b521f4"
   },
   "source": [
    "## アノテーションデータと加速度データの結合\n",
    "### アノテーションされた加速度データの作成\n",
    "簡単な下処理を得て、アノテーションデータと加速度データのDateTime表記を揃えることができたため、センサデータにアノテーションデータを結び付けていきます。"
   ]
  },
  {
   "cell_type": "code",
   "execution_count": 9,
   "id": "9c569fff",
   "metadata": {
    "executionInfo": {
     "elapsed": 23635,
     "status": "ok",
     "timestamp": 1679994000050,
     "user": {
      "displayName": "大見士",
      "userId": "07111444960716721781"
     },
     "user_tz": -540
    },
    "id": "9c569fff"
   },
   "outputs": [],
   "source": [
    "df['Annotation'] = 'None'  #データフレームに'Annotation'というカラムを追加する\n",
    "\n",
    "#センサデータにアノテーションがついてる部分はAnnotationのカラムに、行動名を上書きする\n",
    "for i in range(Text.shape[0]):\n",
    "  for j in range(df.shape[0]):\n",
    "    if (int(Text[0][i]) <= int(df['#DateTime'][j])) & (int(Text[1][i]) >= int(df['#DateTime'][j])):\n",
    "      df.iloc[j,4] = Text.iloc[i,2]\n",
    "    elif int(Text[1][i]) < int(df['#DateTime'][j]):\n",
    "      break"
   ]
  },
  {
   "cell_type": "markdown",
   "id": "de7d476f",
   "metadata": {
    "id": "de7d476f"
   },
   "source": [
    "中身を確認しましょう。\n",
    "DateTime、Ax、Ay、Azは加速度センサのデータと同じですが、最後にAnnotationという列が追加されています。\n",
    "このAnnotationは、取得された時間に行動ラベルが割り振られていたかを示しており、加速度のデータと結び付けられています。また、行動ラベルが割り振られていない場合、「None」が入力され、行動ラベルが割り当てられている場合、その行動ラベルの名称が割り振られています。\n",
    "例としてサンプルデータで50000行～50005行を出力してみると「Standing」というラベルが割り振られていることがわかります。"
   ]
  },
  {
   "cell_type": "code",
   "execution_count": 10,
   "id": "6207f5cf",
   "metadata": {
    "colab": {
     "base_uri": "https://localhost:8080/"
    },
    "executionInfo": {
     "elapsed": 259,
     "status": "ok",
     "timestamp": 1679994014813,
     "user": {
      "displayName": "大見士",
      "userId": "07111444960716721781"
     },
     "user_tz": -540
    },
    "id": "6207f5cf",
    "outputId": "718380c4-ec58-441a-9b92-da7673ca1948"
   },
   "outputs": [
    {
     "name": "stdout",
     "output_type": "stream",
     "text": [
      "               #DateTime        Ax        Ay        Az Annotation\n",
      "0      20210914152220720 -0.537475  6.081011  7.464201       None\n",
      "1      20210914152220730 -0.480017  6.100163  7.540813       None\n",
      "2      20210914152220739 -0.570993  6.277327  7.761069       None\n",
      "3      20210914152220749 -0.757732  6.478431  7.914291       None\n",
      "4      20210914152220759 -0.834343  6.578983  7.957386       None\n",
      "...                  ...       ...       ...       ...        ...\n",
      "83397  20210914153544777 -0.575781  2.216936  9.034730       None\n",
      "83398  20210914153544786 -0.614086  2.197783  9.029942       None\n",
      "83399  20210914153544796 -0.590145  2.111595  9.178376       None\n",
      "83400  20210914153544806 -0.547052  2.058925  9.245411       None\n",
      "83401  20210914153544815 -0.561416  2.125960  9.379479       None\n",
      "\n",
      "[83402 rows x 5 columns]\n",
      "               #DateTime        Ax         Ay        Az Annotation\n",
      "50000  20210914153022789  0.506352  -9.887628  0.578773   Standing\n",
      "50001  20210914153022799  0.559022  -9.940298  0.492586   Standing\n",
      "50002  20210914153022808  0.549446 -10.021697  0.468645   Standing\n",
      "50003  20210914153022818  0.573387 -10.083943  0.459068   Standing\n",
      "50004  20210914153022828  0.578175 -10.107884  0.473433   Standing\n"
     ]
    }
   ],
   "source": [
    "df2 = df\n",
    "\n",
    "print(df2)\n",
    "print(df2[50000:50005])"
   ]
  },
  {
   "cell_type": "markdown",
   "id": "36128f7b",
   "metadata": {
    "id": "36128f7b"
   },
   "source": [
    "## 特徴量の抽出\n",
    "\n",
    "ここまで、ある時点でのセンサデータでどんな行動が行われていたかを表すアノテーションされた加速度データを作成してきました。  \n",
    "次にスライディングウィンドウで全体から部分的にデータを取り出し、特徴量を計算していきましょう。  "
   ]
  },
  {
   "cell_type": "markdown",
   "id": "9ed8230b",
   "metadata": {},
   "source": [
    "## スライディングウィンドウ\n",
    "今回の実験のように、連続的に得られるセンサデータを処理する場合、センシングを開始してから終了までずっと続く半無限長のため、認識対象とする範囲を決め、その範囲を部分系列として抽出する必要があります。このような場合に、スライディングウィンドウという技術が用いられます。  \n",
    "ウィンドウのサイズ*W*は高速フーリエ変換を行い、周波数領域の特徴量を抽出するために、128や256など、2のべき乗になっていることが多いです。  \n",
    "また、スライド幅*S*は、データの周期性を失わないように、ウィンドウサイズの何％という数字が設定されることが多くあります。  \n",
    "図ではウィンドウサイズの50%をスライドしています。\n",
    "\n",
    "<img src=\"Image/image_FE/SW.svg\" width=\"500\">\n"
   ]
  },
  {
   "cell_type": "markdown",
   "id": "72bcbb87",
   "metadata": {
    "id": "72bcbb87"
   },
   "source": [
    "### 特徴量(統計)\n",
    "\n",
    "まずは統計的特徴量を抽出してみましょう。\n",
    "統計的特徴量には最大、最小、平均、分散、標準偏差など多くの種類があります。  \n",
    "他にも知りたい方は[こちら](https://resanaplaza.com/2021/09/23/)を参照してみてください。  \n",
    "今回は平均と標準偏差を計算してみます。  \n",
    "Numpyモジュールを用いれば簡単に計算することができます。\n"
   ]
  },
  {
   "cell_type": "markdown",
   "id": "b411f85c",
   "metadata": {
    "id": "b411f85c"
   },
   "source": [
    "#### 平均と標準偏差"
   ]
  },
  {
   "cell_type": "code",
   "execution_count": 11,
   "id": "9d87905a",
   "metadata": {
    "executionInfo": {
     "elapsed": 2,
     "status": "ok",
     "timestamp": 1679994018899,
     "user": {
      "displayName": "大見士",
      "userId": "07111444960716721781"
     },
     "user_tz": -540
    },
    "id": "9d87905a"
   },
   "outputs": [],
   "source": [
    "def Calc_Time(signalData):\n",
    "  Mean = np.mean(signalData) # 平均値\n",
    "  Std = np.std(signalData - Mean)  #標準偏差\n",
    "\n",
    "  return [Mean, Std]"
   ]
  },
  {
   "cell_type": "markdown",
   "id": "e60da2db",
   "metadata": {
    "id": "e60da2db"
   },
   "source": [
    "#### Root Mean Square\n",
    "\n",
    "今、X軸加速度がプラスのとき右への加速、マイナスのとき左への加速とします。このとき、ある単位時間当たりに左右に同じくらい加速していれば、その平均値は0となりますね。従って、特徴量の一つである平均値は、符号により左右の加速を打ち消し合う場合があります。これを一つの特徴として表すことも当然ありです。ただ、このような打ち消し合いがされない特徴量を欲しい場合もあるでしょう。これを実現する特徴量に、二乗平均平方根があります。英語で書くとRoot Mean Squareとなり、工学の分野ではRMSとよく呼ばれます。例えば、ある時間 i から i+n のX軸加速度のRMSは、\n",
    "$$ \n",
    "RMS = \\sqrt{\\dfrac{1}{n}{\\displaystyle{\\sum_{t = i}^{i+n}}x_{t}}}\n",
    "$$\n",
    "で定義されます。他の軸も同様の式で算出可能です。ある時間 t の信号を二乗することで、すべてプラス方向に信号が整理されます。その後、平方根を取ることで、二乗され見かけ上値が大きくなってしまった部分がキャンセルされます。最後に、その平均値を算出しています。つまり、RMSとは、左右の向きを気にせずに、左右両者の方向においてその全体の加速の大きさを表す特徴になります。上下方向の軸であれば、上下両方においてその全体の加速の大きさを表します。"
   ]
  },
  {
   "cell_type": "code",
   "execution_count": 12,
   "id": "8f4b806e",
   "metadata": {
    "executionInfo": {
     "elapsed": 427,
     "status": "ok",
     "timestamp": 1679994021799,
     "user": {
      "displayName": "大見士",
      "userId": "07111444960716721781"
     },
     "user_tz": -540
    },
    "id": "8f4b806e"
   },
   "outputs": [],
   "source": [
    "# RMSを求める関数\n",
    "def Calc_RMS(signalData):\n",
    "    a = signalData * signalData  # 二乗\n",
    "    sum_a = np.sum(a)  # 総和\n",
    "    sqrt_a = np.sqrt(sum_a) # 平方根\n",
    "    RMS = np.mean(sqrt_a) # 平均値\n",
    "    return RMS"
   ]
  },
  {
   "cell_type": "markdown",
   "id": "8a31d6cd",
   "metadata": {
    "id": "8a31d6cd"
   },
   "source": [
    "### 特徴量抽出(周波数)\n",
    "次に周波数領域の特徴量を抽出してみましょう。\n",
    "今回はエネルギーと周波数領域エントロピーを抽出します。  \n",
    "より詳しく知りたい場合、[こちら](http://int-info.com/PyLearn/PyLearnSIG03.html)を参照してみてください"
   ]
  },
  {
   "cell_type": "markdown",
   "id": "0ea20aee",
   "metadata": {
    "id": "0ea20aee"
   },
   "source": [
    "#### エネルギーとエントロピー  \n",
    "フーリエ変換によって得られた周波数成分について、振幅の自乗はその周波数成分がもつエネルギーとなります。そして、特徴量としてよく用いられるものは、部分系列全体が持つエネルギーのため、角周波数成分のエネルギーの総和をエネルギーとしています。  \n",
    "N個のデータによる部分系列xのフーリエ変換結果を、\n",
    "$$\n",
    "F(x) = \\{f_{0},f_{1},f_{2},...,f_{N-1}\\}\n",
    "$$\n",
    "とすると、部分系列のエネルギー$G_{energy}$は、\n",
    "$$\n",
    "G_{energy} = {\\displaystyle{\\sum_{i=0}^{N-1}}|f_{i}|^2}\n",
    "$$\n",
    "となります。  \n",
    "また、周波数領域エントロピーは、周波数成分のばらつきを表す値です。  \n",
    "周波数エントロピー$G_{fde}$は、\n",
    "$$\n",
    "G_{fde} = {- \\displaystyle{\\sum_{i=0}^{N-1}}P_{i}log P_{i}}\n",
    "$$\n",
    "と定義されます。"
   ]
  },
  {
   "cell_type": "markdown",
   "id": "52b49d81",
   "metadata": {
    "id": "52b49d81"
   },
   "source": [
    "### 窓関数\n",
    "周波数領域での特徴量を抽出する場合、通常はフーリエ変換を用いて時間領域のデータを周波数領域のデータに変換します。しかし、フーリエ変換は変換対象となるデータに周期性があることを仮定するため、波形全体のフーリエ変換の結果と部分系列のフーリエ変換の結果に差が生じてしまいます。そこで、フーリエ変換を有限区間で行うために**窓関数**が用いられます。  \n",
    "窓関数には、矩形窓、ハン窓、ハミング窓、ブラックマン窓など様々な種類があり、周波数特性によって使い分けることが多いです。詳しくは、[こちら](https://cognicull.com/ja/l8klra0e)をご覧ください  \n",
    "今回は、ハン窓を用いています。  \n",
    "ハン窓は周波数分解能の高さとダイナミックレンジの広さのバランスが良く、音声認識ではハミング窓とともによく用いられます。また、ハニング窓とも呼ばれます。  \n",
    "ハン窓は、下記式で定義されます。\n",
    "$$\n",
    "ω(t) = 0.5 - 0.5 cos (\\dfrac{2πt}{W - 1})\n",
    "$$\n",
    "また、ハン窓の形(左)と、周波数特性(右)は次のようになっています。\n",
    "\n",
    "<img src=\"Image/image_FE/ハニング窓.svg\" width=\"800\">\n",
    "\n",
    "https://cognicull.com/ja/7r5k6y75 より引用"
   ]
  },
  {
   "cell_type": "code",
   "execution_count": 13,
   "id": "0c776464",
   "metadata": {
    "executionInfo": {
     "elapsed": 1450,
     "status": "ok",
     "timestamp": 1679994027730,
     "user": {
      "displayName": "大見士",
      "userId": "07111444960716721781"
     },
     "user_tz": -540
    },
    "id": "0c776464"
   },
   "outputs": [],
   "source": [
    "from scipy.fftpack import fft\n",
    "from scipy import signal\n",
    "\n",
    "def Calc_Freq(signalData):\n",
    "  L = len(signalData) # 信号長\n",
    "  Win = signal.hann(L) #ハニング窓を使用\n",
    "\n",
    "  S = np.fft.fft(Win * signalData) # 振幅スペクトル\n",
    "  PowerSpectrum = (S * S.conjugate()) # パワースペクトル\n",
    "  Energy = np.sum(PowerSpectrum.real)\n",
    "\n",
    "  P = PowerSpectrum.real/np.sum(Energy)\n",
    "  Entropy = -np.sum(P*np.log(P))\n",
    "\n",
    "\n",
    "  return [Energy, Entropy]"
   ]
  },
  {
   "cell_type": "markdown",
   "id": "1cece260",
   "metadata": {
    "id": "1cece260"
   },
   "source": [
    "### 特徴量抽出\n",
    "\n",
    "ここで、特徴量をウィンドウごとに抽出していきます。  \n",
    "ウィンドウサイズは2560msで、重なりは50%となっています。  \n",
    "是非ウインドウサイズや重なりの値を変更して実験を行ってみて下さい。\n",
    "また、3000msのマージンを取り、行動開始時のノイズをなくしています。  \n",
    "こうして抽出された特徴量をデータフレームにします。  \n",
    "コメントアウトされている部分はRMSも利用する場合です。  \n",
    "お好きな方を使用、もしくはどちらも行ってみてください。  \n",
    "(実行に時間がかかります。)"
   ]
  },
  {
   "cell_type": "code",
   "execution_count": 14,
   "id": "1a155353",
   "metadata": {
    "colab": {
     "base_uri": "https://localhost:8080/"
    },
    "executionInfo": {
     "elapsed": 33276,
     "status": "ok",
     "timestamp": 1679994207924,
     "user": {
      "displayName": "大見士",
      "userId": "07111444960716721781"
     },
     "user_tz": -540
    },
    "id": "1a155353",
    "outputId": "871ede07-08a6-4848-88aa-95f9ea92a648"
   },
   "outputs": [
    {
     "name": "stdout",
     "output_type": "stream",
     "text": [
      "       Mean_x     Std_x       Energy_x  Entropy_x     Mean_y     Std_y  \\\n",
      "0    0.007238  0.062661      90.195026   3.666620  -9.994314  0.044799   \n",
      "1    0.007051  0.071203     109.617943   3.835511  -9.992051  0.054815   \n",
      "2   -0.008978  0.069151     124.091312   3.562569  -9.995006  0.053367   \n",
      "3   -0.013822  0.089280     179.162007   3.386016  -9.994745  0.089039   \n",
      "4    0.011896  0.099286     221.594486   3.336444  -9.991640  0.090293   \n",
      "..        ...       ...            ...        ...        ...       ...   \n",
      "600 -0.328684  4.194299  430447.213789   4.100925 -10.573256  7.501877   \n",
      "601  0.033555  4.016432  405567.136645   4.115904 -10.223288  6.806048   \n",
      "602  0.329488  4.131888  432657.361911   3.947130 -10.225027  6.313016   \n",
      "603  0.389976  4.279783  451972.277775   3.916684 -10.598114  6.209265   \n",
      "604  0.247789  4.071298  390763.796493   3.997796 -10.866926  6.296865   \n",
      "\n",
      "         Energy_y  Entropy_y    Mean_z     Std_z      Energy_z  Entropy_z  \\\n",
      "0    2.445408e+06   0.871547  0.600788  0.075109  9.345185e+03   0.956277   \n",
      "1    2.444103e+06   0.871555  0.626674  0.061724  9.722800e+03   0.913045   \n",
      "2    2.445277e+06   0.871498  0.586386  0.085296  8.713408e+03   1.019430   \n",
      "3    2.446044e+06   0.872486  0.544134  0.077102  6.953387e+03   0.953489   \n",
      "4    2.445570e+06   0.871971  0.562594  0.071958  7.483953e+03   1.013608   \n",
      "..            ...        ...       ...       ...           ...        ...   \n",
      "600  3.948784e+06   2.534708 -1.525004  8.777671  1.828990e+06   4.371578   \n",
      "601  3.743857e+06   2.322782 -0.625608  7.421158  1.648941e+06   4.110155   \n",
      "602  3.760830e+06   2.280845 -0.850223  7.572884  1.398605e+06   4.002515   \n",
      "603  3.728065e+06   2.196638 -1.157173  7.601990  1.424866e+06   4.018426   \n",
      "604  3.618365e+06   2.149263 -0.952440  7.250078  1.264529e+06   3.854981   \n",
      "\n",
      "    activity_label  \n",
      "0         Standing  \n",
      "1         Standing  \n",
      "2         Standing  \n",
      "3         Standing  \n",
      "4         Standing  \n",
      "..             ...  \n",
      "600        Walking  \n",
      "601        Walking  \n",
      "602        Walking  \n",
      "603        Walking  \n",
      "604        Walking  \n",
      "\n",
      "[605 rows x 13 columns]\n"
     ]
    }
   ],
   "source": [
    "#各特徴量を格納するデータフレームを作成\n",
    "df['Mean_x'] = 0\n",
    "df['Std_x'] = 0\n",
    "df['RMS_x'] = 0\n",
    "df['Energy_x'] = 0\n",
    "df['Entropy_x'] = 0\n",
    "df['Mean_y'] = 0\n",
    "df['Std_y'] = 0\n",
    "df['RMS_y'] = 0\n",
    "df['Energy_y'] = 0\n",
    "df['Entropy_y'] = 0\n",
    "df['Mean_z'] = 0\n",
    "df['Std_z'] = 0\n",
    "df['RMS_z'] = 0\n",
    "df['Energy_z'] = 0\n",
    "df['Entropy_z'] = 0\n",
    "df['activity_label'] = 0\n",
    "\n",
    "cols = ['Mean_x', 'Std_x','Energy_x','Entropy_x',\n",
    "        'Mean_y', 'Std_y','Energy_y','Entropy_y',\n",
    "        'Mean_z', 'Std_z','Energy_z','Entropy_z','activity_label']\n",
    "\n",
    "\"\"\"\n",
    "cols = ['Mean_x', 'Std_x','RMS_x','Energy_x','Entropy_x',\n",
    "        'Mean_y', 'Std_y','RMS_y','Energy_y','Entropy_y',\n",
    "        'Mean_z', 'Std_z','RMS_z','Energy_z','Entropy_z','activity_label']\n",
    "\"\"\"\n",
    "\n",
    "df_feature = pd.DataFrame(index=[], columns=cols)\n",
    "\n",
    "#それぞれのパラメータの設定\n",
    "Window_size = 256\n",
    "over_lap = 0.5\n",
    "\n",
    "overlap_data = Window_size * over_lap\n",
    "\n",
    "margin = 300\n",
    "index = 0\n",
    "loop = 0\n",
    "\n",
    "\"\"\"\n",
    "特徴量を抽出\n",
    "データフレームの'Annotation'が'None'ではない場合、\n",
    "ウィンドウサイズ分のデータで特徴量を抽出する\n",
    "\"\"\"\n",
    "while index < df.shape[0]:\n",
    "\n",
    "  if df['Annotation'][index] == 'None':\n",
    "    index = index + 1\n",
    "  else:\n",
    "    count = 0\n",
    "    while count < margin:\n",
    "      count,index = count + 1,index + 1\n",
    "\n",
    "    while df['Annotation'][index + Window_size] != 'None':\n",
    "      signal_Data = []\n",
    "      for i in range(Window_size):\n",
    "        data = df.iloc[index, 1:4]\n",
    "        signal_Data.append(list(data.values))\n",
    "        index = index + 1\n",
    "      signal_Data = np.array(signal_Data)\n",
    "\n",
    "      feature_list = []\n",
    "      Mean_x, Std_x = Calc_Time(signal_Data[:,0])\n",
    "      RMS_x = Calc_RMS(signal_Data[:,0])\n",
    "      Energy_x,Entropy_x = Calc_Freq(signal_Data[:,0])\n",
    "    \n",
    "      Mean_y, Std_y = Calc_Time(signal_Data[:,1])\n",
    "      RMS_y = Calc_RMS(signal_Data[:,1])\n",
    "      Energy_y,Entropy_y = Calc_Freq(signal_Data[:,1])\n",
    "        \n",
    "      Mean_z, Std_z = Calc_Time(signal_Data[:,2])\n",
    "      RMS_z = Calc_RMS(signal_Data[:,2])\n",
    "      Energy_z,Entropy_z = Calc_Freq(signal_Data[:,2])\n",
    "    \n",
    "      Activity_label = df['Annotation'][index]\n",
    "      feature_list.extend([Mean_x, Std_x,Energy_x,Entropy_x,Mean_y, Std_y,Energy_y,Entropy_y,Mean_z, Std_z,Energy_z,Entropy_z,Activity_label])\n",
    "      #feature_list.extend([Mean_x, Std_x,RMS_x,Energy_x,Entropy_x,Mean_y, Std_y,RMS_y,Energy_y,Entropy_y,Mean_z, Std_z,RMS_z,Energy_z,Entropy_z,Activity_label])\n",
    "        \n",
    "      record = pd.Series(feature_list, index=df_feature.columns)\n",
    "      df_feature.loc[str(loop)] = feature_list\n",
    "      index = index - int(overlap_data)\n",
    "      loop = loop + 1\n",
    "\n",
    "print(df_feature)\n",
    "  "
   ]
  },
  {
   "cell_type": "markdown",
   "id": "6625b6ee",
   "metadata": {
    "id": "6625b6ee"
   },
   "source": [
    "### 特徴量データのダウンロード\n",
    "ここで作成した特徴量データを用いて行動の識別を行っていきます。  \n",
    "そのため、特徴量データをダウンロードしておきましょう。\n",
    "ダウンロードする場所を変えたい場合は、パスを書き換えてください。"
   ]
  },
  {
   "cell_type": "code",
   "execution_count": 15,
   "id": "872a179f",
   "metadata": {
    "id": "872a179f",
    "outputId": "0a7ce28f-42ea-4d7e-898e-629e2a5b10ae"
   },
   "outputs": [],
   "source": [
    "df_feature.to_csv(\"sample/Feature.csv\", index = False)"
   ]
  }
 ],
 "metadata": {
  "colab": {
   "provenance": []
  },
  "kernelspec": {
   "display_name": "Python 3 (ipykernel)",
   "language": "python",
   "name": "python3"
  },
  "language_info": {
   "codemirror_mode": {
    "name": "ipython",
    "version": 3
   },
   "file_extension": ".py",
   "mimetype": "text/x-python",
   "name": "python",
   "nbconvert_exporter": "python",
   "pygments_lexer": "ipython3",
   "version": "3.8.13"
  }
 },
 "nbformat": 4,
 "nbformat_minor": 5
}
