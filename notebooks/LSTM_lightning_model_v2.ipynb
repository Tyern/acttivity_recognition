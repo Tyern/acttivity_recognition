{
 "cells": [
  {
   "cell_type": "code",
   "execution_count": 1,
   "id": "c03f55a8",
   "metadata": {},
   "outputs": [
    {
     "name": "stderr",
     "output_type": "stream",
     "text": [
      "/Users/tranhoang/opt/anaconda3/envs/torch-gpu/lib/python3.8/site-packages/tqdm/auto.py:22: TqdmWarning: IProgress not found. Please update jupyter and ipywidgets. See https://ipywidgets.readthedocs.io/en/stable/user_install.html\n",
      "  from .autonotebook import tqdm as notebook_tqdm\n"
     ]
    }
   ],
   "source": [
    "import torch\n",
    "from torch import nn\n",
    "from torchinfo import summary\n",
    "\n",
    "from sklearn import tree\n",
    "from sklearn.metrics import confusion_matrix\n",
    "from sklearn.metrics import precision_recall_fscore_support\n",
    "from sklearn.model_selection import train_test_split\n",
    "\n",
    "import seaborn as sns\n",
    "import matplotlib.pyplot as plt\n",
    "\n",
    "import pandas as pd\n",
    "import numpy  as np\n",
    "\n",
    "import json\n",
    "import os\n",
    "import glob\n",
    "\n",
    "import warnings\n",
    "warnings.filterwarnings(\"ignore\")"
   ]
  },
  {
   "cell_type": "markdown",
   "id": "f587973b",
   "metadata": {},
   "source": [
    "## Read Raw data"
   ]
  },
  {
   "cell_type": "code",
   "execution_count": 2,
   "id": "85805ab6",
   "metadata": {},
   "outputs": [],
   "source": [
    "save_folder = \"../data/jikken2/\"\n",
    "\n",
    "feature_save_file = os.path.join(save_folder, \"features.npy\")\n",
    "label_save_file = os.path.join(save_folder, \"label.npy\")\n",
    "label_name_save_file = os.path.join(save_folder, \"label_name.json\")\n",
    "\n",
    "kfold_split_save_file = os.path.join(save_folder, \"kfold_train_val_test.npy\")"
   ]
  },
  {
   "cell_type": "code",
   "execution_count": 3,
   "id": "53906422",
   "metadata": {},
   "outputs": [],
   "source": [
    "features = np.load(feature_save_file, allow_pickle=True).astype(np.float)\n",
    "labels = np.load(label_save_file, allow_pickle=True)\n",
    "\n",
    "kfold_train_test_index_list = np.load(kfold_split_save_file, allow_pickle=True)"
   ]
  },
  {
   "cell_type": "code",
   "execution_count": 4,
   "id": "b858450e",
   "metadata": {},
   "outputs": [],
   "source": [
    "# Normalize over the feature data\n",
    "\n",
    "from sklearn.preprocessing import StandardScaler\n",
    "sc = StandardScaler()\n",
    "\n",
    "data_num, window_size, feature_num = features.shape\n",
    "features_reshape = features.reshape(-1, feature_num)\n",
    "features_norm = sc.fit_transform(features_reshape)\n",
    "\n",
    "# convert back t feature size\n",
    "features = features_norm.reshape(data_num, window_size, feature_num)"
   ]
  },
  {
   "cell_type": "code",
   "execution_count": 5,
   "id": "bf23ac42",
   "metadata": {},
   "outputs": [],
   "source": [
    "with open(label_name_save_file) as f:\n",
    "    label_list = json.load(f)"
   ]
  },
  {
   "cell_type": "code",
   "execution_count": 6,
   "id": "cbd1628c",
   "metadata": {},
   "outputs": [],
   "source": [
    "from torch.utils.data import Dataset\n",
    "from torch.utils.data import DataLoader\n",
    "\n",
    "class CustomDataset(Dataset):\n",
    "    def __init__(self, all_feature_list, y_list, data_index_list):\n",
    "\n",
    "        self.all_feature_list = all_feature_list\n",
    "        self.y_list = y_list\n",
    "        self.data_index_list = data_index_list\n",
    "        \n",
    "    def __len__(self):\n",
    "        return len(self.data_index_list)\n",
    "    \n",
    "    def __getitem__(self, idx):\n",
    "        index = self.data_index_list[idx]\n",
    "        x = self.all_feature_list[index]\n",
    "        label = self.y_list[index]\n",
    "        \n",
    "        return x, label"
   ]
  },
  {
   "cell_type": "code",
   "execution_count": 7,
   "id": "e46f6f2c",
   "metadata": {},
   "outputs": [
    {
     "data": {
      "text/plain": [
       "[tensor([[[ 2.3015e+00,  1.6927e+00,  4.2375e-01,  ...,  2.0343e+00,\n",
       "            2.8641e-01, -3.3243e-01],\n",
       "          [ 2.4050e+00,  2.4260e+00,  4.5213e-01,  ...,  1.7951e+00,\n",
       "            7.6658e-01, -5.5451e-01],\n",
       "          [ 2.4537e+00,  3.1704e+00,  3.7554e-01,  ...,  1.4671e+00,\n",
       "           -2.0232e-01, -6.0877e-01],\n",
       "          ...,\n",
       "          [ 2.7687e+00,  3.4738e-01, -1.2136e+00,  ...,  1.6880e+00,\n",
       "            1.2917e+00, -1.0755e-01],\n",
       "          [ 2.9732e+00,  1.3122e-01, -1.0464e+00,  ...,  1.7342e+00,\n",
       "            1.7392e+00, -2.0992e-01],\n",
       "          [ 3.0616e+00,  3.8998e-02, -7.8318e-01,  ...,  1.7242e+00,\n",
       "            2.0684e+00, -3.4977e-01]],\n",
       " \n",
       "         [[ 3.4493e+00, -7.3613e-01, -1.1183e+00,  ...,  9.1317e-01,\n",
       "            1.8859e+00, -1.2840e+00],\n",
       "          [ 3.7051e+00, -8.1678e-01, -1.1483e+00,  ...,  9.5291e-01,\n",
       "            1.9282e+00, -1.3354e+00],\n",
       "          [ 3.8829e+00, -8.4837e-01, -1.1935e+00,  ...,  1.1538e+00,\n",
       "            2.1926e+00, -1.0384e+00],\n",
       "          ...,\n",
       "          [-1.0799e+00,  3.4527e+00,  8.3130e-01,  ..., -2.2233e-01,\n",
       "           -1.8050e+00, -1.0182e+00],\n",
       "          [-1.2809e+00,  4.8131e+00,  1.0248e+00,  ...,  1.7807e-01,\n",
       "           -2.2001e+00, -1.0250e+00],\n",
       "          [-1.8986e+00,  5.6689e+00,  2.6126e+00,  ...,  5.8523e-01,\n",
       "           -2.6048e+00, -5.3046e-01]],\n",
       " \n",
       "         [[ 2.9975e-01, -4.6229e-01, -5.2265e-01,  ...,  2.0105e-01,\n",
       "            1.0503e+00, -1.0591e+00],\n",
       "          [ 2.4664e-01, -4.7061e-01, -5.0419e-01,  ...,  2.5053e-01,\n",
       "            5.4764e-01, -1.2465e+00],\n",
       "          [ 1.4840e-01, -4.6920e-01, -4.8777e-01,  ...,  2.1754e-01,\n",
       "            5.4624e-02, -1.6185e+00],\n",
       "          ...,\n",
       "          [-5.0210e-01, -4.1547e-01, -9.3636e-01,  ...,  4.9653e-02,\n",
       "           -1.7663e-01,  5.1617e-01],\n",
       "          [-4.0731e-01, -4.2506e-01, -9.2131e-01,  ..., -3.7673e-02,\n",
       "           -1.2096e-01,  6.5266e-01],\n",
       "          [-3.3046e-01, -4.4100e-01, -9.1960e-01,  ..., -6.7412e-02,\n",
       "            3.0943e-01,  7.9587e-01]],\n",
       " \n",
       "         ...,\n",
       " \n",
       "         [[ 1.7686e+00,  1.8670e+00,  1.6659e+00,  ...,  2.0903e+00,\n",
       "           -3.7573e+00,  3.3884e-01],\n",
       "          [ 1.7652e+00,  1.5131e+00,  6.1932e-01,  ...,  2.0211e+00,\n",
       "           -2.9966e+00,  1.3075e-01],\n",
       "          [ 1.9518e+00,  1.1095e+00, -1.2364e-01,  ...,  1.9503e+00,\n",
       "           -2.0566e+00, -1.4503e-01],\n",
       "          ...,\n",
       "          [ 2.1746e-01, -1.5782e+00, -1.5692e+00,  ..., -1.9169e+00,\n",
       "            1.2724e+00,  1.1846e+00],\n",
       "          [ 3.6971e-01, -1.5163e+00, -1.5508e+00,  ..., -2.2186e+00,\n",
       "            1.3570e+00,  6.8343e-01],\n",
       "          [ 4.6795e-01, -1.4006e+00, -1.4171e+00,  ..., -3.2557e+00,\n",
       "           -1.2440e+00,  2.1578e-01]],\n",
       " \n",
       "         [[ 6.9614e-01, -2.0931e-02,  1.9664e+00,  ...,  3.1539e-02,\n",
       "           -5.1239e-04, -3.9307e-02],\n",
       "          [ 6.8998e-01, -3.0660e-02,  1.9664e+00,  ...,  3.4783e-02,\n",
       "           -2.0319e-02, -3.2594e-02],\n",
       "          [ 6.9614e-01, -3.6160e-02,  1.9866e+00,  ...,  3.4783e-02,\n",
       "           -4.2802e-02, -1.1896e-02],\n",
       "          ...,\n",
       "          [ 7.2895e-01, -1.7547e-02,  1.9531e+00,  ...,  3.3161e-02,\n",
       "            9.1231e-03, -1.1896e-02],\n",
       "          [ 7.1916e-01, -1.8957e-02,  1.9480e+00,  ...,  2.6672e-02,\n",
       "           -4.2595e-03, -1.5253e-02],\n",
       "          [ 7.2007e-01, -1.8252e-02,  1.9381e+00,  ...,  3.3161e-02,\n",
       "            9.1231e-03, -1.1896e-02]],\n",
       " \n",
       "         [[-6.2862e-01, -2.8603e-01,  9.0049e-02,  ...,  4.0706e-01,\n",
       "           -8.5861e-01, -6.5688e-01],\n",
       "          [-6.2862e-01, -2.7291e-01,  5.0046e-02,  ...,  3.8571e-01,\n",
       "           -1.0251e+00, -4.6221e-01],\n",
       "          [-6.0378e-01, -3.4314e-01, -2.6883e-02,  ...,  3.3136e-01,\n",
       "           -1.2927e+00, -3.5648e-01],\n",
       "          ...,\n",
       "          [ 2.0060e-01, -2.9505e-01, -1.2653e+00,  ..., -1.7306e+00,\n",
       "           -4.4428e-01,  1.1732e-01],\n",
       "          [ 2.3069e-01, -2.9364e-01, -1.2769e+00,  ..., -1.6236e+00,\n",
       "           -3.8861e-01,  1.8893e-01],\n",
       "          [ 2.5280e-01, -3.0253e-01, -1.2769e+00,  ..., -1.4917e+00,\n",
       "           -3.5596e-01,  3.1143e-01]]], dtype=torch.float64),\n",
       " tensor([2, 2, 0, 5, 3, 2, 5, 3])]"
      ]
     },
     "execution_count": 7,
     "metadata": {},
     "output_type": "execute_result"
    }
   ],
   "source": [
    "## test\n",
    "\n",
    "# Create train dataset and test dataset for the first activity in label_list\n",
    "train_data_df_index_list, val_data_df_index_list, test_data_df_index_list = kfold_train_test_index_list[0]\n",
    "\n",
    "train_dataset = CustomDataset(features, labels, train_data_df_index_list)\n",
    "val_dataset = CustomDataset(features, labels, val_data_df_index_list)\n",
    "test_dataset = CustomDataset(features, labels, test_data_df_index_list)\n",
    "\n",
    "train_dataloader = DataLoader(\n",
    "    train_dataset, \n",
    "    batch_size=8,\n",
    "    num_workers=0, # number of subprocesses to use for data loading\n",
    "    shuffle=True)\n",
    "\n",
    "val_dataloader = DataLoader(\n",
    "    train_dataset, \n",
    "    batch_size=8,\n",
    "    num_workers=0, # number of subprocesses to use for data loading\n",
    "    shuffle=False)\n",
    "\n",
    "test_dataloader = DataLoader(\n",
    "    test_dataset,\n",
    "    batch_size=1,\n",
    "    num_workers=0, # number of subprocesses to use for data loading\n",
    "    shuffle=False)\n",
    "\n",
    "next(iter(train_dataloader))"
   ]
  },
  {
   "cell_type": "markdown",
   "id": "efb582ed",
   "metadata": {},
   "source": [
    "## Model definition"
   ]
  },
  {
   "cell_type": "code",
   "execution_count": 8,
   "id": "3e58edf7",
   "metadata": {},
   "outputs": [],
   "source": [
    "import pytorch_lightning as pl\n",
    "import torch.nn.functional as F\n",
    "\n",
    "class LSTMModel(pl.LightningModule):\n",
    "    def __init__(self, hidden_size=128, input_size=30, output_size=6):\n",
    "        super().__init__()\n",
    "        self.rnn = nn.LSTM(input_size=input_size, \n",
    "                          hidden_size=hidden_size,\n",
    "                          num_layers=2,\n",
    "                          batch_first=True)\n",
    "        \n",
    "        self.seq_1 = nn.Sequential(\n",
    "            nn.Linear(in_features=hidden_size, out_features=hidden_size),\n",
    "            nn.BatchNorm1d(num_features=hidden_size),\n",
    "            nn.Dropout1d(p=0.2),\n",
    "            nn.ReLU(),\n",
    "            nn.Linear(in_features=hidden_size, out_features=hidden_size),\n",
    "            nn.BatchNorm1d(num_features=hidden_size),\n",
    "            nn.Dropout1d(p=0.2),\n",
    "            nn.ReLU(),\n",
    "        )\n",
    "        \n",
    "        self.seq_2 = nn.Sequential(\n",
    "            nn.Linear(in_features=hidden_size, out_features=hidden_size),\n",
    "            nn.BatchNorm1d(num_features=hidden_size),\n",
    "            nn.Dropout1d(p=0.2),\n",
    "            nn.ReLU(),\n",
    "            nn.Linear(in_features=hidden_size, out_features=hidden_size),\n",
    "            nn.BatchNorm1d(num_features=hidden_size),\n",
    "            nn.Dropout1d(p=0.2),\n",
    "            nn.ReLU(),\n",
    "        )\n",
    "        \n",
    "        self.classifier = nn.Linear(in_features=3 * hidden_size, out_features=output_size)\n",
    "        \n",
    "    def forward(self, x):\n",
    "        activation, _ = self.rnn(x)\n",
    "        \n",
    "        b, _, _ = activation.size()\n",
    "        lstm_output = activation[:,-1,:].view(b,-1)\n",
    "        seq_1_output = self.seq_1(lstm_output)\n",
    "        seq_2_output = self.seq_2(lstm_output)\n",
    "        \n",
    "        output = torch.concat([lstm_output, seq_1_output, seq_2_output], dim=1)\n",
    "        output = self.classifier(output)\n",
    "        \n",
    "        return output\n",
    "    \n",
    "    def configure_optimizers(self):\n",
    "        optimizer = torch.optim.Adam(params=self.parameters(), lr=0.0005)\n",
    "        return optimizer\n",
    "    \n",
    "    def training_step(self, batch, batch_idx):\n",
    "        X, y = batch\n",
    "        X = X.float()\n",
    "        # 1. Forward pass\n",
    "        y_pred = self.forward(X)\n",
    "        # 2. Calculate  and accumulate loss\n",
    "        loss = F.cross_entropy(y_pred, y)\n",
    "        \n",
    "        self.log(\"train_loss\", loss)\n",
    "        \n",
    "        return loss\n",
    "    \n",
    "    def test_step(self, batch, batch_idx):\n",
    "        # this is the test loop\n",
    "        X, y = batch\n",
    "        X = X.float()\n",
    "    \n",
    "        # 1. Forward pass\n",
    "        test_pred_logits = self.forward(X)\n",
    "\n",
    "        # Calculate and accumulate accuracy\n",
    "        test_pred_labels = test_pred_logits.argmax(dim=1)\n",
    "        test_acc = ((test_pred_labels == y).sum().item()/len(test_pred_labels))\n",
    "        self.log(\"test_acc\", test_acc)\n",
    "\n",
    "    def validation_step(self, batch, batch_idx):\n",
    "        # this is the validation loop\n",
    "        X, y = batch\n",
    "        X = X.float()\n",
    "        \n",
    "        y_pred = self.forward(X)\n",
    "        # 2. Calculate  and accumulate loss\n",
    "        loss = F.cross_entropy(y_pred, y)\n",
    "        \n",
    "        self.log(\"val_loss\", loss)\n",
    "        "
   ]
  },
  {
   "cell_type": "code",
   "execution_count": 9,
   "id": "676fa569",
   "metadata": {},
   "outputs": [
    {
     "data": {
      "text/plain": [
       "=================================================================\n",
       "Layer (type:depth-idx)                   Param #\n",
       "=================================================================\n",
       "LSTMModel                                --\n",
       "├─LSTM: 1-1                              214,016\n",
       "├─Sequential: 1-2                        --\n",
       "│    └─Linear: 2-1                       16,512\n",
       "│    └─BatchNorm1d: 2-2                  256\n",
       "│    └─Dropout1d: 2-3                    --\n",
       "│    └─ReLU: 2-4                         --\n",
       "│    └─Linear: 2-5                       16,512\n",
       "│    └─BatchNorm1d: 2-6                  256\n",
       "│    └─Dropout1d: 2-7                    --\n",
       "│    └─ReLU: 2-8                         --\n",
       "├─Sequential: 1-3                        --\n",
       "│    └─Linear: 2-9                       16,512\n",
       "│    └─BatchNorm1d: 2-10                 256\n",
       "│    └─Dropout1d: 2-11                   --\n",
       "│    └─ReLU: 2-12                        --\n",
       "│    └─Linear: 2-13                      16,512\n",
       "│    └─BatchNorm1d: 2-14                 256\n",
       "│    └─Dropout1d: 2-15                   --\n",
       "│    └─ReLU: 2-16                        --\n",
       "├─Linear: 1-4                            2,310\n",
       "=================================================================\n",
       "Total params: 283,398\n",
       "Trainable params: 283,398\n",
       "Non-trainable params: 0\n",
       "================================================================="
      ]
     },
     "execution_count": 9,
     "metadata": {},
     "output_type": "execute_result"
    }
   ],
   "source": [
    "model = LSTMModel()\n",
    "summary(model)"
   ]
  },
  {
   "cell_type": "markdown",
   "id": "94d9d85c",
   "metadata": {},
   "source": [
    "## Train step setup"
   ]
  },
  {
   "cell_type": "code",
   "execution_count": 11,
   "id": "ca20a156",
   "metadata": {
    "scrolled": true
   },
   "outputs": [
    {
     "name": "stderr",
     "output_type": "stream",
     "text": [
      "GPU available: False, used: False\n",
      "TPU available: False, using: 0 TPU cores\n",
      "IPU available: False, using: 0 IPUs\n",
      "HPU available: False, using: 0 HPUs\n",
      "Missing logger folder: /Users/tranhoang/jikken/acttivity_recognition/notebooks/lightning_logs\n",
      "\n",
      "  | Name       | Type       | Params\n",
      "------------------------------------------\n",
      "0 | rnn        | LSTM       | 57.9 K\n",
      "1 | seq_1      | Sequential | 8.6 K \n",
      "2 | seq_2      | Sequential | 8.6 K \n",
      "3 | classifier | Linear     | 1.2 K \n",
      "------------------------------------------\n",
      "76.2 K    Trainable params\n",
      "0         Non-trainable params\n",
      "76.2 K    Total params\n",
      "0.305     Total estimated model params size (MB)\n"
     ]
    },
    {
     "name": "stdout",
     "output_type": "stream",
     "text": [
      "\n",
      "*************KFOLD 1*************\n",
      "Epoch 0:  84%|█████████████████████████████████████████████████████████████████████████▏             | 132/157 [00:13<00:02,  9.91it/s, loss=1.36, v_num=0]\n",
      "Validation: 0it [00:00, ?it/s]\u001b[A\n",
      "Validation DataLoader 0:   0%|                                                                                                      | 0/25 [00:00<?, ?it/s]\u001b[A\n",
      "Epoch 0:  85%|█████████████████████████████████████████████████████████████████████████▋             | 133/157 [00:13<00:02,  9.96it/s, loss=1.36, v_num=0]\u001b[A\n",
      "Epoch 0:  85%|██████████████████████████████████████████████████████████████████████████▎            | 134/157 [00:13<00:02, 10.03it/s, loss=1.36, v_num=0]\u001b[A\n",
      "Epoch 0:  86%|██████████████████████████████████████████████████████████████████████████▊            | 135/157 [00:13<00:02, 10.09it/s, loss=1.36, v_num=0]\u001b[A\n",
      "Epoch 0:  87%|███████████████████████████████████████████████████████████████████████████▎           | 136/157 [00:13<00:02, 10.15it/s, loss=1.36, v_num=0]\u001b[A\n",
      "Epoch 0:  87%|███████████████████████████████████████████████████████████████████████████▉           | 137/157 [00:13<00:01, 10.21it/s, loss=1.36, v_num=0]\u001b[A\n",
      "Epoch 0:  88%|████████████████████████████████████████████████████████████████████████████▍          | 138/157 [00:13<00:01, 10.27it/s, loss=1.36, v_num=0]\u001b[A\n",
      "Epoch 0:  89%|█████████████████████████████████████████████████████████████████████████████          | 139/157 [00:13<00:01, 10.33it/s, loss=1.36, v_num=0]\u001b[A\n",
      "Epoch 0:  89%|█████████████████████████████████████████████████████████████████████████████▌         | 140/157 [00:13<00:01, 10.39it/s, loss=1.36, v_num=0]\u001b[A\n",
      "Epoch 0:  90%|██████████████████████████████████████████████████████████████████████████████▏        | 141/157 [00:13<00:01, 10.45it/s, loss=1.36, v_num=0]\u001b[A\n",
      "Epoch 0:  90%|██████████████████████████████████████████████████████████████████████████████▋        | 142/157 [00:13<00:01, 10.51it/s, loss=1.36, v_num=0]\u001b[A\n",
      "Epoch 0:  91%|███████████████████████████████████████████████████████████████████████████████▏       | 143/157 [00:13<00:01, 10.57it/s, loss=1.36, v_num=0]\u001b[A\n",
      "Epoch 0:  92%|███████████████████████████████████████████████████████████████████████████████▊       | 144/157 [00:13<00:01, 10.63it/s, loss=1.36, v_num=0]\u001b[A\n",
      "Epoch 0:  92%|████████████████████████████████████████████████████████████████████████████████▎      | 145/157 [00:13<00:01, 10.69it/s, loss=1.36, v_num=0]\u001b[A\n",
      "Epoch 0:  93%|████████████████████████████████████████████████████████████████████████████████▉      | 146/157 [00:13<00:01, 10.75it/s, loss=1.36, v_num=0]\u001b[A\n",
      "Epoch 0:  94%|█████████████████████████████████████████████████████████████████████████████████▍     | 147/157 [00:13<00:00, 10.81it/s, loss=1.36, v_num=0]\u001b[A\n",
      "Epoch 0:  94%|██████████████████████████████████████████████████████████████████████████████████     | 148/157 [00:13<00:00, 10.87it/s, loss=1.36, v_num=0]\u001b[A\n",
      "Epoch 0:  95%|██████████████████████████████████████████████████████████████████████████████████▌    | 149/157 [00:13<00:00, 10.93it/s, loss=1.36, v_num=0]\u001b[A\n",
      "Epoch 0:  96%|███████████████████████████████████████████████████████████████████████████████████    | 150/157 [00:13<00:00, 10.99it/s, loss=1.36, v_num=0]\u001b[A\n",
      "Epoch 0:  96%|███████████████████████████████████████████████████████████████████████████████████▋   | 151/157 [00:13<00:00, 11.05it/s, loss=1.36, v_num=0]\u001b[A\n",
      "Epoch 0:  97%|████████████████████████████████████████████████████████████████████████████████████▏  | 152/157 [00:13<00:00, 11.11it/s, loss=1.36, v_num=0]\u001b[A\n",
      "Epoch 0:  97%|████████████████████████████████████████████████████████████████████████████████████▊  | 153/157 [00:13<00:00, 11.16it/s, loss=1.36, v_num=0]\u001b[A\n",
      "Epoch 0:  98%|█████████████████████████████████████████████████████████████████████████████████████▎ | 154/157 [00:13<00:00, 11.22it/s, loss=1.36, v_num=0]\u001b[A\n",
      "Epoch 0:  99%|█████████████████████████████████████████████████████████████████████████████████████▉ | 155/157 [00:13<00:00, 11.28it/s, loss=1.36, v_num=0]\u001b[A\n",
      "Epoch 0:  99%|██████████████████████████████████████████████████████████████████████████████████████▍| 156/157 [00:13<00:00, 11.34it/s, loss=1.36, v_num=0]\u001b[A\n",
      "Epoch 0: 100%|███████████████████████████████████████████████████████████████████████████████████████| 157/157 [00:13<00:00, 11.40it/s, loss=1.36, v_num=0]\u001b[A\n",
      "Epoch 1:  84%|█████████████████████████████████████████████████████████████████████████▏             | 132/157 [00:23<00:04,  5.54it/s, loss=1.19, v_num=0]\u001b[A\n",
      "Validation: 0it [00:00, ?it/s]\u001b[A\n",
      "Validation DataLoader 0:   0%|                                                                                                      | 0/25 [00:00<?, ?it/s]\u001b[A\n",
      "Epoch 1:  85%|█████████████████████████████████████████████████████████████████████████▋             | 133/157 [00:23<00:04,  5.58it/s, loss=1.19, v_num=0]\u001b[A\n",
      "Epoch 1:  85%|██████████████████████████████████████████████████████████████████████████▎            | 134/157 [00:23<00:04,  5.62it/s, loss=1.19, v_num=0]\u001b[A\n",
      "Epoch 1:  86%|██████████████████████████████████████████████████████████████████████████▊            | 135/157 [00:23<00:03,  5.65it/s, loss=1.19, v_num=0]\u001b[A\n",
      "Epoch 1:  87%|███████████████████████████████████████████████████████████████████████████▎           | 136/157 [00:23<00:03,  5.69it/s, loss=1.19, v_num=0]\u001b[A\n",
      "Epoch 1:  87%|███████████████████████████████████████████████████████████████████████████▉           | 137/157 [00:23<00:03,  5.73it/s, loss=1.19, v_num=0]\u001b[A\n",
      "Epoch 1:  88%|████████████████████████████████████████████████████████████████████████████▍          | 138/157 [00:23<00:03,  5.77it/s, loss=1.19, v_num=0]\u001b[A\n",
      "Epoch 1:  89%|█████████████████████████████████████████████████████████████████████████████          | 139/157 [00:23<00:03,  5.80it/s, loss=1.19, v_num=0]\u001b[A\n",
      "Epoch 1:  89%|█████████████████████████████████████████████████████████████████████████████▌         | 140/157 [00:23<00:02,  5.84it/s, loss=1.19, v_num=0]\u001b[A\n",
      "Epoch 1:  90%|██████████████████████████████████████████████████████████████████████████████▏        | 141/157 [00:23<00:02,  5.88it/s, loss=1.19, v_num=0]\u001b[A\n",
      "Epoch 1:  90%|██████████████████████████████████████████████████████████████████████████████▋        | 142/157 [00:24<00:02,  5.92it/s, loss=1.19, v_num=0]\u001b[A\n",
      "Epoch 1:  91%|███████████████████████████████████████████████████████████████████████████████▏       | 143/157 [00:24<00:02,  5.95it/s, loss=1.19, v_num=0]\u001b[A\n",
      "Epoch 1:  92%|███████████████████████████████████████████████████████████████████████████████▊       | 144/157 [00:24<00:02,  5.99it/s, loss=1.19, v_num=0]\u001b[A\n",
      "Epoch 1:  92%|████████████████████████████████████████████████████████████████████████████████▎      | 145/157 [00:24<00:01,  6.03it/s, loss=1.19, v_num=0]\u001b[A\n",
      "Epoch 1:  93%|████████████████████████████████████████████████████████████████████████████████▉      | 146/157 [00:24<00:01,  6.06it/s, loss=1.19, v_num=0]\u001b[A\n",
      "Epoch 1:  94%|█████████████████████████████████████████████████████████████████████████████████▍     | 147/157 [00:24<00:01,  6.10it/s, loss=1.19, v_num=0]\u001b[A\n",
      "Epoch 1:  94%|██████████████████████████████████████████████████████████████████████████████████     | 148/157 [00:24<00:01,  6.14it/s, loss=1.19, v_num=0]\u001b[A\n",
      "Epoch 1:  95%|██████████████████████████████████████████████████████████████████████████████████▌    | 149/157 [00:24<00:01,  6.17it/s, loss=1.19, v_num=0]\u001b[A\n",
      "Epoch 1:  96%|███████████████████████████████████████████████████████████████████████████████████    | 150/157 [00:24<00:01,  6.21it/s, loss=1.19, v_num=0]\u001b[A\n",
      "Epoch 1:  96%|███████████████████████████████████████████████████████████████████████████████████▋   | 151/157 [00:24<00:00,  6.25it/s, loss=1.19, v_num=0]\u001b[A\n",
      "Epoch 1:  97%|████████████████████████████████████████████████████████████████████████████████████▏  | 152/157 [00:24<00:00,  6.28it/s, loss=1.19, v_num=0]\u001b[A\n",
      "Epoch 1:  97%|████████████████████████████████████████████████████████████████████████████████████▊  | 153/157 [00:24<00:00,  6.32it/s, loss=1.19, v_num=0]\u001b[A\n"
     ]
    },
    {
     "name": "stdout",
     "output_type": "stream",
     "text": [
      "Epoch 1:  98%|█████████████████████████████████████████████████████████████████████████████████████▎ | 154/157 [00:24<00:00,  6.36it/s, loss=1.19, v_num=0]\u001b[A\n",
      "Epoch 1:  99%|█████████████████████████████████████████████████████████████████████████████████████▉ | 155/157 [00:24<00:00,  6.39it/s, loss=1.19, v_num=0]\u001b[A\n",
      "Epoch 1:  99%|██████████████████████████████████████████████████████████████████████████████████████▍| 156/157 [00:24<00:00,  6.43it/s, loss=1.19, v_num=0]\u001b[A\n",
      "Epoch 1: 100%|███████████████████████████████████████████████████████████████████████████████████████| 157/157 [00:24<00:00,  6.47it/s, loss=1.19, v_num=0]\u001b[A\n",
      "Testing DataLoader 0: 100%|████████████████████████████████████████████████████████████████████████████████████████████████| 19/19 [00:00<00:00, 61.15it/s]\u001b[A\n"
     ]
    },
    {
     "data": {
      "text/html": [
       "<pre style=\"white-space:pre;overflow-x:auto;line-height:normal;font-family:Menlo,'DejaVu Sans Mono',consolas,'Courier New',monospace\">┏━━━━━━━━━━━━━━━━━━━━━━━━━━━┳━━━━━━━━━━━━━━━━━━━━━━━━━━━┓\n",
       "┃<span style=\"font-weight: bold\">        Test metric        </span>┃<span style=\"font-weight: bold\">       DataLoader 0        </span>┃\n",
       "┡━━━━━━━━━━━━━━━━━━━━━━━━━━━╇━━━━━━━━━━━━━━━━━━━━━━━━━━━┩\n",
       "│<span style=\"color: #008080; text-decoration-color: #008080\">         test_acc          </span>│<span style=\"color: #800080; text-decoration-color: #800080\">    0.7260273694992065     </span>│\n",
       "└───────────────────────────┴───────────────────────────┘\n",
       "</pre>\n"
      ],
      "text/plain": [
       "┏━━━━━━━━━━━━━━━━━━━━━━━━━━━┳━━━━━━━━━━━━━━━━━━━━━━━━━━━┓\n",
       "┃\u001b[1m \u001b[0m\u001b[1m       Test metric       \u001b[0m\u001b[1m \u001b[0m┃\u001b[1m \u001b[0m\u001b[1m      DataLoader 0       \u001b[0m\u001b[1m \u001b[0m┃\n",
       "┡━━━━━━━━━━━━━━━━━━━━━━━━━━━╇━━━━━━━━━━━━━━━━━━━━━━━━━━━┩\n",
       "│\u001b[36m \u001b[0m\u001b[36m        test_acc         \u001b[0m\u001b[36m \u001b[0m│\u001b[35m \u001b[0m\u001b[35m   0.7260273694992065    \u001b[0m\u001b[35m \u001b[0m│\n",
       "└───────────────────────────┴───────────────────────────┘\n"
      ]
     },
     "metadata": {},
     "output_type": "display_data"
    },
    {
     "name": "stderr",
     "output_type": "stream",
     "text": [
      "GPU available: False, used: False\n",
      "TPU available: False, using: 0 TPU cores\n"
     ]
    },
    {
     "name": "stdout",
     "output_type": "stream",
     "text": [
      "\n",
      "*************KFOLD 2*************\n"
     ]
    },
    {
     "name": "stderr",
     "output_type": "stream",
     "text": [
      "IPU available: False, using: 0 IPUs\n",
      "HPU available: False, using: 0 HPUs\n",
      "\n",
      "  | Name       | Type       | Params\n",
      "------------------------------------------\n",
      "0 | rnn        | LSTM       | 57.9 K\n",
      "1 | seq_1      | Sequential | 8.6 K \n",
      "2 | seq_2      | Sequential | 8.6 K \n",
      "3 | classifier | Linear     | 1.2 K \n",
      "------------------------------------------\n",
      "76.2 K    Trainable params\n",
      "0         Non-trainable params\n",
      "76.2 K    Total params\n",
      "0.305     Total estimated model params size (MB)\n"
     ]
    },
    {
     "name": "stdout",
     "output_type": "stream",
     "text": [
      "Testing DataLoader 0: 100%|████████████████████████████████████████████████████████████████████████████████████████████████| 19/19 [00:00<00:00, 61.22it/s]\n"
     ]
    },
    {
     "data": {
      "text/html": [
       "<pre style=\"white-space:pre;overflow-x:auto;line-height:normal;font-family:Menlo,'DejaVu Sans Mono',consolas,'Courier New',monospace\">┏━━━━━━━━━━━━━━━━━━━━━━━━━━━┳━━━━━━━━━━━━━━━━━━━━━━━━━━━┓\n",
       "┃<span style=\"font-weight: bold\">        Test metric        </span>┃<span style=\"font-weight: bold\">       DataLoader 0        </span>┃\n",
       "┡━━━━━━━━━━━━━━━━━━━━━━━━━━━╇━━━━━━━━━━━━━━━━━━━━━━━━━━━┩\n",
       "│<span style=\"color: #008080; text-decoration-color: #008080\">         test_acc          </span>│<span style=\"color: #800080; text-decoration-color: #800080\">     0.534246563911438     </span>│\n",
       "└───────────────────────────┴───────────────────────────┘\n",
       "</pre>\n"
      ],
      "text/plain": [
       "┏━━━━━━━━━━━━━━━━━━━━━━━━━━━┳━━━━━━━━━━━━━━━━━━━━━━━━━━━┓\n",
       "┃\u001b[1m \u001b[0m\u001b[1m       Test metric       \u001b[0m\u001b[1m \u001b[0m┃\u001b[1m \u001b[0m\u001b[1m      DataLoader 0       \u001b[0m\u001b[1m \u001b[0m┃\n",
       "┡━━━━━━━━━━━━━━━━━━━━━━━━━━━╇━━━━━━━━━━━━━━━━━━━━━━━━━━━┩\n",
       "│\u001b[36m \u001b[0m\u001b[36m        test_acc         \u001b[0m\u001b[36m \u001b[0m│\u001b[35m \u001b[0m\u001b[35m    0.534246563911438    \u001b[0m\u001b[35m \u001b[0m│\n",
       "└───────────────────────────┴───────────────────────────┘\n"
      ]
     },
     "metadata": {},
     "output_type": "display_data"
    },
    {
     "name": "stderr",
     "output_type": "stream",
     "text": [
      "GPU available: False, used: False\n",
      "TPU available: False, using: 0 TPU cores\n",
      "IPU available: False, using: 0 IPUs\n",
      "HPU available: False, using: 0 HPUs\n",
      "\n",
      "  | Name       | Type       | Params\n",
      "------------------------------------------\n",
      "0 | rnn        | LSTM       | 57.9 K\n",
      "1 | seq_1      | Sequential | 8.6 K \n",
      "2 | seq_2      | Sequential | 8.6 K \n",
      "3 | classifier | Linear     | 1.2 K \n",
      "------------------------------------------\n",
      "76.2 K    Trainable params\n",
      "0         Non-trainable params\n",
      "76.2 K    Total params\n",
      "0.305     Total estimated model params size (MB)\n"
     ]
    },
    {
     "name": "stdout",
     "output_type": "stream",
     "text": [
      "\n",
      "*************KFOLD 3*************\n",
      "Epoch 0:  79%|████████████████████████████████████████████████████████████████████▋                  | 124/157 [00:20<00:05,  6.18it/s, loss=1.48, v_num=1]\n"
     ]
    },
    {
     "name": "stderr",
     "output_type": "stream",
     "text": [
      "\n",
      "KeyboardInterrupt\n",
      "\n"
     ]
    }
   ],
   "source": [
    "from tqdm.auto import tqdm\n",
    "from pytorch_lightning.callbacks.early_stopping import EarlyStopping\n",
    "# from lightning.pytorch.callbacks.early_stopping import EarlyStopping\n",
    "\n",
    "batch_size = 1024\n",
    "patience = 20\n",
    "\n",
    "all_test = []\n",
    "all_pred = []\n",
    "loss_all_folds = []\n",
    "\n",
    "# kfold_train_test_index_list = [kfold_train_test_index_list[0]]\n",
    "\n",
    "for i, (train_index, val_index, test_index) in enumerate(kfold_train_test_index_list):\n",
    "    print(f\"\\n*************KFOLD {i + 1}*************\")\n",
    "    \n",
    "    train_dataset = CustomDataset(features, labels, train_index)\n",
    "    val_dataset = CustomDataset(features, labels, val_index)\n",
    "    test_dataset = CustomDataset(features, labels, test_index)\n",
    "\n",
    "    train_dataloader = DataLoader(\n",
    "        train_dataset, \n",
    "        batch_size=batch_size,\n",
    "        num_workers=4, # number of subprocesses to use for data loading\n",
    "        shuffle=True)\n",
    "    \n",
    "    val_dataloader = DataLoader(\n",
    "        val_dataset, \n",
    "        batch_size=batch_size,\n",
    "        num_workers=2, # number of subprocesses to use for data loading\n",
    "        shuffle=False)\n",
    "    \n",
    "    test_dataloader = DataLoader(\n",
    "        test_dataset,\n",
    "        batch_size=batch_size,\n",
    "        num_workers=2, # number of subprocesses to use for data loading\n",
    "        shuffle=False)\n",
    "    \n",
    "    model = LSTMModel(hidden_size=64, input_size=feature_num, output_size=len(label_list))\n",
    "\n",
    "    trainer = pl.Trainer(callbacks=[EarlyStopping(monitor=\"val_loss\", patience=patience, mode=\"min\")])\n",
    "    trainer.fit(model, train_dataloader, val_dataloader)\n",
    "    trainer.test(model, test_dataloader)\n",
    "    "
   ]
  },
  {
   "cell_type": "code",
   "execution_count": null,
   "id": "a27f0fd1",
   "metadata": {},
   "outputs": [],
   "source": []
  }
 ],
 "metadata": {
  "kernelspec": {
   "display_name": "torch-gpu",
   "language": "python",
   "name": "torch-gpu"
  },
  "language_info": {
   "codemirror_mode": {
    "name": "ipython",
    "version": 3
   },
   "file_extension": ".py",
   "mimetype": "text/x-python",
   "name": "python",
   "nbconvert_exporter": "python",
   "pygments_lexer": "ipython3",
   "version": "3.8.13"
  }
 },
 "nbformat": 4,
 "nbformat_minor": 5
}
