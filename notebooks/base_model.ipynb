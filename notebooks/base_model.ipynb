{
 "cells": [
  {
   "cell_type": "code",
   "execution_count": 1,
   "id": "dbfe7bdf",
   "metadata": {},
   "outputs": [],
   "source": [
    "import pandas as pd\n",
    "import numpy as np\n",
    "import glob\n",
    "import os\n",
    "import json\n"
   ]
  },
  {
   "cell_type": "markdown",
   "id": "c5fb8467",
   "metadata": {},
   "source": [
    "## Feature Extract function"
   ]
  },
  {
   "cell_type": "code",
   "execution_count": 16,
   "id": "a148d0ff",
   "metadata": {},
   "outputs": [
    {
     "name": "stdout",
     "output_type": "stream",
     "text": [
      "Overwriting preprocessing.py\n"
     ]
    }
   ],
   "source": [
    "%%writefile preprocessing.py\n",
    "\n",
    "from scipy.fftpack import fft\n",
    "from scipy import signal\n",
    "import numpy as np\n",
    "import pandas as pd\n",
    "\n",
    "\n",
    "def Calc_Time(signalData):\n",
    "    Mean = np.mean(signalData) # 平均値\n",
    "    Std = np.std(signalData - Mean)  #標準偏差\n",
    "\n",
    "    return [Mean, Std]\n",
    "\n",
    "# RMSを求める関数\n",
    "def Calc_RMS(signalData):\n",
    "    a = signalData * signalData  # 二乗\n",
    "    sum_a = np.sum(a)  # 総和\n",
    "    sqrt_a = np.sqrt(sum_a) # 平方根\n",
    "    RMS = np.mean(sqrt_a) # 平均値\n",
    "    \n",
    "    return [RMS]\n",
    "\n",
    "def Calc_Freq(signalData):\n",
    "    L = len(signalData) # 信号長\n",
    "    Win = signal.hann(L) #ハニング窓を使用\n",
    "\n",
    "    S = np.fft.fft(Win * signalData) # 振幅スペクトル\n",
    "    PowerSpectrum = (S * S.conjugate()) # パワースペクトル\n",
    "    Energy = np.sum(PowerSpectrum.real)\n",
    "\n",
    "    P = PowerSpectrum.real/np.sum(Energy)\n",
    "    Entropy = -np.sum(P*np.log(P))\n",
    "\n",
    "\n",
    "    return [Energy, Entropy]\n"
   ]
  },
  {
   "cell_type": "code",
   "execution_count": 17,
   "id": "43ebec96",
   "metadata": {},
   "outputs": [],
   "source": [
    "import preprocessing"
   ]
  },
  {
   "cell_type": "code",
   "execution_count": 18,
   "id": "dfe0c0fc",
   "metadata": {},
   "outputs": [],
   "source": [
    "save_folder = \"../data/jikken1/\"\n",
    "\n",
    "feature_save_file = os.path.join(save_folder, \"features.npy\")\n",
    "label_save_file = os.path.join(save_folder, \"label.npy\")\n",
    "label_name_save_file = os.path.join(save_folder, \"label_name.json\")\n",
    "\n",
    "kfold_split_save_file = os.path.join(save_folder, \"kfold_train_val_test.npy\")"
   ]
  },
  {
   "cell_type": "code",
   "execution_count": 19,
   "id": "c4dfd651",
   "metadata": {},
   "outputs": [
    {
     "name": "stderr",
     "output_type": "stream",
     "text": [
      "/var/folders/m8/y6jc4w1s4cbb3830x0n6zygr0000gn/T/ipykernel_73620/3045065398.py:1: DeprecationWarning: `np.float` is a deprecated alias for the builtin `float`. To silence this warning, use `float` by itself. Doing this will not modify any behavior and is safe. If you specifically wanted the numpy scalar type, use `np.float64` here.\n",
      "Deprecated in NumPy 1.20; for more details and guidance: https://numpy.org/devdocs/release/1.20.0-notes.html#deprecations\n",
      "  features = np.load(feature_save_file, allow_pickle=True).astype(np.float)\n"
     ]
    }
   ],
   "source": [
    "features = np.load(feature_save_file, allow_pickle=True).astype(np.float)\n",
    "labels = np.load(label_save_file, allow_pickle=True)\n",
    "\n",
    "kfold_train_test_index_list = np.load(kfold_split_save_file, allow_pickle=True)"
   ]
  },
  {
   "cell_type": "code",
   "execution_count": 89,
   "id": "4d7040d3",
   "metadata": {},
   "outputs": [],
   "source": [
    "with open(label_name_save_file) as f:\n",
    "    label_list = json.load(f)\n",
    "    \n",
    "eng_label_dict = dict(zip(\n",
    "    ['歩いている', '立っている', '走っている', '階段降り', '階段上り', '座っている'],\n",
    "    ['Walking', 'Standing', 'Jogging', 'DownStair', 'Upstair', 'Sit']\n",
    "))\n",
    "label_index_list= sorted(map(int, label_list.keys()))\n",
    "eng_label_list = [eng_label_dict[label_list[str(i)]] for i in label_list_index]"
   ]
  },
  {
   "cell_type": "code",
   "execution_count": 88,
   "id": "87162054",
   "metadata": {},
   "outputs": [
    {
     "data": {
      "text/plain": [
       "{'0': '歩いている',\n",
       " '1': '立っている',\n",
       " '2': '走っている',\n",
       " '3': '階段降り',\n",
       " '4': '階段上り',\n",
       " '5': '座っている'}"
      ]
     },
     "execution_count": 88,
     "metadata": {},
     "output_type": "execute_result"
    }
   ],
   "source": [
    "label_list"
   ]
  },
  {
   "cell_type": "code",
   "execution_count": 21,
   "id": "88b4672f",
   "metadata": {},
   "outputs": [
    {
     "data": {
      "text/plain": [
       "(699, 200, 30)"
      ]
     },
     "execution_count": 21,
     "metadata": {},
     "output_type": "execute_result"
    }
   ],
   "source": [
    "feature_b, feature_ts, _ = features.shape\n",
    "feature_b, feature_ts, _"
   ]
  },
  {
   "cell_type": "code",
   "execution_count": 25,
   "id": "a5a4b183",
   "metadata": {},
   "outputs": [
    {
     "data": {
      "text/plain": [
       "(['ax_A',\n",
       "  'ay_A',\n",
       "  'az_A',\n",
       "  'gx_A',\n",
       "  'gy_A',\n",
       "  'gz_A',\n",
       "  'ax_B',\n",
       "  'ay_B',\n",
       "  'az_B',\n",
       "  'gx_B',\n",
       "  'gy_B',\n",
       "  'gz_B',\n",
       "  'ax_C',\n",
       "  'ay_C',\n",
       "  'az_C',\n",
       "  'gx_C',\n",
       "  'gy_C',\n",
       "  'gz_C',\n",
       "  'ax_D',\n",
       "  'ay_D',\n",
       "  'az_D',\n",
       "  'gx_D',\n",
       "  'gy_D',\n",
       "  'gz_D',\n",
       "  'ax_E',\n",
       "  'ay_E',\n",
       "  'az_E',\n",
       "  'gx_E',\n",
       "  'gy_E',\n",
       "  'gz_E'],\n",
       " ['ax_A_mean',\n",
       "  'ax_A_std',\n",
       "  'ax_A_RMS',\n",
       "  'ax_A_energy',\n",
       "  'ax_A_entropy',\n",
       "  'ay_A_mean',\n",
       "  'ay_A_std',\n",
       "  'ay_A_RMS',\n",
       "  'ay_A_energy',\n",
       "  'ay_A_entropy',\n",
       "  'az_A_mean',\n",
       "  'az_A_std',\n",
       "  'az_A_RMS',\n",
       "  'az_A_energy',\n",
       "  'az_A_entropy',\n",
       "  'gx_A_mean',\n",
       "  'gx_A_std',\n",
       "  'gx_A_RMS',\n",
       "  'gx_A_energy',\n",
       "  'gx_A_entropy',\n",
       "  'gy_A_mean',\n",
       "  'gy_A_std',\n",
       "  'gy_A_RMS',\n",
       "  'gy_A_energy',\n",
       "  'gy_A_entropy',\n",
       "  'gz_A_mean',\n",
       "  'gz_A_std',\n",
       "  'gz_A_RMS',\n",
       "  'gz_A_energy',\n",
       "  'gz_A_entropy',\n",
       "  'ax_B_mean',\n",
       "  'ax_B_std',\n",
       "  'ax_B_RMS',\n",
       "  'ax_B_energy',\n",
       "  'ax_B_entropy',\n",
       "  'ay_B_mean',\n",
       "  'ay_B_std',\n",
       "  'ay_B_RMS',\n",
       "  'ay_B_energy',\n",
       "  'ay_B_entropy',\n",
       "  'az_B_mean',\n",
       "  'az_B_std',\n",
       "  'az_B_RMS',\n",
       "  'az_B_energy',\n",
       "  'az_B_entropy',\n",
       "  'gx_B_mean',\n",
       "  'gx_B_std',\n",
       "  'gx_B_RMS',\n",
       "  'gx_B_energy',\n",
       "  'gx_B_entropy',\n",
       "  'gy_B_mean',\n",
       "  'gy_B_std',\n",
       "  'gy_B_RMS',\n",
       "  'gy_B_energy',\n",
       "  'gy_B_entropy',\n",
       "  'gz_B_mean',\n",
       "  'gz_B_std',\n",
       "  'gz_B_RMS',\n",
       "  'gz_B_energy',\n",
       "  'gz_B_entropy',\n",
       "  'ax_C_mean',\n",
       "  'ax_C_std',\n",
       "  'ax_C_RMS',\n",
       "  'ax_C_energy',\n",
       "  'ax_C_entropy',\n",
       "  'ay_C_mean',\n",
       "  'ay_C_std',\n",
       "  'ay_C_RMS',\n",
       "  'ay_C_energy',\n",
       "  'ay_C_entropy',\n",
       "  'az_C_mean',\n",
       "  'az_C_std',\n",
       "  'az_C_RMS',\n",
       "  'az_C_energy',\n",
       "  'az_C_entropy',\n",
       "  'gx_C_mean',\n",
       "  'gx_C_std',\n",
       "  'gx_C_RMS',\n",
       "  'gx_C_energy',\n",
       "  'gx_C_entropy',\n",
       "  'gy_C_mean',\n",
       "  'gy_C_std',\n",
       "  'gy_C_RMS',\n",
       "  'gy_C_energy',\n",
       "  'gy_C_entropy',\n",
       "  'gz_C_mean',\n",
       "  'gz_C_std',\n",
       "  'gz_C_RMS',\n",
       "  'gz_C_energy',\n",
       "  'gz_C_entropy',\n",
       "  'ax_D_mean',\n",
       "  'ax_D_std',\n",
       "  'ax_D_RMS',\n",
       "  'ax_D_energy',\n",
       "  'ax_D_entropy',\n",
       "  'ay_D_mean',\n",
       "  'ay_D_std',\n",
       "  'ay_D_RMS',\n",
       "  'ay_D_energy',\n",
       "  'ay_D_entropy',\n",
       "  'az_D_mean',\n",
       "  'az_D_std',\n",
       "  'az_D_RMS',\n",
       "  'az_D_energy',\n",
       "  'az_D_entropy',\n",
       "  'gx_D_mean',\n",
       "  'gx_D_std',\n",
       "  'gx_D_RMS',\n",
       "  'gx_D_energy',\n",
       "  'gx_D_entropy',\n",
       "  'gy_D_mean',\n",
       "  'gy_D_std',\n",
       "  'gy_D_RMS',\n",
       "  'gy_D_energy',\n",
       "  'gy_D_entropy',\n",
       "  'gz_D_mean',\n",
       "  'gz_D_std',\n",
       "  'gz_D_RMS',\n",
       "  'gz_D_energy',\n",
       "  'gz_D_entropy',\n",
       "  'ax_E_mean',\n",
       "  'ax_E_std',\n",
       "  'ax_E_RMS',\n",
       "  'ax_E_energy',\n",
       "  'ax_E_entropy',\n",
       "  'ay_E_mean',\n",
       "  'ay_E_std',\n",
       "  'ay_E_RMS',\n",
       "  'ay_E_energy',\n",
       "  'ay_E_entropy',\n",
       "  'az_E_mean',\n",
       "  'az_E_std',\n",
       "  'az_E_RMS',\n",
       "  'az_E_energy',\n",
       "  'az_E_entropy',\n",
       "  'gx_E_mean',\n",
       "  'gx_E_std',\n",
       "  'gx_E_RMS',\n",
       "  'gx_E_energy',\n",
       "  'gx_E_entropy',\n",
       "  'gy_E_mean',\n",
       "  'gy_E_std',\n",
       "  'gy_E_RMS',\n",
       "  'gy_E_energy',\n",
       "  'gy_E_entropy',\n",
       "  'gz_E_mean',\n",
       "  'gz_E_std',\n",
       "  'gz_E_RMS',\n",
       "  'gz_E_energy',\n",
       "  'gz_E_entropy'])"
      ]
     },
     "execution_count": 25,
     "metadata": {},
     "output_type": "execute_result"
    }
   ],
   "source": [
    "columns = [f'{t}{axis}_{sensor_id}' for sensor_id in 'ABCDE' for t in 'ag' for axis in 'xyz']\n",
    "target_columns = [f'{orig_col}_{statistic_func}' for orig_col in columns for statistic_func in [\"mean\", \"std\", \"RMS\", \"energy\", \"entropy\"]]\n",
    "columns, target_columns"
   ]
  },
  {
   "cell_type": "code",
   "execution_count": 28,
   "id": "5340edfe",
   "metadata": {},
   "outputs": [
    {
     "data": {
      "text/plain": [
       "150"
      ]
     },
     "execution_count": 28,
     "metadata": {},
     "output_type": "execute_result"
    }
   ],
   "source": [
    "len(target_columns)"
   ]
  },
  {
   "cell_type": "code",
   "execution_count": 29,
   "id": "f6d12097",
   "metadata": {},
   "outputs": [],
   "source": [
    "features_df = pd.DataFrame(columns=target_columns)\n",
    "\n",
    "for i in range(feature_b):\n",
    "    signal_data = pd.DataFrame(features[i], columns=columns)\n",
    "    \n",
    "    one_feature_array = []\n",
    "    for sensor_type in \"ag\":\n",
    "        for axis in \"xyz\":\n",
    "            for sensor_name in \"ABCDE\":\n",
    "        \n",
    "                one_feature_array.extend( preprocessing.Calc_Time(signal_data.loc[:, f'{sensor_type}{axis}_{sensor_name}'] ))\n",
    "                one_feature_array.extend( preprocessing.Calc_RMS(signal_data.loc[:, f'{sensor_type}{axis}_{sensor_name}']) )\n",
    "                one_feature_array.extend( preprocessing.Calc_Freq(signal_data.loc[:, f'{sensor_type}{axis}_{sensor_name}']) )\n",
    "    \n",
    "    features_df.loc[len(features_df)] = one_feature_array\n"
   ]
  },
  {
   "cell_type": "markdown",
   "id": "3902175b",
   "metadata": {},
   "source": [
    "## Create Base model"
   ]
  },
  {
   "cell_type": "code",
   "execution_count": 77,
   "id": "411b140f",
   "metadata": {},
   "outputs": [],
   "source": [
    "from sklearn.model_selection import KFold\n",
    "\n",
    "def k_fold_eval(model):\n",
    "        \n",
    "    all_test = []\n",
    "    all_pred = []\n",
    "\n",
    "    for i, (train_index, val_index, test_index) in enumerate(kfold_train_test_index_list):\n",
    "\n",
    "        train_val_index = np.concatenate([train_index, val_index])\n",
    "\n",
    "        train_x = features_df.values[train_val_index]\n",
    "        train_y = labels[train_val_index]\n",
    "        \n",
    "        test_x = features_df.values[test_index]\n",
    "        test_y = labels[test_index]\n",
    "        \n",
    "        model.fit(train_x, train_y)\n",
    "        \n",
    "        y_pred = model.predict(test_x)\n",
    "        \n",
    "        all_test.extend(test_y)\n",
    "        all_pred.extend(y_pred)\n",
    "        \n",
    "    return all_test, all_pred"
   ]
  },
  {
   "cell_type": "markdown",
   "id": "956ffd84",
   "metadata": {},
   "source": [
    "### test with DecisionTreeClassifier"
   ]
  },
  {
   "cell_type": "code",
   "execution_count": 90,
   "id": "f862dfaf",
   "metadata": {},
   "outputs": [
    {
     "data": {
      "text/plain": [
       "<AxesSubplot:>"
      ]
     },
     "execution_count": 90,
     "metadata": {},
     "output_type": "execute_result"
    },
    {
     "data": {
      "image/png": "[encoded data removed]",
      "text/plain": [
       "<Figure size 640x480 with 2 Axes>"
      ]
     },
     "metadata": {},
     "output_type": "display_data"
    }
   ],
   "source": [
    "from sklearn import tree\n",
    "from sklearn.metrics import confusion_matrix\n",
    "import seaborn as sns\n",
    "\n",
    "Model = tree.DecisionTreeClassifier(criterion='gini', min_samples_leaf=1 , max_depth=6) # モデル構造の定義\n",
    "\n",
    "all_test, all_pred = k_fold_eval(Model)\n",
    "cf = confusion_matrix(all_test, all_pred, labels=label_index_list)\n",
    "sns.heatmap(cf, annot=True, xticklabels=eng_label_list, yticklabels=eng_label_list, fmt='g')"
   ]
  },
  {
   "cell_type": "code",
   "execution_count": 92,
   "id": "5ce487d5",
   "metadata": {},
   "outputs": [
    {
     "name": "stdout",
     "output_type": "stream",
     "text": [
      "precision_recall_fscore_support: \n",
      "\n",
      "Walking    Standing    Jogging    DownStair    Upstair    Sit\n",
      "[0.94308943 1.         0.99137931 0.92372881 0.98181818 1.        ]\n",
      "[0.95867769 1.         0.99137931 0.94782609 0.93913043 1.        ]\n",
      "[0.95081967 1.         0.99137931 0.93562232 0.96       1.        ]\n",
      "[121 119 116 115 115 113]\n"
     ]
    }
   ],
   "source": [
    "from sklearn.metrics import precision_recall_fscore_support\n",
    "\n",
    "print(\"precision_recall_fscore_support: \")\n",
    "print()\n",
    "print(*eng_label_list, sep=\" \"*4)\n",
    "print(*precision_recall_fscore_support(all_test, all_pred, labels=label_index_list), sep=\"\\n\")"
   ]
  },
  {
   "cell_type": "markdown",
   "id": "96346ce3",
   "metadata": {},
   "source": [
    "### test with SVM"
   ]
  },
  {
   "cell_type": "code",
   "execution_count": 93,
   "id": "f763cd4e",
   "metadata": {},
   "outputs": [
    {
     "data": {
      "text/plain": [
       "<AxesSubplot:>"
      ]
     },
     "execution_count": 93,
     "metadata": {},
     "output_type": "execute_result"
    },
    {
     "data": {
      "image/png": "[encoded data removed]",
      "text/plain": [
       "<Figure size 640x480 with 2 Axes>"
      ]
     },
     "metadata": {},
     "output_type": "display_data"
    }
   ],
   "source": [
    "from sklearn import svm\n",
    "from sklearn.metrics import confusion_matrix\n",
    "import seaborn as sns\n",
    "\n",
    "Model = svm.SVC(kernel='rbf', degree=4) # モデル構造の定義\n",
    "\n",
    "all_test, all_pred = k_fold_eval(Model)\n",
    "cf = confusion_matrix(all_test, all_pred, labels=label_index_list)\n",
    "sns.heatmap(cf, annot=True, xticklabels=eng_label_list, yticklabels=eng_label_list, fmt='g')"
   ]
  },
  {
   "cell_type": "code",
   "execution_count": 94,
   "id": "08322bf0",
   "metadata": {},
   "outputs": [
    {
     "name": "stdout",
     "output_type": "stream",
     "text": [
      "precision_recall_fscore_support: \n",
      "\n",
      "Walking    Standing    Jogging    DownStair    Upstair    Sit\n",
      "[0.87671233 0.99166667 1.         0.84848485 0.56741573 1.        ]\n",
      "[0.52892562 1.         1.         0.73043478 0.87826087 1.        ]\n",
      "[0.65979381 0.9958159  1.         0.78504673 0.6894198  1.        ]\n",
      "[121 119 116 115 115 113]\n"
     ]
    }
   ],
   "source": [
    "from sklearn.metrics import precision_recall_fscore_support\n",
    "\n",
    "print(\"precision_recall_fscore_support: \")\n",
    "print()\n",
    "print(*eng_label_list, sep=\" \"*4)\n",
    "print(*precision_recall_fscore_support(all_test, all_pred, labels=label_index_list), sep=\"\\n\")"
   ]
  },
  {
   "cell_type": "code",
   "execution_count": null,
   "id": "696d225d",
   "metadata": {},
   "outputs": [],
   "source": []
  }
 ],
 "metadata": {
  "kernelspec": {
   "display_name": "Python 3 (ipykernel)",
   "language": "python",
   "name": "python3"
  },
  "language_info": {
   "codemirror_mode": {
    "name": "ipython",
    "version": 3
   },
   "file_extension": ".py",
   "mimetype": "text/x-python",
   "name": "python",
   "nbconvert_exporter": "python",
   "pygments_lexer": "ipython3",
   "version": "3.8.13"
  }
 },
 "nbformat": 4,
 "nbformat_minor": 5
}
