{
 "cells": [
  {
   "cell_type": "code",
   "execution_count": 1,
   "id": "d4ce6502-93ec-4660-8864-7ff3019c6084",
   "metadata": {},
   "outputs": [
    {
     "name": "stderr",
     "output_type": "stream",
     "text": [
      "/home/tran/miniconda3/envs/compgan/lib/python3.8/site-packages/tqdm/auto.py:21: TqdmWarning: IProgress not found. Please update jupyter and ipywidgets. See https://ipywidgets.readthedocs.io/en/stable/user_install.html\n",
      "  from .autonotebook import tqdm as notebook_tqdm\n"
     ]
    }
   ],
   "source": [
    "import lightning as L\n",
    "import torch.nn.functional as F\n",
    "from torch.utils.data import Dataset\n",
    "from torch.utils.data import DataLoader\n",
    "\n",
    "from lightning.pytorch.callbacks.early_stopping import EarlyStopping\n",
    "from lightning.pytorch.callbacks import ModelCheckpoint\n",
    "from lightning.pytorch.loggers import TensorBoardLogger\n",
    "from lightning.pytorch.utilities.model_summary import ModelSummary\n",
    "\n",
    "import torch.optim as optim\n",
    "\n",
    "from tqdm.auto import tqdm\n",
    "\n",
    "import seaborn as sns\n",
    "import matplotlib.pyplot as plt\n",
    "\n",
    "import pandas as pd\n",
    "import numpy  as np\n",
    "import tracemalloc \n",
    "\n",
    "import json\n",
    "import os\n",
    "import gc\n",
    "import time\n",
    "import sys\n",
    "\n",
    "sys.path.insert(0, os.path.join(os.path.abspath(''), \"..\"))\n",
    "from model.builder import LSTMModel, LSTMAttentionModel, CNNLSTMModel, CNNLSTMAttentionModel, CNNAttentionModel, CNNModel\n",
    "from datamodule.datamodule import DataModule, FFTDataModule\n",
    "\n",
    "import warnings\n",
    "warnings.filterwarnings(\"ignore\")"
   ]
  },
  {
   "cell_type": "code",
   "execution_count": 2,
   "id": "afe087b5-0c7e-47da-8725-354729b83319",
   "metadata": {},
   "outputs": [
    {
     "name": "stderr",
     "output_type": "stream",
     "text": [
      "Seed set to 42\n"
     ]
    },
    {
     "data": {
      "text/plain": [
       "42"
      ]
     },
     "execution_count": 2,
     "metadata": {},
     "output_type": "execute_result"
    }
   ],
   "source": [
    "L.seed_everything(42)"
   ]
  },
  {
   "cell_type": "code",
   "execution_count": 3,
   "id": "e3c805e5",
   "metadata": {},
   "outputs": [],
   "source": [
    "n_epochs = 20000000\n",
    "patience = n_epochs//10000\n",
    "\n",
    "missing = 6\n",
    "user = 0\n",
    "\n",
    "batch_size = 512\n",
    "log_save_dir = os.path.join(\"../data/compgan_dataset/\", \"results\", \"83_classify_CV\")\n",
    "# log_save_name = f\"{missing}_missing/user{user}\""
   ]
  },
  {
   "cell_type": "code",
   "execution_count": 8,
   "id": "af66ab22-cfe6-4062-a1b0-2102fad90c16",
   "metadata": {},
   "outputs": [],
   "source": [
    "train_model_class = [LSTMModel, LSTMAttentionModel, CNNLSTMModel, CNNLSTMAttentionModel, CNNAttentionModel, CNNModel]\n",
    "# train_model_class = [LSTMModel]"
   ]
  },
  {
   "cell_type": "code",
   "execution_count": null,
   "id": "e3b7fc04-f150-4f23-a0db-d2ef89609792",
   "metadata": {},
   "outputs": [],
   "source": [
    "for model_class in train_model_class: \n",
    "    \n",
    "    model_name = model_class.__name__\n",
    "    print(\"Running for model\", model_name)\n",
    "    \n",
    "    for missing_sensor_numbers in [6]: ## Changed for 1 missing sensor\n",
    "        for user in list(range(16)): ## Changed for user 2 only\n",
    "            log_save_name = f\"{model_name}/{missing_sensor_numbers}_missing/user{user}\"\n",
    "            \n",
    "            data_module = DataModule(\n",
    "                test_user=user, \n",
    "                missing_sensor_numbers=missing_sensor_numbers,\n",
    "                batch_size=512)\n",
    "            \n",
    "            net = model_class(input_size=42,\n",
    "                              output_size=10,\n",
    "                              sequence_length=256,\n",
    "                              )\n",
    "                        \n",
    "            model_summary = ModelSummary(net, max_depth=6)\n",
    "            print(model_summary)\n",
    "                \n",
    "            start_timer = time.perf_counter()\n",
    "            print(f\"\\n*************training on User{user}*************\")\n",
    "            \n",
    "            tensorboard_logger = TensorBoardLogger(save_dir=log_save_dir, name=log_save_name,)\n",
    "            checkpoint_callback = ModelCheckpoint(\n",
    "                dirpath=None,\n",
    "                save_top_k=1,\n",
    "                monitor=\"val_loss\",\n",
    "                mode=\"min\",\n",
    "                filename=\"sample_{epoch:02d}-{step:02d}-{val_loss:02f}\"\n",
    "            )\n",
    "            \n",
    "            trainer = L.Trainer(\n",
    "                logger=[tensorboard_logger],\n",
    "                callbacks=[EarlyStopping(monitor=\"val_loss\", patience=patience), checkpoint_callback],\n",
    "                # max_epochs=n_epochs,\n",
    "                max_steps=5,\n",
    "                check_val_every_n_epoch=10,\n",
    "                accelerator=\"gpu\", \n",
    "                )\n",
    "\n",
    "            trainer.fit(model=net, datamodule=data_module)\n",
    "            trainer_test_dict = trainer.logged_metrics\n",
    "\n",
    "            trainer.test(model=net, datamodule=data_module)\n",
    "            trainer_test_dict.update(trainer.logged_metrics)\n",
    "\n",
    "            print(\"trainer.logger.log_dir\", trainer.logger.log_dir)\n",
    "\n",
    "            for key in trainer_test_dict.keys():\n",
    "                trainer_test_dict[key] = trainer_test_dict[key].item()\n",
    "\n",
    "            with open(os.path.join(trainer.logger.log_dir, \"result.json\"), \"w\") as f:\n",
    "                json.dump(trainer_test_dict, f, indent=4)\n",
    "    \n",
    "            end_timer = time.perf_counter()\n",
    "            exec_time = end_timer - start_timer\n",
    "            print(f\"\\n*************End training on User{user}*************\")\n",
    "            print(f\"exec time:\", exec_time)"
   ]
  },
  {
   "cell_type": "code",
   "execution_count": null,
   "id": "3e0d62ad",
   "metadata": {},
   "outputs": [],
   "source": []
  }
 ],
 "metadata": {
  "interpreter": {
   "hash": "f3f15c77c882d8433ef1043b53db379ca3772938d44c39305f8b807ce25a312a"
  },
  "kernelspec": {
   "display_name": "Python 3 (ipykernel)",
   "language": "python",
   "name": "python3"
  },
  "language_info": {
   "codemirror_mode": {
    "name": "ipython",
    "version": 3
   },
   "file_extension": ".py",
   "mimetype": "text/x-python",
   "name": "python",
   "nbconvert_exporter": "python",
   "pygments_lexer": "ipython3",
   "version": "3.8.17"
  }
 },
 "nbformat": 4,
 "nbformat_minor": 5
}
