{
 "cells": [
  {
   "cell_type": "code",
   "execution_count": 44,
   "id": "cd2e504f",
   "metadata": {},
   "outputs": [],
   "source": [
    "import torch\n",
    "from torch import nn\n",
    "from torchinfo import summary\n",
    "\n",
    "from sklearn import tree\n",
    "from sklearn.metrics import confusion_matrix\n",
    "from sklearn.metrics import precision_recall_fscore_support\n",
    "from sklearn.model_selection import train_test_split\n",
    "from sklearn.preprocessing import StandardScaler\n",
    "\n",
    "import pytorch_lightning as pl\n",
    "import torch.nn.functional as F\n",
    "\n",
    "import seaborn as sns\n",
    "import matplotlib.pyplot as plt\n",
    "\n",
    "import pandas as pd\n",
    "import numpy  as np\n",
    "\n",
    "import json\n",
    "import os\n",
    "import glob\n",
    "\n",
    "import warnings\n",
    "warnings.filterwarnings(\"ignore\")"
   ]
  },
  {
   "cell_type": "code",
   "execution_count": 73,
   "id": "79c3c0cc",
   "metadata": {},
   "outputs": [
    {
     "name": "stdout",
     "output_type": "stream",
     "text": [
      "['../data/SensorData/User00.csv', '../data/SensorData/User01.csv', '../data/SensorData/User02.csv', '../data/SensorData/User03.csv', '../data/SensorData/User04.csv', '../data/SensorData/User05.csv', '../data/SensorData/User06.csv', '../data/SensorData/User07.csv', '../data/SensorData/User08.csv', '../data/SensorData/User09.csv', '../data/SensorData/User10.csv', '../data/SensorData/User11.csv', '../data/SensorData/User12.csv', '../data/SensorData/User13.csv', '../data/SensorData/User14.csv', '../data/SensorData/User15.csv']\n"
     ]
    }
   ],
   "source": [
    "DATA_ROOT = \"../data/SensorData/\"\n",
    "user_file_prefix = \"User\"\n",
    "\n",
    "TRAIN_FOLDER_PATH = os.path.join(DATA_ROOT, \"train\")\n",
    "TEST_FOLDER_PATH = os.path.join(DATA_ROOT, \"test\")\n",
    "os.makedirs(TRAIN_FOLDER_PATH, exist_ok=True)\n",
    "os.makedirs(TEST_FOLDER_PATH, exist_ok=True)\n",
    "\n",
    "data_files = sorted(glob.glob(os.path.join(DATA_ROOT, f\"{user_file_prefix}*.csv\")))\n",
    "print(data_files)"
   ]
  },
  {
   "cell_type": "markdown",
   "id": "11053d73",
   "metadata": {},
   "source": [
    "## Test with User00.csv"
   ]
  },
  {
   "cell_type": "code",
   "execution_count": 55,
   "id": "d4c1e074",
   "metadata": {},
   "outputs": [],
   "source": [
    "def segment(data_df, label_list, Window_size = 200, over_lap = 0.5, margin = 200):\n",
    "    data_df_index_list = []\n",
    "    index_label_list = []\n",
    "    \n",
    "    overlap_data = Window_size * over_lap\n",
    "\n",
    "    index = 0\n",
    "    loop = 0\n",
    "    current_label = None\n",
    "    \n",
    "    while index < data_df.shape[0]:\n",
    "        if index + Window_size >= data_df.shape[0]: break\n",
    "    \n",
    "        if current_label is not None and data_df['label'][index] == current_label:\n",
    "            index += 1\n",
    "            continue\n",
    "            \n",
    "        if pd.isna(data_df['label'][index]):\n",
    "            index = index + 1\n",
    "            continue\n",
    "\n",
    "        count = 0\n",
    "        while count < margin:\n",
    "            count, index = count + 1, index + 1\n",
    "\n",
    "        if index + Window_size >= data_df.shape[0]: break\n",
    "        current_label = data_df.loc[index, 'label']\n",
    "\n",
    "        while not pd.isna(data_df['label'][index + Window_size]) and data_df['label'][index + Window_size] == current_label:\n",
    "#                 signal_data = data_df.iloc[index: index + Window_size, :]\n",
    "\n",
    "            # Each data will be at size column(6 x 5 = 30) x Window_size\n",
    "            # achieved by `data_df.loc[index: index + self.Window_size, :]` for index in data_df_index_list.\n",
    "            # Data label will be `data_df.loc[index + self.Window_size, \"label\"]` for index in data_df_index_list.\n",
    "            data_df_index_list.append(index)\n",
    "            index = index + Window_size\n",
    "\n",
    "            # add label of the last row of sequence\n",
    "            index_label_list.append(data_df['label'][index])\n",
    "\n",
    "            index = index - int(overlap_data)\n",
    "            if index + Window_size >= data_df.shape[0]: break\n",
    "                \n",
    "    return data_df_index_list, index_label_list"
   ]
  },
  {
   "cell_type": "code",
   "execution_count": 56,
   "id": "79ebb295",
   "metadata": {},
   "outputs": [
    {
     "data": {
      "text/html": [
       "<div>\n",
       "<style scoped>\n",
       "    .dataframe tbody tr th:only-of-type {\n",
       "        vertical-align: middle;\n",
       "    }\n",
       "\n",
       "    .dataframe tbody tr th {\n",
       "        vertical-align: top;\n",
       "    }\n",
       "\n",
       "    .dataframe thead th {\n",
       "        text-align: right;\n",
       "    }\n",
       "</style>\n",
       "<table border=\"1\" class=\"dataframe\">\n",
       "  <thead>\n",
       "    <tr style=\"text-align: right;\">\n",
       "      <th></th>\n",
       "      <th>accXA</th>\n",
       "      <th>accYA</th>\n",
       "      <th>accZA</th>\n",
       "      <th>agsXA</th>\n",
       "      <th>agsYA</th>\n",
       "      <th>agsZA</th>\n",
       "      <th>accXB</th>\n",
       "      <th>accYB</th>\n",
       "      <th>accZB</th>\n",
       "      <th>agsXB</th>\n",
       "      <th>...</th>\n",
       "      <th>agsXF</th>\n",
       "      <th>agsYF</th>\n",
       "      <th>agsZF</th>\n",
       "      <th>accXG</th>\n",
       "      <th>accYG</th>\n",
       "      <th>accZG</th>\n",
       "      <th>agsXG</th>\n",
       "      <th>agsYG</th>\n",
       "      <th>agsZG</th>\n",
       "      <th>label</th>\n",
       "    </tr>\n",
       "  </thead>\n",
       "  <tbody>\n",
       "    <tr>\n",
       "      <th>0</th>\n",
       "      <td>10581</td>\n",
       "      <td>-2102</td>\n",
       "      <td>-3659</td>\n",
       "      <td>989</td>\n",
       "      <td>-647</td>\n",
       "      <td>-424</td>\n",
       "      <td>9780</td>\n",
       "      <td>86</td>\n",
       "      <td>-394</td>\n",
       "      <td>721</td>\n",
       "      <td>...</td>\n",
       "      <td>-3195</td>\n",
       "      <td>8792</td>\n",
       "      <td>-1487</td>\n",
       "      <td>9624</td>\n",
       "      <td>1114</td>\n",
       "      <td>-1587</td>\n",
       "      <td>-5325</td>\n",
       "      <td>-6494</td>\n",
       "      <td>2206</td>\n",
       "      <td>0</td>\n",
       "    </tr>\n",
       "    <tr>\n",
       "      <th>1</th>\n",
       "      <td>10637</td>\n",
       "      <td>-2021</td>\n",
       "      <td>-3691</td>\n",
       "      <td>1000</td>\n",
       "      <td>-636</td>\n",
       "      <td>-445</td>\n",
       "      <td>9788</td>\n",
       "      <td>164</td>\n",
       "      <td>-304</td>\n",
       "      <td>801</td>\n",
       "      <td>...</td>\n",
       "      <td>-3317</td>\n",
       "      <td>9067</td>\n",
       "      <td>-1737</td>\n",
       "      <td>9741</td>\n",
       "      <td>884</td>\n",
       "      <td>-1365</td>\n",
       "      <td>-5870</td>\n",
       "      <td>-6179</td>\n",
       "      <td>1907</td>\n",
       "      <td>0</td>\n",
       "    </tr>\n",
       "    <tr>\n",
       "      <th>2</th>\n",
       "      <td>10637</td>\n",
       "      <td>-2048</td>\n",
       "      <td>-3596</td>\n",
       "      <td>1024</td>\n",
       "      <td>-639</td>\n",
       "      <td>-473</td>\n",
       "      <td>9851</td>\n",
       "      <td>149</td>\n",
       "      <td>-443</td>\n",
       "      <td>882</td>\n",
       "      <td>...</td>\n",
       "      <td>-3164</td>\n",
       "      <td>8945</td>\n",
       "      <td>-2024</td>\n",
       "      <td>10022</td>\n",
       "      <td>523</td>\n",
       "      <td>-1133</td>\n",
       "      <td>-5371</td>\n",
       "      <td>-5702</td>\n",
       "      <td>1629</td>\n",
       "      <td>0</td>\n",
       "    </tr>\n",
       "    <tr>\n",
       "      <th>3</th>\n",
       "      <td>10566</td>\n",
       "      <td>-2084</td>\n",
       "      <td>-3522</td>\n",
       "      <td>1042</td>\n",
       "      <td>-622</td>\n",
       "      <td>-493</td>\n",
       "      <td>9897</td>\n",
       "      <td>278</td>\n",
       "      <td>-390</td>\n",
       "      <td>943</td>\n",
       "      <td>...</td>\n",
       "      <td>-3298</td>\n",
       "      <td>8573</td>\n",
       "      <td>-2359</td>\n",
       "      <td>10032</td>\n",
       "      <td>52</td>\n",
       "      <td>-833</td>\n",
       "      <td>-4236</td>\n",
       "      <td>-5112</td>\n",
       "      <td>1418</td>\n",
       "      <td>0</td>\n",
       "    </tr>\n",
       "    <tr>\n",
       "      <th>4</th>\n",
       "      <td>10546</td>\n",
       "      <td>-2075</td>\n",
       "      <td>-3481</td>\n",
       "      <td>1082</td>\n",
       "      <td>-616</td>\n",
       "      <td>-500</td>\n",
       "      <td>9854</td>\n",
       "      <td>283</td>\n",
       "      <td>-365</td>\n",
       "      <td>993</td>\n",
       "      <td>...</td>\n",
       "      <td>-3396</td>\n",
       "      <td>8865</td>\n",
       "      <td>-2390</td>\n",
       "      <td>10139</td>\n",
       "      <td>10</td>\n",
       "      <td>-699</td>\n",
       "      <td>-3126</td>\n",
       "      <td>-4431</td>\n",
       "      <td>1249</td>\n",
       "      <td>0</td>\n",
       "    </tr>\n",
       "    <tr>\n",
       "      <th>...</th>\n",
       "      <td>...</td>\n",
       "      <td>...</td>\n",
       "      <td>...</td>\n",
       "      <td>...</td>\n",
       "      <td>...</td>\n",
       "      <td>...</td>\n",
       "      <td>...</td>\n",
       "      <td>...</td>\n",
       "      <td>...</td>\n",
       "      <td>...</td>\n",
       "      <td>...</td>\n",
       "      <td>...</td>\n",
       "      <td>...</td>\n",
       "      <td>...</td>\n",
       "      <td>...</td>\n",
       "      <td>...</td>\n",
       "      <td>...</td>\n",
       "      <td>...</td>\n",
       "      <td>...</td>\n",
       "      <td>...</td>\n",
       "      <td>...</td>\n",
       "    </tr>\n",
       "    <tr>\n",
       "      <th>31638</th>\n",
       "      <td>2390</td>\n",
       "      <td>-6623</td>\n",
       "      <td>4226</td>\n",
       "      <td>132</td>\n",
       "      <td>-157</td>\n",
       "      <td>-135</td>\n",
       "      <td>2346</td>\n",
       "      <td>7266</td>\n",
       "      <td>6094</td>\n",
       "      <td>-12</td>\n",
       "      <td>...</td>\n",
       "      <td>-298</td>\n",
       "      <td>1201</td>\n",
       "      <td>-1585</td>\n",
       "      <td>-66</td>\n",
       "      <td>-2335</td>\n",
       "      <td>-10501</td>\n",
       "      <td>-245</td>\n",
       "      <td>-74</td>\n",
       "      <td>-46</td>\n",
       "      <td>9</td>\n",
       "    </tr>\n",
       "    <tr>\n",
       "      <th>31639</th>\n",
       "      <td>2407</td>\n",
       "      <td>-6682</td>\n",
       "      <td>4282</td>\n",
       "      <td>35</td>\n",
       "      <td>-181</td>\n",
       "      <td>-126</td>\n",
       "      <td>2434</td>\n",
       "      <td>7327</td>\n",
       "      <td>6004</td>\n",
       "      <td>-45</td>\n",
       "      <td>...</td>\n",
       "      <td>-359</td>\n",
       "      <td>1304</td>\n",
       "      <td>-1579</td>\n",
       "      <td>-142</td>\n",
       "      <td>-2332</td>\n",
       "      <td>-10398</td>\n",
       "      <td>-207</td>\n",
       "      <td>-53</td>\n",
       "      <td>-52</td>\n",
       "      <td>9</td>\n",
       "    </tr>\n",
       "    <tr>\n",
       "      <th>31640</th>\n",
       "      <td>2414</td>\n",
       "      <td>-6682</td>\n",
       "      <td>4257</td>\n",
       "      <td>-58</td>\n",
       "      <td>-158</td>\n",
       "      <td>-129</td>\n",
       "      <td>2358</td>\n",
       "      <td>7271</td>\n",
       "      <td>6087</td>\n",
       "      <td>6</td>\n",
       "      <td>...</td>\n",
       "      <td>-481</td>\n",
       "      <td>1469</td>\n",
       "      <td>-1585</td>\n",
       "      <td>-103</td>\n",
       "      <td>-2298</td>\n",
       "      <td>-10464</td>\n",
       "      <td>-226</td>\n",
       "      <td>-45</td>\n",
       "      <td>-47</td>\n",
       "      <td>9</td>\n",
       "    </tr>\n",
       "    <tr>\n",
       "      <th>31641</th>\n",
       "      <td>2446</td>\n",
       "      <td>-6762</td>\n",
       "      <td>4208</td>\n",
       "      <td>-62</td>\n",
       "      <td>-151</td>\n",
       "      <td>-141</td>\n",
       "      <td>2329</td>\n",
       "      <td>7310</td>\n",
       "      <td>6067</td>\n",
       "      <td>54</td>\n",
       "      <td>...</td>\n",
       "      <td>-615</td>\n",
       "      <td>1628</td>\n",
       "      <td>-1664</td>\n",
       "      <td>-142</td>\n",
       "      <td>-2298</td>\n",
       "      <td>-10430</td>\n",
       "      <td>-218</td>\n",
       "      <td>-24</td>\n",
       "      <td>-47</td>\n",
       "      <td>9</td>\n",
       "    </tr>\n",
       "    <tr>\n",
       "      <th>31642</th>\n",
       "      <td>2451</td>\n",
       "      <td>-6865</td>\n",
       "      <td>4135</td>\n",
       "      <td>-4</td>\n",
       "      <td>-152</td>\n",
       "      <td>-148</td>\n",
       "      <td>2310</td>\n",
       "      <td>7344</td>\n",
       "      <td>5991</td>\n",
       "      <td>51</td>\n",
       "      <td>...</td>\n",
       "      <td>-847</td>\n",
       "      <td>1731</td>\n",
       "      <td>-1634</td>\n",
       "      <td>-95</td>\n",
       "      <td>-2264</td>\n",
       "      <td>-10455</td>\n",
       "      <td>-180</td>\n",
       "      <td>8</td>\n",
       "      <td>-64</td>\n",
       "      <td>9</td>\n",
       "    </tr>\n",
       "  </tbody>\n",
       "</table>\n",
       "<p>31643 rows × 43 columns</p>\n",
       "</div>"
      ],
      "text/plain": [
       "       accXA  accYA  accZA  agsXA  agsYA  agsZA  accXB  accYB  accZB  agsXB  \\\n",
       "0      10581  -2102  -3659    989   -647   -424   9780     86   -394    721   \n",
       "1      10637  -2021  -3691   1000   -636   -445   9788    164   -304    801   \n",
       "2      10637  -2048  -3596   1024   -639   -473   9851    149   -443    882   \n",
       "3      10566  -2084  -3522   1042   -622   -493   9897    278   -390    943   \n",
       "4      10546  -2075  -3481   1082   -616   -500   9854    283   -365    993   \n",
       "...      ...    ...    ...    ...    ...    ...    ...    ...    ...    ...   \n",
       "31638   2390  -6623   4226    132   -157   -135   2346   7266   6094    -12   \n",
       "31639   2407  -6682   4282     35   -181   -126   2434   7327   6004    -45   \n",
       "31640   2414  -6682   4257    -58   -158   -129   2358   7271   6087      6   \n",
       "31641   2446  -6762   4208    -62   -151   -141   2329   7310   6067     54   \n",
       "31642   2451  -6865   4135     -4   -152   -148   2310   7344   5991     51   \n",
       "\n",
       "       ...  agsXF  agsYF  agsZF  accXG  accYG  accZG  agsXG  agsYG  agsZG  \\\n",
       "0      ...  -3195   8792  -1487   9624   1114  -1587  -5325  -6494   2206   \n",
       "1      ...  -3317   9067  -1737   9741    884  -1365  -5870  -6179   1907   \n",
       "2      ...  -3164   8945  -2024  10022    523  -1133  -5371  -5702   1629   \n",
       "3      ...  -3298   8573  -2359  10032     52   -833  -4236  -5112   1418   \n",
       "4      ...  -3396   8865  -2390  10139     10   -699  -3126  -4431   1249   \n",
       "...    ...    ...    ...    ...    ...    ...    ...    ...    ...    ...   \n",
       "31638  ...   -298   1201  -1585    -66  -2335 -10501   -245    -74    -46   \n",
       "31639  ...   -359   1304  -1579   -142  -2332 -10398   -207    -53    -52   \n",
       "31640  ...   -481   1469  -1585   -103  -2298 -10464   -226    -45    -47   \n",
       "31641  ...   -615   1628  -1664   -142  -2298 -10430   -218    -24    -47   \n",
       "31642  ...   -847   1731  -1634    -95  -2264 -10455   -180      8    -64   \n",
       "\n",
       "       label  \n",
       "0          0  \n",
       "1          0  \n",
       "2          0  \n",
       "3          0  \n",
       "4          0  \n",
       "...      ...  \n",
       "31638      9  \n",
       "31639      9  \n",
       "31640      9  \n",
       "31641      9  \n",
       "31642      9  \n",
       "\n",
       "[31643 rows x 43 columns]"
      ]
     },
     "execution_count": 56,
     "metadata": {},
     "output_type": "execute_result"
    }
   ],
   "source": [
    "data_df = pd.read_csv(data_files[0])\n",
    "data_df"
   ]
  },
  {
   "cell_type": "code",
   "execution_count": 57,
   "id": "2d93841f",
   "metadata": {},
   "outputs": [
    {
     "data": {
      "text/plain": [
       "9    6571\n",
       "8    5337\n",
       "7    3172\n",
       "2    3025\n",
       "5    2577\n",
       "4    2461\n",
       "3    2403\n",
       "6    2185\n",
       "0    2079\n",
       "1    1833\n",
       "Name: label, dtype: int64"
      ]
     },
     "execution_count": 57,
     "metadata": {},
     "output_type": "execute_result"
    }
   ],
   "source": [
    "data_df[\"label\"].value_counts()"
   ]
  },
  {
   "cell_type": "code",
   "execution_count": 58,
   "id": "c02c0c90",
   "metadata": {},
   "outputs": [],
   "source": [
    "# important\n",
    "\n",
    "label_list = ['歩行(平地)',\n",
    " '歩行(階段)',\n",
    " 'ベッド上での起き上がり',\n",
    " 'ベッド椅子間の乗り移り(立つ)',\n",
    " 'ベッド椅子間の乗り移り(立たない)',\n",
    " '立ち座り',\n",
    " '座位保持・座位バランス',\n",
    " '立位保持・立位バランス',\n",
    " '関節可動域増大訓練(肩)',\n",
    " '関節可動域増大訓練(股関節)']\n",
    "\n",
    "label_dict = dict(enumerate(label_list))"
   ]
  },
  {
   "cell_type": "code",
   "execution_count": 59,
   "id": "612a3b7c",
   "metadata": {},
   "outputs": [],
   "source": [
    "# important\n",
    "eng_label_dict = dict(zip(\n",
    "    label_list,\n",
    "    ['Walking', 'Upstair', 'Bed_Standup', 'Change_Bed', 'Change_Bed_Standup', 'Sit_Down', 'Sit', 'Stand', 'Shoulder_Exercise', 'Hip_Exercise']\n",
    "))\n",
    "\n",
    "eng_label_list = [eng_label_dict[i] for i in label_list]"
   ]
  },
  {
   "cell_type": "code",
   "execution_count": 60,
   "id": "280367e9",
   "metadata": {},
   "outputs": [],
   "source": [
    "window_size = 256\n",
    "data_df_index_list, index_label_list = segment(data_df, label_list, Window_size=window_size, over_lap=3/4)"
   ]
  },
  {
   "cell_type": "code",
   "execution_count": 61,
   "id": "8338ce89",
   "metadata": {},
   "outputs": [],
   "source": [
    "data_list = []\n",
    "for index, label_number in zip(data_df_index_list, index_label_list):\n",
    "    x = data_df.iloc[index: index + window_size, :].drop([\"label\"], axis=1).values\n",
    "    data_list.append(x)\n",
    "data_list = np.array(data_list)"
   ]
  },
  {
   "cell_type": "code",
   "execution_count": 62,
   "id": "7448715e",
   "metadata": {},
   "outputs": [
    {
     "data": {
      "text/plain": [
       "(430, 256, 42)"
      ]
     },
     "execution_count": 62,
     "metadata": {},
     "output_type": "execute_result"
    }
   ],
   "source": [
    "data_list.shape"
   ]
  },
  {
   "cell_type": "code",
   "execution_count": 63,
   "id": "9766b46b",
   "metadata": {},
   "outputs": [],
   "source": [
    "sc = StandardScaler()\n",
    "\n",
    "data_num, window_size, feature_num = data_list.shape\n",
    "features_reshape = data_list.reshape(-1, feature_num)\n",
    "features_norm = sc.fit_transform(features_reshape)\n",
    "\n",
    "# convert back t feature size\n",
    "features = features_norm.reshape(data_num, window_size, feature_num)"
   ]
  },
  {
   "cell_type": "code",
   "execution_count": null,
   "id": "ac916485",
   "metadata": {},
   "outputs": [],
   "source": []
  },
  {
   "cell_type": "markdown",
   "id": "2a5a47bf",
   "metadata": {},
   "source": [
    "## create function to load feature from 1 csv file"
   ]
  },
  {
   "cell_type": "code",
   "execution_count": 69,
   "id": "edf08e49",
   "metadata": {},
   "outputs": [],
   "source": [
    "def load_csv_data(csv_file_path):\n",
    "    window_size = 256\n",
    "    data_df = pd.read_csv(csv_file_path)\n",
    "    data_df_index_list, index_label_list = segment(data_df, label_list, Window_size=window_size, over_lap=3/4)\n",
    "    \n",
    "    data_list = []\n",
    "    for index, label_number in zip(data_df_index_list, index_label_list):\n",
    "        x = data_df.iloc[index: index + window_size, :].drop([\"label\"], axis=1).values\n",
    "        data_list.append(x)\n",
    "    data_list = np.array(data_list)\n",
    "    \n",
    "    sc = StandardScaler()\n",
    "\n",
    "    data_num, window_size, feature_num = data_list.shape\n",
    "    features_reshape = data_list.reshape(-1, feature_num)\n",
    "    features_norm = sc.fit_transform(features_reshape)\n",
    "\n",
    "    # convert back t feature size\n",
    "    features = features_norm.reshape(data_num, window_size, feature_num)\n",
    "    \n",
    "    return features, index_label_list"
   ]
  },
  {
   "cell_type": "markdown",
   "id": "7b9e5551",
   "metadata": {},
   "source": [
    "## create LOSO train, test dataset from 17 users"
   ]
  },
  {
   "cell_type": "code",
   "execution_count": 74,
   "id": "f04cbcd9",
   "metadata": {},
   "outputs": [],
   "source": [
    "temp_dict = {}\n",
    "\n",
    "for index, csv_file_path in enumerate(data_files):\n",
    "        \n",
    "    identifier = os.path.splitext(os.path.basename(csv_file_path))[0]\n",
    "    features, index_label_list = load_csv_data(csv_file_path)\n",
    "    \n",
    "    temp_dict[identifier] = (features, index_label_list)"
   ]
  },
  {
   "cell_type": "code",
   "execution_count": 80,
   "id": "a0063806",
   "metadata": {},
   "outputs": [],
   "source": [
    "temp_dict_keys = sorted(temp_dict.keys())\n",
    "\n",
    "for test_identifier in temp_dict_keys:\n",
    "    \n",
    "    train_features_list = []\n",
    "    train_label_list = []\n",
    "    \n",
    "\n",
    "    for identifier in temp_dict_keys:\n",
    "        \n",
    "        if test_identifier == identifier:\n",
    "            # test_set\n",
    "            features, index_label_list = temp_dict[identifier]\n",
    "            np.save(os.path.join(TEST_FOLDER_PATH, test_identifier), features)\n",
    "            np.save(os.path.join(TEST_FOLDER_PATH, f\"{test_identifier}_label\"), index_label_list)\n",
    "\n",
    "        else:\n",
    "            # train_set\n",
    "            train_features_list.append(temp_dict[identifier][0])\n",
    "            train_label_list.append(temp_dict[identifier][1])\n",
    "\n",
    "    train_features = np.concatenate(train_features_list, axis=0)\n",
    "    train_label = np.concatenate(train_label_list, axis=0)\n",
    "\n",
    "    np.save(os.path.join(TRAIN_FOLDER_PATH, test_identifier), train_features)\n",
    "    np.save(os.path.join(TRAIN_FOLDER_PATH, f\"{test_identifier}_label\"), train_label)\n",
    "        "
   ]
  },
  {
   "cell_type": "markdown",
   "id": "855f54da",
   "metadata": {},
   "source": [
    "## Dataset, dataloader setup"
   ]
  },
  {
   "cell_type": "code",
   "execution_count": 84,
   "id": "a9fae776",
   "metadata": {},
   "outputs": [
    {
     "data": {
      "text/plain": [
       "[('User00.npy', 'User00_label.npy'),\n",
       " ('User01.npy', 'User01_label.npy'),\n",
       " ('User02.npy', 'User02_label.npy'),\n",
       " ('User03.npy', 'User03_label.npy'),\n",
       " ('User04.npy', 'User04_label.npy'),\n",
       " ('User05.npy', 'User05_label.npy'),\n",
       " ('User06.npy', 'User06_label.npy'),\n",
       " ('User07.npy', 'User07_label.npy'),\n",
       " ('User08.npy', 'User08_label.npy'),\n",
       " ('User09.npy', 'User09_label.npy'),\n",
       " ('User10.npy', 'User10_label.npy'),\n",
       " ('User11.npy', 'User11_label.npy'),\n",
       " ('User12.npy', 'User12_label.npy'),\n",
       " ('User13.npy', 'User13_label.npy'),\n",
       " ('User14.npy', 'User14_label.npy'),\n",
       " ('User15.npy', 'User15_label.npy')]"
      ]
     },
     "execution_count": 84,
     "metadata": {},
     "output_type": "execute_result"
    }
   ],
   "source": [
    "save_filename_list = [(f\"{identifier}.npy\", f\"{identifier}_label.npy\") for identifier in temp_dict_keys]\n",
    "save_filename_list"
   ]
  },
  {
   "cell_type": "code",
   "execution_count": 88,
   "id": "497d6064",
   "metadata": {},
   "outputs": [],
   "source": [
    "from torch.utils.data import Dataset\n",
    "from torch.utils.data import DataLoader\n",
    "\n",
    "class CustomDataset(Dataset):\n",
    "    def __init__(self, feature_file, label_file):\n",
    "\n",
    "        self.features = np.load(feature_file)\n",
    "        self.label = np.load(label_file)\n",
    "        \n",
    "        assert len(self.features) == len(self.label), \"features len is not equal to label len\"\n",
    "        \n",
    "    def __len__(self):\n",
    "        return len(self.features)\n",
    "    \n",
    "    def __getitem__(self, idx):\n",
    "        x = self.features[idx]\n",
    "        label = self.label[idx]\n",
    "        return x, label"
   ]
  },
  {
   "cell_type": "code",
   "execution_count": 89,
   "id": "233e13b2",
   "metadata": {},
   "outputs": [],
   "source": [
    "# test\n",
    "dataset = CustomDataset(\n",
    "    os.path.join(TRAIN_FOLDER_PATH, save_filename_list[0][0]),\n",
    "    os.path.join(TRAIN_FOLDER_PATH, save_filename_list[0][1]),\n",
    ")"
   ]
  },
  {
   "cell_type": "code",
   "execution_count": 104,
   "id": "fdf7066b",
   "metadata": {},
   "outputs": [
    {
     "data": {
      "text/plain": [
       "torch.Size([8, 256, 42])"
      ]
     },
     "execution_count": 104,
     "metadata": {},
     "output_type": "execute_result"
    }
   ],
   "source": [
    "train_dataloader = DataLoader(\n",
    "        train_dataset, \n",
    "        batch_size=batch_size,\n",
    "        num_workers=0, # number of subprocesses to use for data loading\n",
    "        shuffle=True)\n",
    "\n",
    "next(iter(train_dataloader))[0].shape"
   ]
  },
  {
   "cell_type": "code",
   "execution_count": 93,
   "id": "6059d4a0",
   "metadata": {},
   "outputs": [],
   "source": [
    "# test\n",
    "train_size = int(0.8 * len(dataset))\n",
    "val_size = len(dataset) - train_size\n",
    "\n",
    "train_dataset, val_dataset = torch.utils.data.random_split(dataset, [train_size, val_size])"
   ]
  },
  {
   "cell_type": "code",
   "execution_count": 94,
   "id": "7f622e43",
   "metadata": {},
   "outputs": [],
   "source": [
    "# test\n",
    "train_dataloader = DataLoader(\n",
    "    train_dataset, \n",
    "    batch_size=8,\n",
    "    num_workers=0, # number of subprocesses to use for data loading\n",
    "    shuffle=True)\n",
    "\n",
    "val_dataloader = DataLoader(\n",
    "    train_dataset, \n",
    "    batch_size=8,\n",
    "    num_workers=0, # number of subprocesses to use for data loading\n",
    "    shuffle=False)"
   ]
  },
  {
   "cell_type": "markdown",
   "id": "be813a59",
   "metadata": {},
   "source": [
    "## Model definition"
   ]
  },
  {
   "cell_type": "code",
   "execution_count": 95,
   "id": "824904f2",
   "metadata": {},
   "outputs": [],
   "source": [
    "class SelfAttention(nn.Module):\n",
    "    def __init__(self, input_dim):\n",
    "        super(SelfAttention, self).__init__()\n",
    "        self.input_dim = input_dim\n",
    "        self.query = nn.Linear(input_dim, input_dim)\n",
    "        self.key = nn.Linear(input_dim, input_dim)\n",
    "        self.value = nn.Linear(input_dim, input_dim)\n",
    "        self.softmax = nn.Softmax(dim=2)\n",
    "        \n",
    "    def forward(self, x):\n",
    "        queries = self.query(x)\n",
    "        keys = self.key(x)\n",
    "        values = self.value(x)\n",
    "        scores = torch.bmm(queries, keys.transpose(1, 2)) / (self.input_dim ** 0.5)\n",
    "        attention = self.softmax(scores)\n",
    "        weighted = torch.bmm(attention, values)\n",
    "        return weighted"
   ]
  },
  {
   "cell_type": "code",
   "execution_count": 110,
   "id": "0f1800cc",
   "metadata": {},
   "outputs": [],
   "source": [
    "class LSTMModel(pl.LightningModule):\n",
    "    def __init__(self, hidden_size=128, input_size=30, output_size=6):\n",
    "        super().__init__()\n",
    "        self.save_hyperparameters()\n",
    "        self.example_input_array = torch.Tensor(1024, 200, input_size)\n",
    "        \n",
    "        self.rnn1 = nn.LSTM(input_size=input_size, \n",
    "                          hidden_size=hidden_size,\n",
    "                          num_layers=1,\n",
    "                          batch_first=True)\n",
    "        \n",
    "        self.attention1 = SelfAttention(\n",
    "            input_dim=hidden_size)\n",
    "\n",
    "        self.rnn2 = nn.LSTM(input_size=hidden_size, \n",
    "                          hidden_size=hidden_size,\n",
    "                          num_layers=1,\n",
    "                          batch_first=True)\n",
    "        \n",
    "        self.attention2 = SelfAttention(\n",
    "            input_dim=hidden_size\n",
    "        )\n",
    "        \n",
    "        self.seq_1 = nn.Sequential(\n",
    "            nn.Linear(in_features=hidden_size, out_features=hidden_size),\n",
    "            nn.BatchNorm1d(num_features=hidden_size),\n",
    "            nn.Dropout1d(p=0.2),\n",
    "            nn.ReLU(),\n",
    "            nn.Linear(in_features=hidden_size, out_features=hidden_size),\n",
    "            nn.BatchNorm1d(num_features=hidden_size),\n",
    "            nn.Dropout1d(p=0.2),\n",
    "            nn.ReLU(),\n",
    "        )\n",
    "        \n",
    "        self.seq_2 = nn.Sequential(\n",
    "            nn.Linear(in_features=hidden_size, out_features=hidden_size),\n",
    "            nn.BatchNorm1d(num_features=hidden_size),\n",
    "            nn.Dropout1d(p=0.2),\n",
    "            nn.ReLU(),\n",
    "            nn.Linear(in_features=hidden_size, out_features=hidden_size),\n",
    "            nn.BatchNorm1d(num_features=hidden_size),\n",
    "            nn.Dropout1d(p=0.2),\n",
    "            nn.ReLU(),\n",
    "        )\n",
    "        \n",
    "        self.classifier = nn.Linear(in_features=3 * hidden_size, out_features=output_size)\n",
    "        \n",
    "        self.all_test = []\n",
    "        self.all_pred = []\n",
    "        \n",
    "    def forward(self, x):\n",
    "        print(x.shape)\n",
    "        activation, _ = self.rnn1(x)\n",
    "        activation = self.attention1(activation)\n",
    "        activation, _ = self.rnn2(activation)\n",
    "        activation = self.attention2(activation)\n",
    "\n",
    "        b, _, _ = activation.size()\n",
    "        \n",
    "        lstm_output = activation[:,-1,:].view(b,-1)\n",
    "        \n",
    "        seq_1_output = self.seq_1(lstm_output)\n",
    "        seq_2_output = self.seq_2(lstm_output)\n",
    "        \n",
    "        output = torch.concat([lstm_output, seq_1_output, seq_2_output], dim=1)\n",
    "        output = self.classifier(output)\n",
    "        \n",
    "        return output\n",
    "    \n",
    "    def configure_optimizers(self):\n",
    "        optimizer = torch.optim.Adam(params=self.parameters(), lr=0.0005)\n",
    "        return optimizer\n",
    "    \n",
    "    def training_step(self, batch, batch_idx):\n",
    "        X, y = batch\n",
    "        X = X.float()\n",
    "        # 1. Forward pass\n",
    "        y_pred = self.forward(X)\n",
    "        # 2. Calculate  and accumulate loss\n",
    "        loss = F.cross_entropy(y_pred, y)\n",
    "        \n",
    "        self.log(\"train_loss\", loss, prog_bar=True)\n",
    "        \n",
    "        return loss\n",
    "    \n",
    "    def test_step(self, batch, batch_idx):\n",
    "        # this is the test loop\n",
    "        X, y = batch\n",
    "        X = X.float()\n",
    "    \n",
    "        # 1. Forward pass\n",
    "        test_pred_logits = self.forward(X)\n",
    "\n",
    "        # Calculate and accumulate accuracy\n",
    "        test_pred_labels = test_pred_logits.argmax(dim=1)\n",
    "        test_acc = ((test_pred_labels == y).sum().item()/len(test_pred_labels))\n",
    "        self.log(\"test_acc\", test_acc)\n",
    "        \n",
    "        self.all_pred = test_pred_labels\n",
    "        self.all_test = y\n",
    "        \n",
    "    def validation_step(self, batch, batch_idx):\n",
    "        # this is the validation loop\n",
    "        X, y = batch\n",
    "        X = X.float()\n",
    "        \n",
    "        y_pred = self.forward(X)\n",
    "        # 2. Calculate  and accumulate loss\n",
    "        loss = F.cross_entropy(y_pred, y)\n",
    "        \n",
    "        self.log(\"val_loss\", loss, prog_bar=True)\n",
    "        "
   ]
  },
  {
   "cell_type": "code",
   "execution_count": 111,
   "id": "2284c2cf",
   "metadata": {},
   "outputs": [
    {
     "data": {
      "text/plain": [
       "=================================================================\n",
       "Layer (type:depth-idx)                   Param #\n",
       "=================================================================\n",
       "LSTMModel                                --\n",
       "├─LSTM: 1-1                              81,920\n",
       "├─SelfAttention: 1-2                     --\n",
       "│    └─Linear: 2-1                       16,512\n",
       "│    └─Linear: 2-2                       16,512\n",
       "│    └─Linear: 2-3                       16,512\n",
       "│    └─Softmax: 2-4                      --\n",
       "├─LSTM: 1-3                              132,096\n",
       "├─SelfAttention: 1-4                     --\n",
       "│    └─Linear: 2-5                       16,512\n",
       "│    └─Linear: 2-6                       16,512\n",
       "│    └─Linear: 2-7                       16,512\n",
       "│    └─Softmax: 2-8                      --\n",
       "├─Sequential: 1-5                        --\n",
       "│    └─Linear: 2-9                       16,512\n",
       "│    └─BatchNorm1d: 2-10                 256\n",
       "│    └─Dropout1d: 2-11                   --\n",
       "│    └─ReLU: 2-12                        --\n",
       "│    └─Linear: 2-13                      16,512\n",
       "│    └─BatchNorm1d: 2-14                 256\n",
       "│    └─Dropout1d: 2-15                   --\n",
       "│    └─ReLU: 2-16                        --\n",
       "├─Sequential: 1-6                        --\n",
       "│    └─Linear: 2-17                      16,512\n",
       "│    └─BatchNorm1d: 2-18                 256\n",
       "│    └─Dropout1d: 2-19                   --\n",
       "│    └─ReLU: 2-20                        --\n",
       "│    └─Linear: 2-21                      16,512\n",
       "│    └─BatchNorm1d: 2-22                 256\n",
       "│    └─Dropout1d: 2-23                   --\n",
       "│    └─ReLU: 2-24                        --\n",
       "├─Linear: 1-7                            2,310\n",
       "=================================================================\n",
       "Total params: 382,470\n",
       "Trainable params: 382,470\n",
       "Non-trainable params: 0\n",
       "================================================================="
      ]
     },
     "execution_count": 111,
     "metadata": {},
     "output_type": "execute_result"
    }
   ],
   "source": [
    "model = LSTMModel()\n",
    "summary(model)"
   ]
  },
  {
   "cell_type": "code",
   "execution_count": 112,
   "id": "fbba8e58",
   "metadata": {},
   "outputs": [
    {
     "name": "stdout",
     "output_type": "stream",
     "text": [
      "\n",
      "*************User00.npy*************\n"
     ]
    },
    {
     "name": "stderr",
     "output_type": "stream",
     "text": [
      "GPU available: False, used: False\n",
      "TPU available: False, using: 0 TPU cores\n",
      "IPU available: False, using: 0 IPUs\n",
      "HPU available: False, using: 0 HPUs\n",
      "Running in fast_dev_run mode: will run a full train, val, test and prediction loop using 1 batch(es).\n",
      "`Trainer(limit_train_batches=1)` was configured so 1 batch per epoch will be used.\n",
      "`Trainer(limit_val_batches=1)` was configured so 1 batch will be used.\n",
      "`Trainer(limit_test_batches=1)` was configured so 1 batch will be used.\n",
      "`Trainer(limit_predict_batches=1)` was configured so 1 batch will be used.\n",
      "`Trainer(val_check_interval=1.0)` was configured so validation will run at the end of the training epoch..\n"
     ]
    },
    {
     "name": "stdout",
     "output_type": "stream",
     "text": [
      "torch.Size([1024, 200, 42])\n"
     ]
    },
    {
     "name": "stderr",
     "output_type": "stream",
     "text": [
      "\n",
      "  | Name       | Type          | Params | In sizes        | Out sizes                                        \n",
      "-------------------------------------------------------------------------------------------------------------------\n",
      "0 | rnn1       | LSTM          | 27.6 K | [1024, 200, 42] | [[1024, 200, 64], [[1, 1024, 64], [1, 1024, 64]]]\n",
      "1 | attention1 | SelfAttention | 12.5 K | [1024, 200, 64] | [1024, 200, 64]                                  \n",
      "2 | rnn2       | LSTM          | 33.3 K | [1024, 200, 64] | [[1024, 200, 64], [[1, 1024, 64], [1, 1024, 64]]]\n",
      "3 | attention2 | SelfAttention | 12.5 K | [1024, 200, 64] | [1024, 200, 64]                                  \n",
      "4 | seq_1      | Sequential    | 8.6 K  | [1024, 64]      | [1024, 64]                                       \n",
      "5 | seq_2      | Sequential    | 8.6 K  | [1024, 64]      | [1024, 64]                                       \n",
      "6 | classifier | Linear        | 1.9 K  | [1024, 192]     | [1024, 10]                                       \n",
      "-------------------------------------------------------------------------------------------------------------------\n",
      "104 K     Trainable params\n",
      "0         Non-trainable params\n",
      "104 K     Total params\n",
      "0.420     Total estimated model params size (MB)\n"
     ]
    },
    {
     "name": "stdout",
     "output_type": "stream",
     "text": [
      "Epoch 0:   0%|                                                                                   | 0/2 [00:00<?, ?it/s]torch.Size([8, 256, 42])\n",
      "Epoch 0:  50%|███████████████████                   | 1/2 [00:00<00:00,  2.05it/s, loss=2.54, v_num=, train_loss=2.540]\n",
      "Validation: 0it [00:00, ?it/s]\u001b[A\n",
      "Validation DataLoader 0:   0%|                                                                   | 0/1 [00:00<?, ?it/s]\u001b[Atorch.Size([8, 256, 42])\n",
      "\n",
      "Epoch 0: 100%|██████████████████████| 2/2 [00:00<00:00,  3.64it/s, loss=2.54, v_num=, train_loss=2.540, val_loss=2.310]\u001b[A\n",
      "Epoch 0: 100%|██████████████████████| 2/2 [00:00<00:00,  3.61it/s, loss=2.54, v_num=, train_loss=2.540, val_loss=2.310]\u001b[A\n",
      "Testing DataLoader 0:   0%|                                                                      | 0/1 [00:00<?, ?it/s]torch.Size([8, 256, 42])\n",
      "Testing DataLoader 0: 100%|██████████████████████████████████████████████████████████████| 1/1 [00:00<00:00, 14.78it/s]\n"
     ]
    },
    {
     "data": {
      "text/html": [
       "<pre style=\"white-space:pre;overflow-x:auto;line-height:normal;font-family:Menlo,'DejaVu Sans Mono',consolas,'Courier New',monospace\">┏━━━━━━━━━━━━━━━━━━━━━━━━━━━┳━━━━━━━━━━━━━━━━━━━━━━━━━━━┓\n",
       "┃<span style=\"font-weight: bold\">        Test metric        </span>┃<span style=\"font-weight: bold\">       DataLoader 0        </span>┃\n",
       "┡━━━━━━━━━━━━━━━━━━━━━━━━━━━╇━━━━━━━━━━━━━━━━━━━━━━━━━━━┩\n",
       "│<span style=\"color: #008080; text-decoration-color: #008080\">         test_acc          </span>│<span style=\"color: #800080; text-decoration-color: #800080\">            0.0            </span>│\n",
       "└───────────────────────────┴───────────────────────────┘\n",
       "</pre>\n"
      ],
      "text/plain": [
       "┏━━━━━━━━━━━━━━━━━━━━━━━━━━━┳━━━━━━━━━━━━━━━━━━━━━━━━━━━┓\n",
       "┃\u001b[1m \u001b[0m\u001b[1m       Test metric       \u001b[0m\u001b[1m \u001b[0m┃\u001b[1m \u001b[0m\u001b[1m      DataLoader 0       \u001b[0m\u001b[1m \u001b[0m┃\n",
       "┡━━━━━━━━━━━━━━━━━━━━━━━━━━━╇━━━━━━━━━━━━━━━━━━━━━━━━━━━┩\n",
       "│\u001b[36m \u001b[0m\u001b[36m        test_acc         \u001b[0m\u001b[36m \u001b[0m│\u001b[35m \u001b[0m\u001b[35m           0.0           \u001b[0m\u001b[35m \u001b[0m│\n",
       "└───────────────────────────┴───────────────────────────┘\n"
      ]
     },
     "metadata": {},
     "output_type": "display_data"
    },
    {
     "name": "stdout",
     "output_type": "stream",
     "text": [
      "\n",
      "*************User01.npy*************\n"
     ]
    },
    {
     "name": "stderr",
     "output_type": "stream",
     "text": [
      "GPU available: False, used: False\n",
      "TPU available: False, using: 0 TPU cores\n",
      "IPU available: False, using: 0 IPUs\n",
      "HPU available: False, using: 0 HPUs\n",
      "Running in fast_dev_run mode: will run a full train, val, test and prediction loop using 1 batch(es).\n",
      "`Trainer(limit_train_batches=1)` was configured so 1 batch per epoch will be used.\n",
      "`Trainer(limit_val_batches=1)` was configured so 1 batch will be used.\n",
      "`Trainer(limit_test_batches=1)` was configured so 1 batch will be used.\n",
      "`Trainer(limit_predict_batches=1)` was configured so 1 batch will be used.\n",
      "`Trainer(val_check_interval=1.0)` was configured so validation will run at the end of the training epoch..\n"
     ]
    },
    {
     "name": "stdout",
     "output_type": "stream",
     "text": [
      "torch.Size([1024, 200, 42])\n"
     ]
    },
    {
     "name": "stderr",
     "output_type": "stream",
     "text": [
      "\n",
      "  | Name       | Type          | Params | In sizes        | Out sizes                                        \n",
      "-------------------------------------------------------------------------------------------------------------------\n",
      "0 | rnn1       | LSTM          | 27.6 K | [1024, 200, 42] | [[1024, 200, 64], [[1, 1024, 64], [1, 1024, 64]]]\n",
      "1 | attention1 | SelfAttention | 12.5 K | [1024, 200, 64] | [1024, 200, 64]                                  \n",
      "2 | rnn2       | LSTM          | 33.3 K | [1024, 200, 64] | [[1024, 200, 64], [[1, 1024, 64], [1, 1024, 64]]]\n",
      "3 | attention2 | SelfAttention | 12.5 K | [1024, 200, 64] | [1024, 200, 64]                                  \n",
      "4 | seq_1      | Sequential    | 8.6 K  | [1024, 64]      | [1024, 64]                                       \n",
      "5 | seq_2      | Sequential    | 8.6 K  | [1024, 64]      | [1024, 64]                                       \n",
      "6 | classifier | Linear        | 1.9 K  | [1024, 192]     | [1024, 10]                                       \n",
      "-------------------------------------------------------------------------------------------------------------------\n",
      "104 K     Trainable params\n",
      "0         Non-trainable params\n",
      "104 K     Total params\n",
      "0.420     Total estimated model params size (MB)\n"
     ]
    },
    {
     "name": "stdout",
     "output_type": "stream",
     "text": [
      "Epoch 0:   0%|                                                                                   | 0/2 [00:00<?, ?it/s]torch.Size([8, 256, 42])\n",
      "Epoch 0:  50%|███████████████████                   | 1/2 [00:00<00:00,  4.97it/s, loss=2.23, v_num=, train_loss=2.230]\n",
      "Validation: 0it [00:00, ?it/s]\u001b[A\n",
      "Validation DataLoader 0:   0%|                                                                   | 0/1 [00:00<?, ?it/s]\u001b[Atorch.Size([8, 256, 42])\n",
      "\n",
      "Epoch 0: 100%|██████████████████████| 2/2 [00:00<00:00,  7.38it/s, loss=2.23, v_num=, train_loss=2.230, val_loss=2.270]\u001b[A\n",
      "Epoch 0: 100%|██████████████████████| 2/2 [00:00<00:00,  7.24it/s, loss=2.23, v_num=, train_loss=2.230, val_loss=2.270]\u001b[A\n",
      "Testing DataLoader 0:   0%|                                                                      | 0/1 [00:00<?, ?it/s]torch.Size([8, 256, 42])\n",
      "Testing DataLoader 0: 100%|██████████████████████████████████████████████████████████████| 1/1 [00:00<00:00, 17.00it/s]\n"
     ]
    },
    {
     "data": {
      "text/html": [
       "<pre style=\"white-space:pre;overflow-x:auto;line-height:normal;font-family:Menlo,'DejaVu Sans Mono',consolas,'Courier New',monospace\">┏━━━━━━━━━━━━━━━━━━━━━━━━━━━┳━━━━━━━━━━━━━━━━━━━━━━━━━━━┓\n",
       "┃<span style=\"font-weight: bold\">        Test metric        </span>┃<span style=\"font-weight: bold\">       DataLoader 0        </span>┃\n",
       "┡━━━━━━━━━━━━━━━━━━━━━━━━━━━╇━━━━━━━━━━━━━━━━━━━━━━━━━━━┩\n",
       "│<span style=\"color: #008080; text-decoration-color: #008080\">         test_acc          </span>│<span style=\"color: #800080; text-decoration-color: #800080\">            0.0            </span>│\n",
       "└───────────────────────────┴───────────────────────────┘\n",
       "</pre>\n"
      ],
      "text/plain": [
       "┏━━━━━━━━━━━━━━━━━━━━━━━━━━━┳━━━━━━━━━━━━━━━━━━━━━━━━━━━┓\n",
       "┃\u001b[1m \u001b[0m\u001b[1m       Test metric       \u001b[0m\u001b[1m \u001b[0m┃\u001b[1m \u001b[0m\u001b[1m      DataLoader 0       \u001b[0m\u001b[1m \u001b[0m┃\n",
       "┡━━━━━━━━━━━━━━━━━━━━━━━━━━━╇━━━━━━━━━━━━━━━━━━━━━━━━━━━┩\n",
       "│\u001b[36m \u001b[0m\u001b[36m        test_acc         \u001b[0m\u001b[36m \u001b[0m│\u001b[35m \u001b[0m\u001b[35m           0.0           \u001b[0m\u001b[35m \u001b[0m│\n",
       "└───────────────────────────┴───────────────────────────┘\n"
      ]
     },
     "metadata": {},
     "output_type": "display_data"
    },
    {
     "name": "stdout",
     "output_type": "stream",
     "text": [
      "\n",
      "*************User02.npy*************\n"
     ]
    },
    {
     "name": "stderr",
     "output_type": "stream",
     "text": [
      "GPU available: False, used: False\n",
      "TPU available: False, using: 0 TPU cores\n",
      "IPU available: False, using: 0 IPUs\n",
      "HPU available: False, using: 0 HPUs\n",
      "Running in fast_dev_run mode: will run a full train, val, test and prediction loop using 1 batch(es).\n",
      "`Trainer(limit_train_batches=1)` was configured so 1 batch per epoch will be used.\n",
      "`Trainer(limit_val_batches=1)` was configured so 1 batch will be used.\n",
      "`Trainer(limit_test_batches=1)` was configured so 1 batch will be used.\n",
      "`Trainer(limit_predict_batches=1)` was configured so 1 batch will be used.\n",
      "`Trainer(val_check_interval=1.0)` was configured so validation will run at the end of the training epoch..\n"
     ]
    },
    {
     "name": "stdout",
     "output_type": "stream",
     "text": [
      "torch.Size([1024, 200, 42])\n"
     ]
    },
    {
     "name": "stderr",
     "output_type": "stream",
     "text": [
      "\n",
      "  | Name       | Type          | Params | In sizes        | Out sizes                                        \n",
      "-------------------------------------------------------------------------------------------------------------------\n",
      "0 | rnn1       | LSTM          | 27.6 K | [1024, 200, 42] | [[1024, 200, 64], [[1, 1024, 64], [1, 1024, 64]]]\n",
      "1 | attention1 | SelfAttention | 12.5 K | [1024, 200, 64] | [1024, 200, 64]                                  \n",
      "2 | rnn2       | LSTM          | 33.3 K | [1024, 200, 64] | [[1024, 200, 64], [[1, 1024, 64], [1, 1024, 64]]]\n",
      "3 | attention2 | SelfAttention | 12.5 K | [1024, 200, 64] | [1024, 200, 64]                                  \n",
      "4 | seq_1      | Sequential    | 8.6 K  | [1024, 64]      | [1024, 64]                                       \n",
      "5 | seq_2      | Sequential    | 8.6 K  | [1024, 64]      | [1024, 64]                                       \n",
      "6 | classifier | Linear        | 1.9 K  | [1024, 192]     | [1024, 10]                                       \n",
      "-------------------------------------------------------------------------------------------------------------------\n",
      "104 K     Trainable params\n",
      "0         Non-trainable params\n",
      "104 K     Total params\n",
      "0.420     Total estimated model params size (MB)\n"
     ]
    },
    {
     "name": "stdout",
     "output_type": "stream",
     "text": [
      "Epoch 0:   0%|                                                                                   | 0/2 [00:00<?, ?it/s]torch.Size([8, 256, 42])\n",
      "Epoch 0:  50%|███████████████████                   | 1/2 [00:00<00:00,  4.19it/s, loss=2.37, v_num=, train_loss=2.370]\n",
      "Validation: 0it [00:00, ?it/s]\u001b[A\n",
      "Validation DataLoader 0:   0%|                                                                   | 0/1 [00:00<?, ?it/s]\u001b[Atorch.Size([8, 256, 42])\n",
      "\n",
      "Epoch 0: 100%|██████████████████████| 2/2 [00:00<00:00,  6.52it/s, loss=2.37, v_num=, train_loss=2.370, val_loss=2.290]\u001b[A\n",
      "Epoch 0: 100%|██████████████████████| 2/2 [00:00<00:00,  6.39it/s, loss=2.37, v_num=, train_loss=2.370, val_loss=2.290]\u001b[A\n",
      "Testing DataLoader 0:   0%|                                                                      | 0/1 [00:00<?, ?it/s]torch.Size([8, 256, 42])\n",
      "Testing DataLoader 0: 100%|██████████████████████████████████████████████████████████████| 1/1 [00:00<00:00, 14.94it/s]\n"
     ]
    },
    {
     "data": {
      "text/html": [
       "<pre style=\"white-space:pre;overflow-x:auto;line-height:normal;font-family:Menlo,'DejaVu Sans Mono',consolas,'Courier New',monospace\">┏━━━━━━━━━━━━━━━━━━━━━━━━━━━┳━━━━━━━━━━━━━━━━━━━━━━━━━━━┓\n",
       "┃<span style=\"font-weight: bold\">        Test metric        </span>┃<span style=\"font-weight: bold\">       DataLoader 0        </span>┃\n",
       "┡━━━━━━━━━━━━━━━━━━━━━━━━━━━╇━━━━━━━━━━━━━━━━━━━━━━━━━━━┩\n",
       "│<span style=\"color: #008080; text-decoration-color: #008080\">         test_acc          </span>│<span style=\"color: #800080; text-decoration-color: #800080\">            0.0            </span>│\n",
       "└───────────────────────────┴───────────────────────────┘\n",
       "</pre>\n"
      ],
      "text/plain": [
       "┏━━━━━━━━━━━━━━━━━━━━━━━━━━━┳━━━━━━━━━━━━━━━━━━━━━━━━━━━┓\n",
       "┃\u001b[1m \u001b[0m\u001b[1m       Test metric       \u001b[0m\u001b[1m \u001b[0m┃\u001b[1m \u001b[0m\u001b[1m      DataLoader 0       \u001b[0m\u001b[1m \u001b[0m┃\n",
       "┡━━━━━━━━━━━━━━━━━━━━━━━━━━━╇━━━━━━━━━━━━━━━━━━━━━━━━━━━┩\n",
       "│\u001b[36m \u001b[0m\u001b[36m        test_acc         \u001b[0m\u001b[36m \u001b[0m│\u001b[35m \u001b[0m\u001b[35m           0.0           \u001b[0m\u001b[35m \u001b[0m│\n",
       "└───────────────────────────┴───────────────────────────┘\n"
      ]
     },
     "metadata": {},
     "output_type": "display_data"
    },
    {
     "name": "stdout",
     "output_type": "stream",
     "text": [
      "\n",
      "*************User03.npy*************\n"
     ]
    },
    {
     "name": "stderr",
     "output_type": "stream",
     "text": [
      "GPU available: False, used: False\n",
      "TPU available: False, using: 0 TPU cores\n",
      "IPU available: False, using: 0 IPUs\n",
      "HPU available: False, using: 0 HPUs\n",
      "Running in fast_dev_run mode: will run a full train, val, test and prediction loop using 1 batch(es).\n",
      "`Trainer(limit_train_batches=1)` was configured so 1 batch per epoch will be used.\n",
      "`Trainer(limit_val_batches=1)` was configured so 1 batch will be used.\n",
      "`Trainer(limit_test_batches=1)` was configured so 1 batch will be used.\n",
      "`Trainer(limit_predict_batches=1)` was configured so 1 batch will be used.\n",
      "`Trainer(val_check_interval=1.0)` was configured so validation will run at the end of the training epoch..\n"
     ]
    },
    {
     "name": "stdout",
     "output_type": "stream",
     "text": [
      "torch.Size([1024, 200, 42])\n"
     ]
    },
    {
     "name": "stderr",
     "output_type": "stream",
     "text": [
      "\n",
      "  | Name       | Type          | Params | In sizes        | Out sizes                                        \n",
      "-------------------------------------------------------------------------------------------------------------------\n",
      "0 | rnn1       | LSTM          | 27.6 K | [1024, 200, 42] | [[1024, 200, 64], [[1, 1024, 64], [1, 1024, 64]]]\n",
      "1 | attention1 | SelfAttention | 12.5 K | [1024, 200, 64] | [1024, 200, 64]                                  \n",
      "2 | rnn2       | LSTM          | 33.3 K | [1024, 200, 64] | [[1024, 200, 64], [[1, 1024, 64], [1, 1024, 64]]]\n",
      "3 | attention2 | SelfAttention | 12.5 K | [1024, 200, 64] | [1024, 200, 64]                                  \n",
      "4 | seq_1      | Sequential    | 8.6 K  | [1024, 64]      | [1024, 64]                                       \n",
      "5 | seq_2      | Sequential    | 8.6 K  | [1024, 64]      | [1024, 64]                                       \n",
      "6 | classifier | Linear        | 1.9 K  | [1024, 192]     | [1024, 10]                                       \n",
      "-------------------------------------------------------------------------------------------------------------------\n",
      "104 K     Trainable params\n",
      "0         Non-trainable params\n",
      "104 K     Total params\n",
      "0.420     Total estimated model params size (MB)\n"
     ]
    },
    {
     "name": "stdout",
     "output_type": "stream",
     "text": [
      "Epoch 0:   0%|                                                                                   | 0/2 [00:00<?, ?it/s]torch.Size([8, 256, 42])\n",
      "Epoch 0:  50%|███████████████████                   | 1/2 [00:00<00:00,  4.32it/s, loss=2.17, v_num=, train_loss=2.170]\n",
      "Validation: 0it [00:00, ?it/s]\u001b[A\n",
      "Validation DataLoader 0:   0%|                                                                   | 0/1 [00:00<?, ?it/s]\u001b[Atorch.Size([8, 256, 42])\n",
      "\n",
      "Epoch 0: 100%|██████████████████████| 2/2 [00:00<00:00,  7.04it/s, loss=2.17, v_num=, train_loss=2.170, val_loss=2.310]\u001b[A\n",
      "Epoch 0: 100%|██████████████████████| 2/2 [00:00<00:00,  6.96it/s, loss=2.17, v_num=, train_loss=2.170, val_loss=2.310]\u001b[A\n",
      "Testing DataLoader 0:   0%|                                                                      | 0/1 [00:00<?, ?it/s]torch.Size([8, 256, 42])\n",
      "Testing DataLoader 0: 100%|██████████████████████████████████████████████████████████████| 1/1 [00:00<00:00, 19.76it/s]\n"
     ]
    },
    {
     "data": {
      "text/html": [
       "<pre style=\"white-space:pre;overflow-x:auto;line-height:normal;font-family:Menlo,'DejaVu Sans Mono',consolas,'Courier New',monospace\">┏━━━━━━━━━━━━━━━━━━━━━━━━━━━┳━━━━━━━━━━━━━━━━━━━━━━━━━━━┓\n",
       "┃<span style=\"font-weight: bold\">        Test metric        </span>┃<span style=\"font-weight: bold\">       DataLoader 0        </span>┃\n",
       "┡━━━━━━━━━━━━━━━━━━━━━━━━━━━╇━━━━━━━━━━━━━━━━━━━━━━━━━━━┩\n",
       "│<span style=\"color: #008080; text-decoration-color: #008080\">         test_acc          </span>│<span style=\"color: #800080; text-decoration-color: #800080\">            0.0            </span>│\n",
       "└───────────────────────────┴───────────────────────────┘\n",
       "</pre>\n"
      ],
      "text/plain": [
       "┏━━━━━━━━━━━━━━━━━━━━━━━━━━━┳━━━━━━━━━━━━━━━━━━━━━━━━━━━┓\n",
       "┃\u001b[1m \u001b[0m\u001b[1m       Test metric       \u001b[0m\u001b[1m \u001b[0m┃\u001b[1m \u001b[0m\u001b[1m      DataLoader 0       \u001b[0m\u001b[1m \u001b[0m┃\n",
       "┡━━━━━━━━━━━━━━━━━━━━━━━━━━━╇━━━━━━━━━━━━━━━━━━━━━━━━━━━┩\n",
       "│\u001b[36m \u001b[0m\u001b[36m        test_acc         \u001b[0m\u001b[36m \u001b[0m│\u001b[35m \u001b[0m\u001b[35m           0.0           \u001b[0m\u001b[35m \u001b[0m│\n",
       "└───────────────────────────┴───────────────────────────┘\n"
      ]
     },
     "metadata": {},
     "output_type": "display_data"
    },
    {
     "name": "stdout",
     "output_type": "stream",
     "text": [
      "\n",
      "*************User04.npy*************\n"
     ]
    },
    {
     "name": "stderr",
     "output_type": "stream",
     "text": [
      "GPU available: False, used: False\n",
      "TPU available: False, using: 0 TPU cores\n",
      "IPU available: False, using: 0 IPUs\n",
      "HPU available: False, using: 0 HPUs\n",
      "Running in fast_dev_run mode: will run a full train, val, test and prediction loop using 1 batch(es).\n",
      "`Trainer(limit_train_batches=1)` was configured so 1 batch per epoch will be used.\n",
      "`Trainer(limit_val_batches=1)` was configured so 1 batch will be used.\n",
      "`Trainer(limit_test_batches=1)` was configured so 1 batch will be used.\n",
      "`Trainer(limit_predict_batches=1)` was configured so 1 batch will be used.\n",
      "`Trainer(val_check_interval=1.0)` was configured so validation will run at the end of the training epoch..\n"
     ]
    },
    {
     "name": "stdout",
     "output_type": "stream",
     "text": [
      "torch.Size([1024, 200, 42])\n"
     ]
    },
    {
     "name": "stderr",
     "output_type": "stream",
     "text": [
      "\n",
      "  | Name       | Type          | Params | In sizes        | Out sizes                                        \n",
      "-------------------------------------------------------------------------------------------------------------------\n",
      "0 | rnn1       | LSTM          | 27.6 K | [1024, 200, 42] | [[1024, 200, 64], [[1, 1024, 64], [1, 1024, 64]]]\n",
      "1 | attention1 | SelfAttention | 12.5 K | [1024, 200, 64] | [1024, 200, 64]                                  \n",
      "2 | rnn2       | LSTM          | 33.3 K | [1024, 200, 64] | [[1024, 200, 64], [[1, 1024, 64], [1, 1024, 64]]]\n",
      "3 | attention2 | SelfAttention | 12.5 K | [1024, 200, 64] | [1024, 200, 64]                                  \n",
      "4 | seq_1      | Sequential    | 8.6 K  | [1024, 64]      | [1024, 64]                                       \n",
      "5 | seq_2      | Sequential    | 8.6 K  | [1024, 64]      | [1024, 64]                                       \n",
      "6 | classifier | Linear        | 1.9 K  | [1024, 192]     | [1024, 10]                                       \n",
      "-------------------------------------------------------------------------------------------------------------------\n",
      "104 K     Trainable params\n",
      "0         Non-trainable params\n",
      "104 K     Total params\n",
      "0.420     Total estimated model params size (MB)\n"
     ]
    },
    {
     "name": "stdout",
     "output_type": "stream",
     "text": [
      "Epoch 0:   0%|                                                                                   | 0/2 [00:00<?, ?it/s]torch.Size([8, 256, 42])\n",
      "Epoch 0:  50%|███████████████████                   | 1/2 [00:00<00:00,  5.41it/s, loss=2.19, v_num=, train_loss=2.190]\n",
      "Validation: 0it [00:00, ?it/s]\u001b[A\n",
      "Validation DataLoader 0:   0%|                                                                   | 0/1 [00:00<?, ?it/s]\u001b[Atorch.Size([8, 256, 42])\n",
      "\n",
      "Epoch 0: 100%|██████████████████████| 2/2 [00:00<00:00,  8.42it/s, loss=2.19, v_num=, train_loss=2.190, val_loss=2.300]\u001b[A\n",
      "Epoch 0: 100%|██████████████████████| 2/2 [00:00<00:00,  8.28it/s, loss=2.19, v_num=, train_loss=2.190, val_loss=2.300]\u001b[A\n",
      "Testing DataLoader 0:   0%|                                                                      | 0/1 [00:00<?, ?it/s]torch.Size([8, 256, 42])\n",
      "Testing DataLoader 0: 100%|██████████████████████████████████████████████████████████████| 1/1 [00:00<00:00, 19.99it/s]\n"
     ]
    },
    {
     "data": {
      "text/html": [
       "<pre style=\"white-space:pre;overflow-x:auto;line-height:normal;font-family:Menlo,'DejaVu Sans Mono',consolas,'Courier New',monospace\">┏━━━━━━━━━━━━━━━━━━━━━━━━━━━┳━━━━━━━━━━━━━━━━━━━━━━━━━━━┓\n",
       "┃<span style=\"font-weight: bold\">        Test metric        </span>┃<span style=\"font-weight: bold\">       DataLoader 0        </span>┃\n",
       "┡━━━━━━━━━━━━━━━━━━━━━━━━━━━╇━━━━━━━━━━━━━━━━━━━━━━━━━━━┩\n",
       "│<span style=\"color: #008080; text-decoration-color: #008080\">         test_acc          </span>│<span style=\"color: #800080; text-decoration-color: #800080\">            0.0            </span>│\n",
       "└───────────────────────────┴───────────────────────────┘\n",
       "</pre>\n"
      ],
      "text/plain": [
       "┏━━━━━━━━━━━━━━━━━━━━━━━━━━━┳━━━━━━━━━━━━━━━━━━━━━━━━━━━┓\n",
       "┃\u001b[1m \u001b[0m\u001b[1m       Test metric       \u001b[0m\u001b[1m \u001b[0m┃\u001b[1m \u001b[0m\u001b[1m      DataLoader 0       \u001b[0m\u001b[1m \u001b[0m┃\n",
       "┡━━━━━━━━━━━━━━━━━━━━━━━━━━━╇━━━━━━━━━━━━━━━━━━━━━━━━━━━┩\n",
       "│\u001b[36m \u001b[0m\u001b[36m        test_acc         \u001b[0m\u001b[36m \u001b[0m│\u001b[35m \u001b[0m\u001b[35m           0.0           \u001b[0m\u001b[35m \u001b[0m│\n",
       "└───────────────────────────┴───────────────────────────┘\n"
      ]
     },
     "metadata": {},
     "output_type": "display_data"
    },
    {
     "name": "stdout",
     "output_type": "stream",
     "text": [
      "\n",
      "*************User05.npy*************\n"
     ]
    },
    {
     "name": "stderr",
     "output_type": "stream",
     "text": [
      "GPU available: False, used: False\n",
      "TPU available: False, using: 0 TPU cores\n",
      "IPU available: False, using: 0 IPUs\n",
      "HPU available: False, using: 0 HPUs\n",
      "Running in fast_dev_run mode: will run a full train, val, test and prediction loop using 1 batch(es).\n",
      "`Trainer(limit_train_batches=1)` was configured so 1 batch per epoch will be used.\n",
      "`Trainer(limit_val_batches=1)` was configured so 1 batch will be used.\n",
      "`Trainer(limit_test_batches=1)` was configured so 1 batch will be used.\n",
      "`Trainer(limit_predict_batches=1)` was configured so 1 batch will be used.\n",
      "`Trainer(val_check_interval=1.0)` was configured so validation will run at the end of the training epoch..\n"
     ]
    },
    {
     "name": "stdout",
     "output_type": "stream",
     "text": [
      "torch.Size([1024, 200, 42])\n"
     ]
    },
    {
     "name": "stderr",
     "output_type": "stream",
     "text": [
      "\n",
      "  | Name       | Type          | Params | In sizes        | Out sizes                                        \n",
      "-------------------------------------------------------------------------------------------------------------------\n",
      "0 | rnn1       | LSTM          | 27.6 K | [1024, 200, 42] | [[1024, 200, 64], [[1, 1024, 64], [1, 1024, 64]]]\n",
      "1 | attention1 | SelfAttention | 12.5 K | [1024, 200, 64] | [1024, 200, 64]                                  \n",
      "2 | rnn2       | LSTM          | 33.3 K | [1024, 200, 64] | [[1024, 200, 64], [[1, 1024, 64], [1, 1024, 64]]]\n",
      "3 | attention2 | SelfAttention | 12.5 K | [1024, 200, 64] | [1024, 200, 64]                                  \n",
      "4 | seq_1      | Sequential    | 8.6 K  | [1024, 64]      | [1024, 64]                                       \n",
      "5 | seq_2      | Sequential    | 8.6 K  | [1024, 64]      | [1024, 64]                                       \n",
      "6 | classifier | Linear        | 1.9 K  | [1024, 192]     | [1024, 10]                                       \n",
      "-------------------------------------------------------------------------------------------------------------------\n",
      "104 K     Trainable params\n",
      "0         Non-trainable params\n",
      "104 K     Total params\n",
      "0.420     Total estimated model params size (MB)\n"
     ]
    },
    {
     "name": "stdout",
     "output_type": "stream",
     "text": [
      "Epoch 0:   0%|                                                                                   | 0/2 [00:00<?, ?it/s]torch.Size([8, 256, 42])\n",
      "Epoch 0:  50%|███████████████████                   | 1/2 [00:00<00:00,  5.51it/s, loss=2.63, v_num=, train_loss=2.630]\n",
      "Validation: 0it [00:00, ?it/s]\u001b[A\n",
      "Validation DataLoader 0:   0%|                                                                   | 0/1 [00:00<?, ?it/s]\u001b[Atorch.Size([8, 256, 42])\n",
      "\n",
      "Epoch 0: 100%|██████████████████████| 2/2 [00:00<00:00,  8.70it/s, loss=2.63, v_num=, train_loss=2.630, val_loss=2.320]\u001b[A\n",
      "Epoch 0: 100%|██████████████████████| 2/2 [00:00<00:00,  8.56it/s, loss=2.63, v_num=, train_loss=2.630, val_loss=2.320]\u001b[A\n",
      "Testing DataLoader 0:   0%|                                                                      | 0/1 [00:00<?, ?it/s]torch.Size([8, 256, 42])\n",
      "Testing DataLoader 0: 100%|██████████████████████████████████████████████████████████████| 1/1 [00:00<00:00, 19.92it/s]\n"
     ]
    },
    {
     "data": {
      "text/html": [
       "<pre style=\"white-space:pre;overflow-x:auto;line-height:normal;font-family:Menlo,'DejaVu Sans Mono',consolas,'Courier New',monospace\">┏━━━━━━━━━━━━━━━━━━━━━━━━━━━┳━━━━━━━━━━━━━━━━━━━━━━━━━━━┓\n",
       "┃<span style=\"font-weight: bold\">        Test metric        </span>┃<span style=\"font-weight: bold\">       DataLoader 0        </span>┃\n",
       "┡━━━━━━━━━━━━━━━━━━━━━━━━━━━╇━━━━━━━━━━━━━━━━━━━━━━━━━━━┩\n",
       "│<span style=\"color: #008080; text-decoration-color: #008080\">         test_acc          </span>│<span style=\"color: #800080; text-decoration-color: #800080\">            0.0            </span>│\n",
       "└───────────────────────────┴───────────────────────────┘\n",
       "</pre>\n"
      ],
      "text/plain": [
       "┏━━━━━━━━━━━━━━━━━━━━━━━━━━━┳━━━━━━━━━━━━━━━━━━━━━━━━━━━┓\n",
       "┃\u001b[1m \u001b[0m\u001b[1m       Test metric       \u001b[0m\u001b[1m \u001b[0m┃\u001b[1m \u001b[0m\u001b[1m      DataLoader 0       \u001b[0m\u001b[1m \u001b[0m┃\n",
       "┡━━━━━━━━━━━━━━━━━━━━━━━━━━━╇━━━━━━━━━━━━━━━━━━━━━━━━━━━┩\n",
       "│\u001b[36m \u001b[0m\u001b[36m        test_acc         \u001b[0m\u001b[36m \u001b[0m│\u001b[35m \u001b[0m\u001b[35m           0.0           \u001b[0m\u001b[35m \u001b[0m│\n",
       "└───────────────────────────┴───────────────────────────┘\n"
      ]
     },
     "metadata": {},
     "output_type": "display_data"
    },
    {
     "name": "stdout",
     "output_type": "stream",
     "text": [
      "\n",
      "*************User06.npy*************\n"
     ]
    },
    {
     "name": "stderr",
     "output_type": "stream",
     "text": [
      "GPU available: False, used: False\n",
      "TPU available: False, using: 0 TPU cores\n",
      "IPU available: False, using: 0 IPUs\n",
      "HPU available: False, using: 0 HPUs\n",
      "Running in fast_dev_run mode: will run a full train, val, test and prediction loop using 1 batch(es).\n",
      "`Trainer(limit_train_batches=1)` was configured so 1 batch per epoch will be used.\n",
      "`Trainer(limit_val_batches=1)` was configured so 1 batch will be used.\n",
      "`Trainer(limit_test_batches=1)` was configured so 1 batch will be used.\n",
      "`Trainer(limit_predict_batches=1)` was configured so 1 batch will be used.\n",
      "`Trainer(val_check_interval=1.0)` was configured so validation will run at the end of the training epoch..\n"
     ]
    },
    {
     "name": "stdout",
     "output_type": "stream",
     "text": [
      "torch.Size([1024, 200, 42])\n"
     ]
    },
    {
     "name": "stderr",
     "output_type": "stream",
     "text": [
      "\n",
      "  | Name       | Type          | Params | In sizes        | Out sizes                                        \n",
      "-------------------------------------------------------------------------------------------------------------------\n",
      "0 | rnn1       | LSTM          | 27.6 K | [1024, 200, 42] | [[1024, 200, 64], [[1, 1024, 64], [1, 1024, 64]]]\n",
      "1 | attention1 | SelfAttention | 12.5 K | [1024, 200, 64] | [1024, 200, 64]                                  \n",
      "2 | rnn2       | LSTM          | 33.3 K | [1024, 200, 64] | [[1024, 200, 64], [[1, 1024, 64], [1, 1024, 64]]]\n",
      "3 | attention2 | SelfAttention | 12.5 K | [1024, 200, 64] | [1024, 200, 64]                                  \n",
      "4 | seq_1      | Sequential    | 8.6 K  | [1024, 64]      | [1024, 64]                                       \n",
      "5 | seq_2      | Sequential    | 8.6 K  | [1024, 64]      | [1024, 64]                                       \n",
      "6 | classifier | Linear        | 1.9 K  | [1024, 192]     | [1024, 10]                                       \n",
      "-------------------------------------------------------------------------------------------------------------------\n",
      "104 K     Trainable params\n",
      "0         Non-trainable params\n",
      "104 K     Total params\n",
      "0.420     Total estimated model params size (MB)\n"
     ]
    },
    {
     "name": "stdout",
     "output_type": "stream",
     "text": [
      "Epoch 0:   0%|                                                                                   | 0/2 [00:00<?, ?it/s]torch.Size([8, 256, 42])\n",
      "Epoch 0:  50%|███████████████████                   | 1/2 [00:00<00:00,  5.01it/s, loss=2.31, v_num=, train_loss=2.310]\n",
      "Validation: 0it [00:00, ?it/s]\u001b[A\n",
      "Validation DataLoader 0:   0%|                                                                   | 0/1 [00:00<?, ?it/s]\u001b[Atorch.Size([8, 256, 42])\n",
      "\n",
      "Epoch 0: 100%|██████████████████████| 2/2 [00:00<00:00,  7.69it/s, loss=2.31, v_num=, train_loss=2.310, val_loss=2.310]\u001b[A\n",
      "Epoch 0: 100%|██████████████████████| 2/2 [00:00<00:00,  7.58it/s, loss=2.31, v_num=, train_loss=2.310, val_loss=2.310]\u001b[A\n",
      "Testing DataLoader 0:   0%|                                                                      | 0/1 [00:00<?, ?it/s]torch.Size([8, 256, 42])\n",
      "Testing DataLoader 0: 100%|██████████████████████████████████████████████████████████████| 1/1 [00:00<00:00, 18.32it/s]\n"
     ]
    },
    {
     "data": {
      "text/html": [
       "<pre style=\"white-space:pre;overflow-x:auto;line-height:normal;font-family:Menlo,'DejaVu Sans Mono',consolas,'Courier New',monospace\">┏━━━━━━━━━━━━━━━━━━━━━━━━━━━┳━━━━━━━━━━━━━━━━━━━━━━━━━━━┓\n",
       "┃<span style=\"font-weight: bold\">        Test metric        </span>┃<span style=\"font-weight: bold\">       DataLoader 0        </span>┃\n",
       "┡━━━━━━━━━━━━━━━━━━━━━━━━━━━╇━━━━━━━━━━━━━━━━━━━━━━━━━━━┩\n",
       "│<span style=\"color: #008080; text-decoration-color: #008080\">         test_acc          </span>│<span style=\"color: #800080; text-decoration-color: #800080\">            0.0            </span>│\n",
       "└───────────────────────────┴───────────────────────────┘\n",
       "</pre>\n"
      ],
      "text/plain": [
       "┏━━━━━━━━━━━━━━━━━━━━━━━━━━━┳━━━━━━━━━━━━━━━━━━━━━━━━━━━┓\n",
       "┃\u001b[1m \u001b[0m\u001b[1m       Test metric       \u001b[0m\u001b[1m \u001b[0m┃\u001b[1m \u001b[0m\u001b[1m      DataLoader 0       \u001b[0m\u001b[1m \u001b[0m┃\n",
       "┡━━━━━━━━━━━━━━━━━━━━━━━━━━━╇━━━━━━━━━━━━━━━━━━━━━━━━━━━┩\n",
       "│\u001b[36m \u001b[0m\u001b[36m        test_acc         \u001b[0m\u001b[36m \u001b[0m│\u001b[35m \u001b[0m\u001b[35m           0.0           \u001b[0m\u001b[35m \u001b[0m│\n",
       "└───────────────────────────┴───────────────────────────┘\n"
      ]
     },
     "metadata": {},
     "output_type": "display_data"
    },
    {
     "name": "stdout",
     "output_type": "stream",
     "text": [
      "\n",
      "*************User07.npy*************\n"
     ]
    },
    {
     "name": "stderr",
     "output_type": "stream",
     "text": [
      "GPU available: False, used: False\n",
      "TPU available: False, using: 0 TPU cores\n",
      "IPU available: False, using: 0 IPUs\n",
      "HPU available: False, using: 0 HPUs\n",
      "Running in fast_dev_run mode: will run a full train, val, test and prediction loop using 1 batch(es).\n",
      "`Trainer(limit_train_batches=1)` was configured so 1 batch per epoch will be used.\n",
      "`Trainer(limit_val_batches=1)` was configured so 1 batch will be used.\n",
      "`Trainer(limit_test_batches=1)` was configured so 1 batch will be used.\n",
      "`Trainer(limit_predict_batches=1)` was configured so 1 batch will be used.\n",
      "`Trainer(val_check_interval=1.0)` was configured so validation will run at the end of the training epoch..\n"
     ]
    },
    {
     "name": "stdout",
     "output_type": "stream",
     "text": [
      "torch.Size([1024, 200, 42])\n"
     ]
    },
    {
     "name": "stderr",
     "output_type": "stream",
     "text": [
      "\n",
      "  | Name       | Type          | Params | In sizes        | Out sizes                                        \n",
      "-------------------------------------------------------------------------------------------------------------------\n",
      "0 | rnn1       | LSTM          | 27.6 K | [1024, 200, 42] | [[1024, 200, 64], [[1, 1024, 64], [1, 1024, 64]]]\n",
      "1 | attention1 | SelfAttention | 12.5 K | [1024, 200, 64] | [1024, 200, 64]                                  \n",
      "2 | rnn2       | LSTM          | 33.3 K | [1024, 200, 64] | [[1024, 200, 64], [[1, 1024, 64], [1, 1024, 64]]]\n",
      "3 | attention2 | SelfAttention | 12.5 K | [1024, 200, 64] | [1024, 200, 64]                                  \n",
      "4 | seq_1      | Sequential    | 8.6 K  | [1024, 64]      | [1024, 64]                                       \n",
      "5 | seq_2      | Sequential    | 8.6 K  | [1024, 64]      | [1024, 64]                                       \n",
      "6 | classifier | Linear        | 1.9 K  | [1024, 192]     | [1024, 10]                                       \n",
      "-------------------------------------------------------------------------------------------------------------------\n",
      "104 K     Trainable params\n",
      "0         Non-trainable params\n",
      "104 K     Total params\n",
      "0.420     Total estimated model params size (MB)\n"
     ]
    },
    {
     "name": "stdout",
     "output_type": "stream",
     "text": [
      "Epoch 0:   0%|                                                                                   | 0/2 [00:00<?, ?it/s]torch.Size([8, 256, 42])\n",
      "Epoch 0:  50%|███████████████████                   | 1/2 [00:00<00:00,  5.43it/s, loss=2.43, v_num=, train_loss=2.430]\n",
      "Validation: 0it [00:00, ?it/s]\u001b[A\n",
      "Validation DataLoader 0:   0%|                                                                   | 0/1 [00:00<?, ?it/s]\u001b[Atorch.Size([8, 256, 42])\n",
      "\n",
      "Epoch 0: 100%|██████████████████████| 2/2 [00:00<00:00,  8.36it/s, loss=2.43, v_num=, train_loss=2.430, val_loss=2.300]\u001b[A\n",
      "Epoch 0: 100%|██████████████████████| 2/2 [00:00<00:00,  8.16it/s, loss=2.43, v_num=, train_loss=2.430, val_loss=2.300]\u001b[A\n",
      "Testing DataLoader 0:   0%|                                                                      | 0/1 [00:00<?, ?it/s]torch.Size([8, 256, 42])\n",
      "Testing DataLoader 0: 100%|██████████████████████████████████████████████████████████████| 1/1 [00:00<00:00, 20.49it/s]\n"
     ]
    },
    {
     "data": {
      "text/html": [
       "<pre style=\"white-space:pre;overflow-x:auto;line-height:normal;font-family:Menlo,'DejaVu Sans Mono',consolas,'Courier New',monospace\">┏━━━━━━━━━━━━━━━━━━━━━━━━━━━┳━━━━━━━━━━━━━━━━━━━━━━━━━━━┓\n",
       "┃<span style=\"font-weight: bold\">        Test metric        </span>┃<span style=\"font-weight: bold\">       DataLoader 0        </span>┃\n",
       "┡━━━━━━━━━━━━━━━━━━━━━━━━━━━╇━━━━━━━━━━━━━━━━━━━━━━━━━━━┩\n",
       "│<span style=\"color: #008080; text-decoration-color: #008080\">         test_acc          </span>│<span style=\"color: #800080; text-decoration-color: #800080\">            0.0            </span>│\n",
       "└───────────────────────────┴───────────────────────────┘\n",
       "</pre>\n"
      ],
      "text/plain": [
       "┏━━━━━━━━━━━━━━━━━━━━━━━━━━━┳━━━━━━━━━━━━━━━━━━━━━━━━━━━┓\n",
       "┃\u001b[1m \u001b[0m\u001b[1m       Test metric       \u001b[0m\u001b[1m \u001b[0m┃\u001b[1m \u001b[0m\u001b[1m      DataLoader 0       \u001b[0m\u001b[1m \u001b[0m┃\n",
       "┡━━━━━━━━━━━━━━━━━━━━━━━━━━━╇━━━━━━━━━━━━━━━━━━━━━━━━━━━┩\n",
       "│\u001b[36m \u001b[0m\u001b[36m        test_acc         \u001b[0m\u001b[36m \u001b[0m│\u001b[35m \u001b[0m\u001b[35m           0.0           \u001b[0m\u001b[35m \u001b[0m│\n",
       "└───────────────────────────┴───────────────────────────┘\n"
      ]
     },
     "metadata": {},
     "output_type": "display_data"
    },
    {
     "name": "stdout",
     "output_type": "stream",
     "text": [
      "\n",
      "*************User08.npy*************\n"
     ]
    },
    {
     "name": "stderr",
     "output_type": "stream",
     "text": [
      "GPU available: False, used: False\n",
      "TPU available: False, using: 0 TPU cores\n",
      "IPU available: False, using: 0 IPUs\n",
      "HPU available: False, using: 0 HPUs\n",
      "Running in fast_dev_run mode: will run a full train, val, test and prediction loop using 1 batch(es).\n",
      "`Trainer(limit_train_batches=1)` was configured so 1 batch per epoch will be used.\n",
      "`Trainer(limit_val_batches=1)` was configured so 1 batch will be used.\n",
      "`Trainer(limit_test_batches=1)` was configured so 1 batch will be used.\n",
      "`Trainer(limit_predict_batches=1)` was configured so 1 batch will be used.\n",
      "`Trainer(val_check_interval=1.0)` was configured so validation will run at the end of the training epoch..\n"
     ]
    },
    {
     "name": "stdout",
     "output_type": "stream",
     "text": [
      "torch.Size([1024, 200, 42])\n"
     ]
    },
    {
     "name": "stderr",
     "output_type": "stream",
     "text": [
      "\n",
      "  | Name       | Type          | Params | In sizes        | Out sizes                                        \n",
      "-------------------------------------------------------------------------------------------------------------------\n",
      "0 | rnn1       | LSTM          | 27.6 K | [1024, 200, 42] | [[1024, 200, 64], [[1, 1024, 64], [1, 1024, 64]]]\n",
      "1 | attention1 | SelfAttention | 12.5 K | [1024, 200, 64] | [1024, 200, 64]                                  \n",
      "2 | rnn2       | LSTM          | 33.3 K | [1024, 200, 64] | [[1024, 200, 64], [[1, 1024, 64], [1, 1024, 64]]]\n",
      "3 | attention2 | SelfAttention | 12.5 K | [1024, 200, 64] | [1024, 200, 64]                                  \n",
      "4 | seq_1      | Sequential    | 8.6 K  | [1024, 64]      | [1024, 64]                                       \n",
      "5 | seq_2      | Sequential    | 8.6 K  | [1024, 64]      | [1024, 64]                                       \n",
      "6 | classifier | Linear        | 1.9 K  | [1024, 192]     | [1024, 10]                                       \n",
      "-------------------------------------------------------------------------------------------------------------------\n",
      "104 K     Trainable params\n",
      "0         Non-trainable params\n",
      "104 K     Total params\n",
      "0.420     Total estimated model params size (MB)\n"
     ]
    },
    {
     "name": "stdout",
     "output_type": "stream",
     "text": [
      "Epoch 0:   0%|                                                                                   | 0/2 [00:00<?, ?it/s]torch.Size([8, 256, 42])\n",
      "Epoch 0:  50%|███████████████████                   | 1/2 [00:00<00:00,  4.94it/s, loss=2.26, v_num=, train_loss=2.260]\n",
      "Validation: 0it [00:00, ?it/s]\u001b[A\n",
      "Validation DataLoader 0:   0%|                                                                   | 0/1 [00:00<?, ?it/s]\u001b[Atorch.Size([8, 256, 42])\n",
      "\n",
      "Epoch 0: 100%|██████████████████████| 2/2 [00:00<00:00,  7.99it/s, loss=2.26, v_num=, train_loss=2.260, val_loss=2.310]\u001b[A\n",
      "Epoch 0: 100%|██████████████████████| 2/2 [00:00<00:00,  7.91it/s, loss=2.26, v_num=, train_loss=2.260, val_loss=2.310]\u001b[A\n",
      "Testing DataLoader 0:   0%|                                                                      | 0/1 [00:00<?, ?it/s]torch.Size([8, 256, 42])\n",
      "Testing DataLoader 0: 100%|██████████████████████████████████████████████████████████████| 1/1 [00:00<00:00, 20.20it/s]\n"
     ]
    },
    {
     "data": {
      "text/html": [
       "<pre style=\"white-space:pre;overflow-x:auto;line-height:normal;font-family:Menlo,'DejaVu Sans Mono',consolas,'Courier New',monospace\">┏━━━━━━━━━━━━━━━━━━━━━━━━━━━┳━━━━━━━━━━━━━━━━━━━━━━━━━━━┓\n",
       "┃<span style=\"font-weight: bold\">        Test metric        </span>┃<span style=\"font-weight: bold\">       DataLoader 0        </span>┃\n",
       "┡━━━━━━━━━━━━━━━━━━━━━━━━━━━╇━━━━━━━━━━━━━━━━━━━━━━━━━━━┩\n",
       "│<span style=\"color: #008080; text-decoration-color: #008080\">         test_acc          </span>│<span style=\"color: #800080; text-decoration-color: #800080\">            0.0            </span>│\n",
       "└───────────────────────────┴───────────────────────────┘\n",
       "</pre>\n"
      ],
      "text/plain": [
       "┏━━━━━━━━━━━━━━━━━━━━━━━━━━━┳━━━━━━━━━━━━━━━━━━━━━━━━━━━┓\n",
       "┃\u001b[1m \u001b[0m\u001b[1m       Test metric       \u001b[0m\u001b[1m \u001b[0m┃\u001b[1m \u001b[0m\u001b[1m      DataLoader 0       \u001b[0m\u001b[1m \u001b[0m┃\n",
       "┡━━━━━━━━━━━━━━━━━━━━━━━━━━━╇━━━━━━━━━━━━━━━━━━━━━━━━━━━┩\n",
       "│\u001b[36m \u001b[0m\u001b[36m        test_acc         \u001b[0m\u001b[36m \u001b[0m│\u001b[35m \u001b[0m\u001b[35m           0.0           \u001b[0m\u001b[35m \u001b[0m│\n",
       "└───────────────────────────┴───────────────────────────┘\n"
      ]
     },
     "metadata": {},
     "output_type": "display_data"
    },
    {
     "name": "stdout",
     "output_type": "stream",
     "text": [
      "\n",
      "*************User09.npy*************\n"
     ]
    },
    {
     "name": "stderr",
     "output_type": "stream",
     "text": [
      "GPU available: False, used: False\n",
      "TPU available: False, using: 0 TPU cores\n",
      "IPU available: False, using: 0 IPUs\n",
      "HPU available: False, using: 0 HPUs\n",
      "Running in fast_dev_run mode: will run a full train, val, test and prediction loop using 1 batch(es).\n",
      "`Trainer(limit_train_batches=1)` was configured so 1 batch per epoch will be used.\n",
      "`Trainer(limit_val_batches=1)` was configured so 1 batch will be used.\n",
      "`Trainer(limit_test_batches=1)` was configured so 1 batch will be used.\n",
      "`Trainer(limit_predict_batches=1)` was configured so 1 batch will be used.\n",
      "`Trainer(val_check_interval=1.0)` was configured so validation will run at the end of the training epoch..\n"
     ]
    },
    {
     "name": "stdout",
     "output_type": "stream",
     "text": [
      "torch.Size([1024, 200, 42])\n"
     ]
    },
    {
     "name": "stderr",
     "output_type": "stream",
     "text": [
      "\n",
      "  | Name       | Type          | Params | In sizes        | Out sizes                                        \n",
      "-------------------------------------------------------------------------------------------------------------------\n",
      "0 | rnn1       | LSTM          | 27.6 K | [1024, 200, 42] | [[1024, 200, 64], [[1, 1024, 64], [1, 1024, 64]]]\n",
      "1 | attention1 | SelfAttention | 12.5 K | [1024, 200, 64] | [1024, 200, 64]                                  \n",
      "2 | rnn2       | LSTM          | 33.3 K | [1024, 200, 64] | [[1024, 200, 64], [[1, 1024, 64], [1, 1024, 64]]]\n",
      "3 | attention2 | SelfAttention | 12.5 K | [1024, 200, 64] | [1024, 200, 64]                                  \n",
      "4 | seq_1      | Sequential    | 8.6 K  | [1024, 64]      | [1024, 64]                                       \n",
      "5 | seq_2      | Sequential    | 8.6 K  | [1024, 64]      | [1024, 64]                                       \n",
      "6 | classifier | Linear        | 1.9 K  | [1024, 192]     | [1024, 10]                                       \n",
      "-------------------------------------------------------------------------------------------------------------------\n",
      "104 K     Trainable params\n",
      "0         Non-trainable params\n",
      "104 K     Total params\n",
      "0.420     Total estimated model params size (MB)\n"
     ]
    },
    {
     "name": "stdout",
     "output_type": "stream",
     "text": [
      "Epoch 0:   0%|                                                                                   | 0/2 [00:00<?, ?it/s]torch.Size([8, 256, 42])\n",
      "Epoch 0:  50%|███████████████████▌                   | 1/2 [00:00<00:00,  5.92it/s, loss=2.4, v_num=, train_loss=2.400]\n",
      "Validation: 0it [00:00, ?it/s]\u001b[A\n",
      "Validation DataLoader 0:   0%|                                                                   | 0/1 [00:00<?, ?it/s]\u001b[Atorch.Size([8, 256, 42])\n",
      "\n",
      "Epoch 0: 100%|███████████████████████| 2/2 [00:00<00:00,  8.85it/s, loss=2.4, v_num=, train_loss=2.400, val_loss=2.330]\u001b[A\n",
      "Epoch 0: 100%|███████████████████████| 2/2 [00:00<00:00,  8.76it/s, loss=2.4, v_num=, train_loss=2.400, val_loss=2.330]\u001b[A\n",
      "Testing DataLoader 0:   0%|                                                                      | 0/1 [00:00<?, ?it/s]torch.Size([8, 256, 42])\n",
      "Testing DataLoader 0: 100%|██████████████████████████████████████████████████████████████| 1/1 [00:00<00:00, 20.50it/s]\n"
     ]
    },
    {
     "data": {
      "text/html": [
       "<pre style=\"white-space:pre;overflow-x:auto;line-height:normal;font-family:Menlo,'DejaVu Sans Mono',consolas,'Courier New',monospace\">┏━━━━━━━━━━━━━━━━━━━━━━━━━━━┳━━━━━━━━━━━━━━━━━━━━━━━━━━━┓\n",
       "┃<span style=\"font-weight: bold\">        Test metric        </span>┃<span style=\"font-weight: bold\">       DataLoader 0        </span>┃\n",
       "┡━━━━━━━━━━━━━━━━━━━━━━━━━━━╇━━━━━━━━━━━━━━━━━━━━━━━━━━━┩\n",
       "│<span style=\"color: #008080; text-decoration-color: #008080\">         test_acc          </span>│<span style=\"color: #800080; text-decoration-color: #800080\">            1.0            </span>│\n",
       "└───────────────────────────┴───────────────────────────┘\n",
       "</pre>\n"
      ],
      "text/plain": [
       "┏━━━━━━━━━━━━━━━━━━━━━━━━━━━┳━━━━━━━━━━━━━━━━━━━━━━━━━━━┓\n",
       "┃\u001b[1m \u001b[0m\u001b[1m       Test metric       \u001b[0m\u001b[1m \u001b[0m┃\u001b[1m \u001b[0m\u001b[1m      DataLoader 0       \u001b[0m\u001b[1m \u001b[0m┃\n",
       "┡━━━━━━━━━━━━━━━━━━━━━━━━━━━╇━━━━━━━━━━━━━━━━━━━━━━━━━━━┩\n",
       "│\u001b[36m \u001b[0m\u001b[36m        test_acc         \u001b[0m\u001b[36m \u001b[0m│\u001b[35m \u001b[0m\u001b[35m           1.0           \u001b[0m\u001b[35m \u001b[0m│\n",
       "└───────────────────────────┴───────────────────────────┘\n"
      ]
     },
     "metadata": {},
     "output_type": "display_data"
    },
    {
     "name": "stdout",
     "output_type": "stream",
     "text": [
      "\n",
      "*************User10.npy*************\n"
     ]
    },
    {
     "name": "stderr",
     "output_type": "stream",
     "text": [
      "GPU available: False, used: False\n",
      "TPU available: False, using: 0 TPU cores\n",
      "IPU available: False, using: 0 IPUs\n",
      "HPU available: False, using: 0 HPUs\n",
      "Running in fast_dev_run mode: will run a full train, val, test and prediction loop using 1 batch(es).\n",
      "`Trainer(limit_train_batches=1)` was configured so 1 batch per epoch will be used.\n",
      "`Trainer(limit_val_batches=1)` was configured so 1 batch will be used.\n",
      "`Trainer(limit_test_batches=1)` was configured so 1 batch will be used.\n",
      "`Trainer(limit_predict_batches=1)` was configured so 1 batch will be used.\n",
      "`Trainer(val_check_interval=1.0)` was configured so validation will run at the end of the training epoch..\n"
     ]
    },
    {
     "name": "stdout",
     "output_type": "stream",
     "text": [
      "torch.Size([1024, 200, 42])\n"
     ]
    },
    {
     "name": "stderr",
     "output_type": "stream",
     "text": [
      "\n",
      "  | Name       | Type          | Params | In sizes        | Out sizes                                        \n",
      "-------------------------------------------------------------------------------------------------------------------\n",
      "0 | rnn1       | LSTM          | 27.6 K | [1024, 200, 42] | [[1024, 200, 64], [[1, 1024, 64], [1, 1024, 64]]]\n",
      "1 | attention1 | SelfAttention | 12.5 K | [1024, 200, 64] | [1024, 200, 64]                                  \n",
      "2 | rnn2       | LSTM          | 33.3 K | [1024, 200, 64] | [[1024, 200, 64], [[1, 1024, 64], [1, 1024, 64]]]\n",
      "3 | attention2 | SelfAttention | 12.5 K | [1024, 200, 64] | [1024, 200, 64]                                  \n",
      "4 | seq_1      | Sequential    | 8.6 K  | [1024, 64]      | [1024, 64]                                       \n",
      "5 | seq_2      | Sequential    | 8.6 K  | [1024, 64]      | [1024, 64]                                       \n",
      "6 | classifier | Linear        | 1.9 K  | [1024, 192]     | [1024, 10]                                       \n",
      "-------------------------------------------------------------------------------------------------------------------\n",
      "104 K     Trainable params\n",
      "0         Non-trainable params\n",
      "104 K     Total params\n",
      "0.420     Total estimated model params size (MB)\n"
     ]
    },
    {
     "name": "stdout",
     "output_type": "stream",
     "text": [
      "Epoch 0:   0%|                                                                                   | 0/2 [00:00<?, ?it/s]torch.Size([8, 256, 42])\n",
      "Epoch 0:  50%|███████████████████                   | 1/2 [00:00<00:00,  5.24it/s, loss=2.28, v_num=, train_loss=2.280]\n",
      "Validation: 0it [00:00, ?it/s]\u001b[A\n",
      "Validation DataLoader 0:   0%|                                                                   | 0/1 [00:00<?, ?it/s]\u001b[Atorch.Size([8, 256, 42])\n",
      "\n",
      "Epoch 0: 100%|██████████████████████| 2/2 [00:00<00:00,  6.86it/s, loss=2.28, v_num=, train_loss=2.280, val_loss=2.330]\u001b[A\n",
      "Epoch 0: 100%|██████████████████████| 2/2 [00:00<00:00,  6.14it/s, loss=2.28, v_num=, train_loss=2.280, val_loss=2.330]\u001b[A\n",
      "Testing DataLoader 0:   0%|                                                                      | 0/1 [00:00<?, ?it/s]torch.Size([8, 256, 42])\n",
      "Testing DataLoader 0: 100%|██████████████████████████████████████████████████████████████| 1/1 [00:00<00:00, 13.44it/s]\n"
     ]
    },
    {
     "data": {
      "text/html": [
       "<pre style=\"white-space:pre;overflow-x:auto;line-height:normal;font-family:Menlo,'DejaVu Sans Mono',consolas,'Courier New',monospace\">┏━━━━━━━━━━━━━━━━━━━━━━━━━━━┳━━━━━━━━━━━━━━━━━━━━━━━━━━━┓\n",
       "┃<span style=\"font-weight: bold\">        Test metric        </span>┃<span style=\"font-weight: bold\">       DataLoader 0        </span>┃\n",
       "┡━━━━━━━━━━━━━━━━━━━━━━━━━━━╇━━━━━━━━━━━━━━━━━━━━━━━━━━━┩\n",
       "│<span style=\"color: #008080; text-decoration-color: #008080\">         test_acc          </span>│<span style=\"color: #800080; text-decoration-color: #800080\">            0.0            </span>│\n",
       "└───────────────────────────┴───────────────────────────┘\n",
       "</pre>\n"
      ],
      "text/plain": [
       "┏━━━━━━━━━━━━━━━━━━━━━━━━━━━┳━━━━━━━━━━━━━━━━━━━━━━━━━━━┓\n",
       "┃\u001b[1m \u001b[0m\u001b[1m       Test metric       \u001b[0m\u001b[1m \u001b[0m┃\u001b[1m \u001b[0m\u001b[1m      DataLoader 0       \u001b[0m\u001b[1m \u001b[0m┃\n",
       "┡━━━━━━━━━━━━━━━━━━━━━━━━━━━╇━━━━━━━━━━━━━━━━━━━━━━━━━━━┩\n",
       "│\u001b[36m \u001b[0m\u001b[36m        test_acc         \u001b[0m\u001b[36m \u001b[0m│\u001b[35m \u001b[0m\u001b[35m           0.0           \u001b[0m\u001b[35m \u001b[0m│\n",
       "└───────────────────────────┴───────────────────────────┘\n"
      ]
     },
     "metadata": {},
     "output_type": "display_data"
    },
    {
     "name": "stdout",
     "output_type": "stream",
     "text": [
      "\n",
      "*************User11.npy*************\n"
     ]
    },
    {
     "name": "stderr",
     "output_type": "stream",
     "text": [
      "GPU available: False, used: False\n",
      "TPU available: False, using: 0 TPU cores\n",
      "IPU available: False, using: 0 IPUs\n",
      "HPU available: False, using: 0 HPUs\n",
      "Running in fast_dev_run mode: will run a full train, val, test and prediction loop using 1 batch(es).\n",
      "`Trainer(limit_train_batches=1)` was configured so 1 batch per epoch will be used.\n",
      "`Trainer(limit_val_batches=1)` was configured so 1 batch will be used.\n",
      "`Trainer(limit_test_batches=1)` was configured so 1 batch will be used.\n",
      "`Trainer(limit_predict_batches=1)` was configured so 1 batch will be used.\n",
      "`Trainer(val_check_interval=1.0)` was configured so validation will run at the end of the training epoch..\n"
     ]
    },
    {
     "name": "stdout",
     "output_type": "stream",
     "text": [
      "torch.Size([1024, 200, 42])\n"
     ]
    },
    {
     "name": "stderr",
     "output_type": "stream",
     "text": [
      "\n",
      "  | Name       | Type          | Params | In sizes        | Out sizes                                        \n",
      "-------------------------------------------------------------------------------------------------------------------\n",
      "0 | rnn1       | LSTM          | 27.6 K | [1024, 200, 42] | [[1024, 200, 64], [[1, 1024, 64], [1, 1024, 64]]]\n",
      "1 | attention1 | SelfAttention | 12.5 K | [1024, 200, 64] | [1024, 200, 64]                                  \n",
      "2 | rnn2       | LSTM          | 33.3 K | [1024, 200, 64] | [[1024, 200, 64], [[1, 1024, 64], [1, 1024, 64]]]\n",
      "3 | attention2 | SelfAttention | 12.5 K | [1024, 200, 64] | [1024, 200, 64]                                  \n",
      "4 | seq_1      | Sequential    | 8.6 K  | [1024, 64]      | [1024, 64]                                       \n",
      "5 | seq_2      | Sequential    | 8.6 K  | [1024, 64]      | [1024, 64]                                       \n",
      "6 | classifier | Linear        | 1.9 K  | [1024, 192]     | [1024, 10]                                       \n",
      "-------------------------------------------------------------------------------------------------------------------\n",
      "104 K     Trainable params\n",
      "0         Non-trainable params\n",
      "104 K     Total params\n",
      "0.420     Total estimated model params size (MB)\n"
     ]
    },
    {
     "name": "stdout",
     "output_type": "stream",
     "text": [
      "Epoch 0:   0%|                                                                                   | 0/2 [00:00<?, ?it/s]torch.Size([8, 256, 42])\n",
      "Epoch 0:  50%|███████████████████                   | 1/2 [00:00<00:00,  3.58it/s, loss=2.61, v_num=, train_loss=2.610]\n",
      "Validation: 0it [00:00, ?it/s]\u001b[A\n",
      "Validation DataLoader 0:   0%|                                                                   | 0/1 [00:00<?, ?it/s]\u001b[Atorch.Size([8, 256, 42])\n",
      "\n",
      "Epoch 0: 100%|██████████████████████| 2/2 [00:00<00:00,  5.70it/s, loss=2.61, v_num=, train_loss=2.610, val_loss=2.280]\u001b[A\n",
      "Epoch 0: 100%|██████████████████████| 2/2 [00:00<00:00,  5.60it/s, loss=2.61, v_num=, train_loss=2.610, val_loss=2.280]\u001b[A\n",
      "Testing DataLoader 0:   0%|                                                                      | 0/1 [00:00<?, ?it/s]torch.Size([8, 256, 42])\n",
      "Testing DataLoader 0: 100%|██████████████████████████████████████████████████████████████| 1/1 [00:00<00:00, 15.01it/s]\n"
     ]
    },
    {
     "data": {
      "text/html": [
       "<pre style=\"white-space:pre;overflow-x:auto;line-height:normal;font-family:Menlo,'DejaVu Sans Mono',consolas,'Courier New',monospace\">┏━━━━━━━━━━━━━━━━━━━━━━━━━━━┳━━━━━━━━━━━━━━━━━━━━━━━━━━━┓\n",
       "┃<span style=\"font-weight: bold\">        Test metric        </span>┃<span style=\"font-weight: bold\">       DataLoader 0        </span>┃\n",
       "┡━━━━━━━━━━━━━━━━━━━━━━━━━━━╇━━━━━━━━━━━━━━━━━━━━━━━━━━━┩\n",
       "│<span style=\"color: #008080; text-decoration-color: #008080\">         test_acc          </span>│<span style=\"color: #800080; text-decoration-color: #800080\">            0.0            </span>│\n",
       "└───────────────────────────┴───────────────────────────┘\n",
       "</pre>\n"
      ],
      "text/plain": [
       "┏━━━━━━━━━━━━━━━━━━━━━━━━━━━┳━━━━━━━━━━━━━━━━━━━━━━━━━━━┓\n",
       "┃\u001b[1m \u001b[0m\u001b[1m       Test metric       \u001b[0m\u001b[1m \u001b[0m┃\u001b[1m \u001b[0m\u001b[1m      DataLoader 0       \u001b[0m\u001b[1m \u001b[0m┃\n",
       "┡━━━━━━━━━━━━━━━━━━━━━━━━━━━╇━━━━━━━━━━━━━━━━━━━━━━━━━━━┩\n",
       "│\u001b[36m \u001b[0m\u001b[36m        test_acc         \u001b[0m\u001b[36m \u001b[0m│\u001b[35m \u001b[0m\u001b[35m           0.0           \u001b[0m\u001b[35m \u001b[0m│\n",
       "└───────────────────────────┴───────────────────────────┘\n"
      ]
     },
     "metadata": {},
     "output_type": "display_data"
    },
    {
     "name": "stdout",
     "output_type": "stream",
     "text": [
      "\n",
      "*************User12.npy*************\n"
     ]
    },
    {
     "name": "stderr",
     "output_type": "stream",
     "text": [
      "GPU available: False, used: False\n",
      "TPU available: False, using: 0 TPU cores\n",
      "IPU available: False, using: 0 IPUs\n",
      "HPU available: False, using: 0 HPUs\n",
      "Running in fast_dev_run mode: will run a full train, val, test and prediction loop using 1 batch(es).\n",
      "`Trainer(limit_train_batches=1)` was configured so 1 batch per epoch will be used.\n",
      "`Trainer(limit_val_batches=1)` was configured so 1 batch will be used.\n",
      "`Trainer(limit_test_batches=1)` was configured so 1 batch will be used.\n",
      "`Trainer(limit_predict_batches=1)` was configured so 1 batch will be used.\n",
      "`Trainer(val_check_interval=1.0)` was configured so validation will run at the end of the training epoch..\n"
     ]
    },
    {
     "name": "stdout",
     "output_type": "stream",
     "text": [
      "torch.Size([1024, 200, 42])\n"
     ]
    },
    {
     "name": "stderr",
     "output_type": "stream",
     "text": [
      "\n",
      "  | Name       | Type          | Params | In sizes        | Out sizes                                        \n",
      "-------------------------------------------------------------------------------------------------------------------\n",
      "0 | rnn1       | LSTM          | 27.6 K | [1024, 200, 42] | [[1024, 200, 64], [[1, 1024, 64], [1, 1024, 64]]]\n",
      "1 | attention1 | SelfAttention | 12.5 K | [1024, 200, 64] | [1024, 200, 64]                                  \n",
      "2 | rnn2       | LSTM          | 33.3 K | [1024, 200, 64] | [[1024, 200, 64], [[1, 1024, 64], [1, 1024, 64]]]\n",
      "3 | attention2 | SelfAttention | 12.5 K | [1024, 200, 64] | [1024, 200, 64]                                  \n",
      "4 | seq_1      | Sequential    | 8.6 K  | [1024, 64]      | [1024, 64]                                       \n",
      "5 | seq_2      | Sequential    | 8.6 K  | [1024, 64]      | [1024, 64]                                       \n",
      "6 | classifier | Linear        | 1.9 K  | [1024, 192]     | [1024, 10]                                       \n",
      "-------------------------------------------------------------------------------------------------------------------\n",
      "104 K     Trainable params\n",
      "0         Non-trainable params\n",
      "104 K     Total params\n",
      "0.420     Total estimated model params size (MB)\n"
     ]
    },
    {
     "name": "stdout",
     "output_type": "stream",
     "text": [
      "Epoch 0:   0%|                                                                                   | 0/2 [00:00<?, ?it/s]torch.Size([8, 256, 42])\n",
      "Epoch 0:  50%|███████████████████                   | 1/2 [00:00<00:00,  4.97it/s, loss=2.22, v_num=, train_loss=2.220]\n",
      "Validation: 0it [00:00, ?it/s]\u001b[A\n",
      "Validation DataLoader 0:   0%|                                                                   | 0/1 [00:00<?, ?it/s]\u001b[Atorch.Size([8, 256, 42])\n",
      "\n",
      "Epoch 0: 100%|██████████████████████| 2/2 [00:00<00:00,  7.82it/s, loss=2.22, v_num=, train_loss=2.220, val_loss=2.310]\u001b[A\n",
      "Epoch 0: 100%|██████████████████████| 2/2 [00:00<00:00,  7.75it/s, loss=2.22, v_num=, train_loss=2.220, val_loss=2.310]\u001b[A\n",
      "Testing DataLoader 0:   0%|                                                                      | 0/1 [00:00<?, ?it/s]torch.Size([8, 256, 42])\n",
      "Testing DataLoader 0: 100%|██████████████████████████████████████████████████████████████| 1/1 [00:00<00:00, 24.01it/s]\n"
     ]
    },
    {
     "data": {
      "text/html": [
       "<pre style=\"white-space:pre;overflow-x:auto;line-height:normal;font-family:Menlo,'DejaVu Sans Mono',consolas,'Courier New',monospace\">┏━━━━━━━━━━━━━━━━━━━━━━━━━━━┳━━━━━━━━━━━━━━━━━━━━━━━━━━━┓\n",
       "┃<span style=\"font-weight: bold\">        Test metric        </span>┃<span style=\"font-weight: bold\">       DataLoader 0        </span>┃\n",
       "┡━━━━━━━━━━━━━━━━━━━━━━━━━━━╇━━━━━━━━━━━━━━━━━━━━━━━━━━━┩\n",
       "│<span style=\"color: #008080; text-decoration-color: #008080\">         test_acc          </span>│<span style=\"color: #800080; text-decoration-color: #800080\">            0.0            </span>│\n",
       "└───────────────────────────┴───────────────────────────┘\n",
       "</pre>\n"
      ],
      "text/plain": [
       "┏━━━━━━━━━━━━━━━━━━━━━━━━━━━┳━━━━━━━━━━━━━━━━━━━━━━━━━━━┓\n",
       "┃\u001b[1m \u001b[0m\u001b[1m       Test metric       \u001b[0m\u001b[1m \u001b[0m┃\u001b[1m \u001b[0m\u001b[1m      DataLoader 0       \u001b[0m\u001b[1m \u001b[0m┃\n",
       "┡━━━━━━━━━━━━━━━━━━━━━━━━━━━╇━━━━━━━━━━━━━━━━━━━━━━━━━━━┩\n",
       "│\u001b[36m \u001b[0m\u001b[36m        test_acc         \u001b[0m\u001b[36m \u001b[0m│\u001b[35m \u001b[0m\u001b[35m           0.0           \u001b[0m\u001b[35m \u001b[0m│\n",
       "└───────────────────────────┴───────────────────────────┘\n"
      ]
     },
     "metadata": {},
     "output_type": "display_data"
    },
    {
     "name": "stdout",
     "output_type": "stream",
     "text": [
      "\n",
      "*************User13.npy*************\n"
     ]
    },
    {
     "name": "stderr",
     "output_type": "stream",
     "text": [
      "GPU available: False, used: False\n",
      "TPU available: False, using: 0 TPU cores\n",
      "IPU available: False, using: 0 IPUs\n",
      "HPU available: False, using: 0 HPUs\n",
      "Running in fast_dev_run mode: will run a full train, val, test and prediction loop using 1 batch(es).\n",
      "`Trainer(limit_train_batches=1)` was configured so 1 batch per epoch will be used.\n",
      "`Trainer(limit_val_batches=1)` was configured so 1 batch will be used.\n",
      "`Trainer(limit_test_batches=1)` was configured so 1 batch will be used.\n",
      "`Trainer(limit_predict_batches=1)` was configured so 1 batch will be used.\n",
      "`Trainer(val_check_interval=1.0)` was configured so validation will run at the end of the training epoch..\n"
     ]
    },
    {
     "name": "stdout",
     "output_type": "stream",
     "text": [
      "torch.Size([1024, 200, 42])\n"
     ]
    },
    {
     "name": "stderr",
     "output_type": "stream",
     "text": [
      "\n",
      "  | Name       | Type          | Params | In sizes        | Out sizes                                        \n",
      "-------------------------------------------------------------------------------------------------------------------\n",
      "0 | rnn1       | LSTM          | 27.6 K | [1024, 200, 42] | [[1024, 200, 64], [[1, 1024, 64], [1, 1024, 64]]]\n",
      "1 | attention1 | SelfAttention | 12.5 K | [1024, 200, 64] | [1024, 200, 64]                                  \n",
      "2 | rnn2       | LSTM          | 33.3 K | [1024, 200, 64] | [[1024, 200, 64], [[1, 1024, 64], [1, 1024, 64]]]\n",
      "3 | attention2 | SelfAttention | 12.5 K | [1024, 200, 64] | [1024, 200, 64]                                  \n",
      "4 | seq_1      | Sequential    | 8.6 K  | [1024, 64]      | [1024, 64]                                       \n",
      "5 | seq_2      | Sequential    | 8.6 K  | [1024, 64]      | [1024, 64]                                       \n",
      "6 | classifier | Linear        | 1.9 K  | [1024, 192]     | [1024, 10]                                       \n",
      "-------------------------------------------------------------------------------------------------------------------\n",
      "104 K     Trainable params\n",
      "0         Non-trainable params\n",
      "104 K     Total params\n",
      "0.420     Total estimated model params size (MB)\n"
     ]
    },
    {
     "name": "stdout",
     "output_type": "stream",
     "text": [
      "Epoch 0:   0%|                                                                                   | 0/2 [00:00<?, ?it/s]torch.Size([8, 256, 42])\n",
      "Epoch 0:  50%|███████████████████                   | 1/2 [00:00<00:00,  5.88it/s, loss=2.54, v_num=, train_loss=2.540]\n",
      "Validation: 0it [00:00, ?it/s]\u001b[A\n",
      "Validation DataLoader 0:   0%|                                                                   | 0/1 [00:00<?, ?it/s]\u001b[Atorch.Size([8, 256, 42])\n",
      "\n",
      "Epoch 0: 100%|██████████████████████| 2/2 [00:00<00:00,  9.01it/s, loss=2.54, v_num=, train_loss=2.540, val_loss=2.310]\u001b[A\n",
      "Epoch 0: 100%|██████████████████████| 2/2 [00:00<00:00,  8.83it/s, loss=2.54, v_num=, train_loss=2.540, val_loss=2.310]\u001b[A\n",
      "Testing DataLoader 0:   0%|                                                                      | 0/1 [00:00<?, ?it/s]torch.Size([8, 256, 42])\n",
      "Testing DataLoader 0: 100%|██████████████████████████████████████████████████████████████| 1/1 [00:00<00:00, 20.96it/s]\n"
     ]
    },
    {
     "data": {
      "text/html": [
       "<pre style=\"white-space:pre;overflow-x:auto;line-height:normal;font-family:Menlo,'DejaVu Sans Mono',consolas,'Courier New',monospace\">┏━━━━━━━━━━━━━━━━━━━━━━━━━━━┳━━━━━━━━━━━━━━━━━━━━━━━━━━━┓\n",
       "┃<span style=\"font-weight: bold\">        Test metric        </span>┃<span style=\"font-weight: bold\">       DataLoader 0        </span>┃\n",
       "┡━━━━━━━━━━━━━━━━━━━━━━━━━━━╇━━━━━━━━━━━━━━━━━━━━━━━━━━━┩\n",
       "│<span style=\"color: #008080; text-decoration-color: #008080\">         test_acc          </span>│<span style=\"color: #800080; text-decoration-color: #800080\">            0.0            </span>│\n",
       "└───────────────────────────┴───────────────────────────┘\n",
       "</pre>\n"
      ],
      "text/plain": [
       "┏━━━━━━━━━━━━━━━━━━━━━━━━━━━┳━━━━━━━━━━━━━━━━━━━━━━━━━━━┓\n",
       "┃\u001b[1m \u001b[0m\u001b[1m       Test metric       \u001b[0m\u001b[1m \u001b[0m┃\u001b[1m \u001b[0m\u001b[1m      DataLoader 0       \u001b[0m\u001b[1m \u001b[0m┃\n",
       "┡━━━━━━━━━━━━━━━━━━━━━━━━━━━╇━━━━━━━━━━━━━━━━━━━━━━━━━━━┩\n",
       "│\u001b[36m \u001b[0m\u001b[36m        test_acc         \u001b[0m\u001b[36m \u001b[0m│\u001b[35m \u001b[0m\u001b[35m           0.0           \u001b[0m\u001b[35m \u001b[0m│\n",
       "└───────────────────────────┴───────────────────────────┘\n"
      ]
     },
     "metadata": {},
     "output_type": "display_data"
    },
    {
     "name": "stdout",
     "output_type": "stream",
     "text": [
      "\n",
      "*************User14.npy*************\n"
     ]
    },
    {
     "name": "stderr",
     "output_type": "stream",
     "text": [
      "GPU available: False, used: False\n",
      "TPU available: False, using: 0 TPU cores\n",
      "IPU available: False, using: 0 IPUs\n",
      "HPU available: False, using: 0 HPUs\n",
      "Running in fast_dev_run mode: will run a full train, val, test and prediction loop using 1 batch(es).\n",
      "`Trainer(limit_train_batches=1)` was configured so 1 batch per epoch will be used.\n",
      "`Trainer(limit_val_batches=1)` was configured so 1 batch will be used.\n",
      "`Trainer(limit_test_batches=1)` was configured so 1 batch will be used.\n",
      "`Trainer(limit_predict_batches=1)` was configured so 1 batch will be used.\n",
      "`Trainer(val_check_interval=1.0)` was configured so validation will run at the end of the training epoch..\n"
     ]
    },
    {
     "name": "stdout",
     "output_type": "stream",
     "text": [
      "torch.Size([1024, 200, 42])\n"
     ]
    },
    {
     "name": "stderr",
     "output_type": "stream",
     "text": [
      "\n",
      "  | Name       | Type          | Params | In sizes        | Out sizes                                        \n",
      "-------------------------------------------------------------------------------------------------------------------\n",
      "0 | rnn1       | LSTM          | 27.6 K | [1024, 200, 42] | [[1024, 200, 64], [[1, 1024, 64], [1, 1024, 64]]]\n",
      "1 | attention1 | SelfAttention | 12.5 K | [1024, 200, 64] | [1024, 200, 64]                                  \n",
      "2 | rnn2       | LSTM          | 33.3 K | [1024, 200, 64] | [[1024, 200, 64], [[1, 1024, 64], [1, 1024, 64]]]\n",
      "3 | attention2 | SelfAttention | 12.5 K | [1024, 200, 64] | [1024, 200, 64]                                  \n",
      "4 | seq_1      | Sequential    | 8.6 K  | [1024, 64]      | [1024, 64]                                       \n",
      "5 | seq_2      | Sequential    | 8.6 K  | [1024, 64]      | [1024, 64]                                       \n",
      "6 | classifier | Linear        | 1.9 K  | [1024, 192]     | [1024, 10]                                       \n",
      "-------------------------------------------------------------------------------------------------------------------\n",
      "104 K     Trainable params\n",
      "0         Non-trainable params\n",
      "104 K     Total params\n",
      "0.420     Total estimated model params size (MB)\n"
     ]
    },
    {
     "name": "stdout",
     "output_type": "stream",
     "text": [
      "Epoch 0:   0%|                                                                                   | 0/2 [00:00<?, ?it/s]torch.Size([8, 256, 42])\n",
      "Epoch 0:  50%|███████████████████                   | 1/2 [00:00<00:00,  5.38it/s, loss=2.45, v_num=, train_loss=2.450]\n",
      "Validation: 0it [00:00, ?it/s]\u001b[A\n",
      "Validation DataLoader 0:   0%|                                                                   | 0/1 [00:00<?, ?it/s]\u001b[Atorch.Size([8, 256, 42])\n",
      "\n",
      "Epoch 0: 100%|██████████████████████| 2/2 [00:00<00:00,  8.44it/s, loss=2.45, v_num=, train_loss=2.450, val_loss=2.320]\u001b[A\n",
      "Epoch 0: 100%|██████████████████████| 2/2 [00:00<00:00,  8.36it/s, loss=2.45, v_num=, train_loss=2.450, val_loss=2.320]\u001b[A\n",
      "Testing DataLoader 0:   0%|                                                                      | 0/1 [00:00<?, ?it/s]torch.Size([8, 256, 42])\n",
      "Testing DataLoader 0: 100%|██████████████████████████████████████████████████████████████| 1/1 [00:00<00:00, 19.71it/s]\n"
     ]
    },
    {
     "data": {
      "text/html": [
       "<pre style=\"white-space:pre;overflow-x:auto;line-height:normal;font-family:Menlo,'DejaVu Sans Mono',consolas,'Courier New',monospace\">┏━━━━━━━━━━━━━━━━━━━━━━━━━━━┳━━━━━━━━━━━━━━━━━━━━━━━━━━━┓\n",
       "┃<span style=\"font-weight: bold\">        Test metric        </span>┃<span style=\"font-weight: bold\">       DataLoader 0        </span>┃\n",
       "┡━━━━━━━━━━━━━━━━━━━━━━━━━━━╇━━━━━━━━━━━━━━━━━━━━━━━━━━━┩\n",
       "│<span style=\"color: #008080; text-decoration-color: #008080\">         test_acc          </span>│<span style=\"color: #800080; text-decoration-color: #800080\">            0.0            </span>│\n",
       "└───────────────────────────┴───────────────────────────┘\n",
       "</pre>\n"
      ],
      "text/plain": [
       "┏━━━━━━━━━━━━━━━━━━━━━━━━━━━┳━━━━━━━━━━━━━━━━━━━━━━━━━━━┓\n",
       "┃\u001b[1m \u001b[0m\u001b[1m       Test metric       \u001b[0m\u001b[1m \u001b[0m┃\u001b[1m \u001b[0m\u001b[1m      DataLoader 0       \u001b[0m\u001b[1m \u001b[0m┃\n",
       "┡━━━━━━━━━━━━━━━━━━━━━━━━━━━╇━━━━━━━━━━━━━━━━━━━━━━━━━━━┩\n",
       "│\u001b[36m \u001b[0m\u001b[36m        test_acc         \u001b[0m\u001b[36m \u001b[0m│\u001b[35m \u001b[0m\u001b[35m           0.0           \u001b[0m\u001b[35m \u001b[0m│\n",
       "└───────────────────────────┴───────────────────────────┘\n"
      ]
     },
     "metadata": {},
     "output_type": "display_data"
    },
    {
     "name": "stdout",
     "output_type": "stream",
     "text": [
      "\n",
      "*************User15.npy*************\n"
     ]
    },
    {
     "name": "stderr",
     "output_type": "stream",
     "text": [
      "GPU available: False, used: False\n",
      "TPU available: False, using: 0 TPU cores\n",
      "IPU available: False, using: 0 IPUs\n",
      "HPU available: False, using: 0 HPUs\n",
      "Running in fast_dev_run mode: will run a full train, val, test and prediction loop using 1 batch(es).\n",
      "`Trainer(limit_train_batches=1)` was configured so 1 batch per epoch will be used.\n",
      "`Trainer(limit_val_batches=1)` was configured so 1 batch will be used.\n",
      "`Trainer(limit_test_batches=1)` was configured so 1 batch will be used.\n",
      "`Trainer(limit_predict_batches=1)` was configured so 1 batch will be used.\n",
      "`Trainer(val_check_interval=1.0)` was configured so validation will run at the end of the training epoch..\n"
     ]
    },
    {
     "name": "stdout",
     "output_type": "stream",
     "text": [
      "torch.Size([1024, 200, 42])\n"
     ]
    },
    {
     "name": "stderr",
     "output_type": "stream",
     "text": [
      "\n",
      "  | Name       | Type          | Params | In sizes        | Out sizes                                        \n",
      "-------------------------------------------------------------------------------------------------------------------\n",
      "0 | rnn1       | LSTM          | 27.6 K | [1024, 200, 42] | [[1024, 200, 64], [[1, 1024, 64], [1, 1024, 64]]]\n",
      "1 | attention1 | SelfAttention | 12.5 K | [1024, 200, 64] | [1024, 200, 64]                                  \n",
      "2 | rnn2       | LSTM          | 33.3 K | [1024, 200, 64] | [[1024, 200, 64], [[1, 1024, 64], [1, 1024, 64]]]\n",
      "3 | attention2 | SelfAttention | 12.5 K | [1024, 200, 64] | [1024, 200, 64]                                  \n",
      "4 | seq_1      | Sequential    | 8.6 K  | [1024, 64]      | [1024, 64]                                       \n",
      "5 | seq_2      | Sequential    | 8.6 K  | [1024, 64]      | [1024, 64]                                       \n",
      "6 | classifier | Linear        | 1.9 K  | [1024, 192]     | [1024, 10]                                       \n",
      "-------------------------------------------------------------------------------------------------------------------\n",
      "104 K     Trainable params\n",
      "0         Non-trainable params\n",
      "104 K     Total params\n",
      "0.420     Total estimated model params size (MB)\n"
     ]
    },
    {
     "name": "stdout",
     "output_type": "stream",
     "text": [
      "Epoch 0:   0%|                                                                                   | 0/2 [00:00<?, ?it/s]torch.Size([8, 256, 42])\n",
      "Epoch 0:  50%|███████████████████▌                   | 1/2 [00:00<00:00,  4.48it/s, loss=2.3, v_num=, train_loss=2.300]\n",
      "Validation: 0it [00:00, ?it/s]\u001b[A\n",
      "Validation DataLoader 0:   0%|                                                                   | 0/1 [00:00<?, ?it/s]\u001b[Atorch.Size([8, 256, 42])\n",
      "\n",
      "Epoch 0: 100%|███████████████████████| 2/2 [00:00<00:00,  7.36it/s, loss=2.3, v_num=, train_loss=2.300, val_loss=2.300]\u001b[A\n",
      "Epoch 0: 100%|███████████████████████| 2/2 [00:00<00:00,  7.30it/s, loss=2.3, v_num=, train_loss=2.300, val_loss=2.300]\u001b[A\n",
      "Testing DataLoader 0:   0%|                                                                      | 0/1 [00:00<?, ?it/s]torch.Size([8, 256, 42])\n",
      "Testing DataLoader 0: 100%|██████████████████████████████████████████████████████████████| 1/1 [00:00<00:00, 21.68it/s]\n"
     ]
    },
    {
     "data": {
      "text/html": [
       "<pre style=\"white-space:pre;overflow-x:auto;line-height:normal;font-family:Menlo,'DejaVu Sans Mono',consolas,'Courier New',monospace\">┏━━━━━━━━━━━━━━━━━━━━━━━━━━━┳━━━━━━━━━━━━━━━━━━━━━━━━━━━┓\n",
       "┃<span style=\"font-weight: bold\">        Test metric        </span>┃<span style=\"font-weight: bold\">       DataLoader 0        </span>┃\n",
       "┡━━━━━━━━━━━━━━━━━━━━━━━━━━━╇━━━━━━━━━━━━━━━━━━━━━━━━━━━┩\n",
       "│<span style=\"color: #008080; text-decoration-color: #008080\">         test_acc          </span>│<span style=\"color: #800080; text-decoration-color: #800080\">            0.0            </span>│\n",
       "└───────────────────────────┴───────────────────────────┘\n",
       "</pre>\n"
      ],
      "text/plain": [
       "┏━━━━━━━━━━━━━━━━━━━━━━━━━━━┳━━━━━━━━━━━━━━━━━━━━━━━━━━━┓\n",
       "┃\u001b[1m \u001b[0m\u001b[1m       Test metric       \u001b[0m\u001b[1m \u001b[0m┃\u001b[1m \u001b[0m\u001b[1m      DataLoader 0       \u001b[0m\u001b[1m \u001b[0m┃\n",
       "┡━━━━━━━━━━━━━━━━━━━━━━━━━━━╇━━━━━━━━━━━━━━━━━━━━━━━━━━━┩\n",
       "│\u001b[36m \u001b[0m\u001b[36m        test_acc         \u001b[0m\u001b[36m \u001b[0m│\u001b[35m \u001b[0m\u001b[35m           0.0           \u001b[0m\u001b[35m \u001b[0m│\n",
       "└───────────────────────────┴───────────────────────────┘\n"
      ]
     },
     "metadata": {},
     "output_type": "display_data"
    }
   ],
   "source": [
    "from tqdm.auto import tqdm\n",
    "from pytorch_lightning.callbacks.early_stopping import EarlyStopping\n",
    "from pytorch_lightning.loggers import TensorBoardLogger\n",
    "\n",
    "batch_size = 1024\n",
    "patience = 20\n",
    "\n",
    "all_test = []\n",
    "all_pred = []\n",
    "\n",
    "# kfold_train_test_index_list = [kfold_train_test_index_list[0]]\n",
    "\n",
    "for i, save_filename_feature_label in enumerate(save_filename_list):\n",
    "    print(f\"\\n*************{save_filename_feature_label[0]}*************\")\n",
    "    dataset = CustomDataset(\n",
    "        os.path.join(TRAIN_FOLDER_PATH, save_filename_feature_label[0]),\n",
    "        os.path.join(TRAIN_FOLDER_PATH, save_filename_feature_label[1]),\n",
    "    )\n",
    "    \n",
    "    train_size = int(0.8 * len(dataset))\n",
    "    val_size = len(dataset) - train_size\n",
    "\n",
    "    train_dataset, val_dataset = torch.utils.data.random_split(dataset, [train_size, val_size])\n",
    "    test_dataset =  CustomDataset(\n",
    "        os.path.join(TEST_FOLDER_PATH, save_filename_feature_label[0]),\n",
    "        os.path.join(TEST_FOLDER_PATH, save_filename_feature_label[1]),\n",
    "    )\n",
    "    \n",
    "    train_dataloader = DataLoader(\n",
    "        train_dataset, \n",
    "        batch_size=batch_size,\n",
    "        num_workers=4, # number of subprocesses to use for data loading\n",
    "        shuffle=True)\n",
    "    \n",
    "    val_dataloader = DataLoader(\n",
    "        val_dataset, \n",
    "        batch_size=batch_size,\n",
    "        num_workers=2, # number of subprocesses to use for data loading\n",
    "        shuffle=False)\n",
    "    \n",
    "    test_dataloader = DataLoader(\n",
    "        test_dataset,\n",
    "        batch_size=batch_size,\n",
    "        num_workers=2, # number of subprocesses to use for data loading\n",
    "        shuffle=False)\n",
    "    \n",
    "    model = LSTMModel(hidden_size=64, input_size=feature_num, output_size=len(label_list))\n",
    "\n",
    "    tb_logger = TensorBoardLogger(\".\")\n",
    "    \n",
    "    trainer = pl.Trainer(\n",
    "        logger=tb_logger,\n",
    "        callbacks=[EarlyStopping(monitor=\"val_loss\", patience=patience, mode=\"min\")],\n",
    "    )\n",
    "    trainer.fit(model, train_dataloader, val_dataloader)\n",
    "    trainer.test(model, test_dataloader)\n",
    "    \n",
    "    all_test.extend(model.all_test)\n",
    "    all_pred.extend(model.all_pred)"
   ]
  },
  {
   "cell_type": "code",
   "execution_count": 113,
   "id": "586d2f4b",
   "metadata": {},
   "outputs": [
    {
     "data": {
      "text/plain": [
       "<AxesSubplot:>"
      ]
     },
     "execution_count": 113,
     "metadata": {},
     "output_type": "execute_result"
    },
    {
     "data": {
      "image/png": "[encoded data removed]",
      "text/plain": [
       "<Figure size 640x480 with 2 Axes>"
      ]
     },
     "metadata": {},
     "output_type": "display_data"
    }
   ],
   "source": [
    "all_test_with_label = [label_list[i] for i in all_test]\n",
    "all_pred_with_label = [label_list[i] for i in all_pred]\n",
    "\n",
    "cf = confusion_matrix(all_test_with_label, all_pred_with_label, labels=label_list)\n",
    "sns.heatmap(cf, annot=True, xticklabels=eng_label_list, yticklabels=eng_label_list, fmt='g')"
   ]
  },
  {
   "cell_type": "code",
   "execution_count": 114,
   "id": "f73ad1ad",
   "metadata": {},
   "outputs": [
    {
     "name": "stdout",
     "output_type": "stream",
     "text": [
      "precision_recall_fscore_support: \n",
      "\n",
      "Walking    Upstair    Bed_Standup    Change_Bed    Change_Bed_Standup    Sit_Down    Sit    Stand    Shoulder_Exercise    Hip_Exercise\n",
      "[1. 0. 0. 0. 0. 0. 0. 0. 0. 0.]\n",
      "[0.0625 0.     0.     0.     0.     0.     0.     0.     0.     0.    ]\n",
      "[0.11764706 0.         0.         0.         0.         0.\n",
      " 0.         0.         0.         0.        ]\n",
      "[128   0   0   0   0   0   0   0   0   0]\n"
     ]
    }
   ],
   "source": [
    "print(\"precision_recall_fscore_support: \")\n",
    "print()\n",
    "print(*eng_label_list, sep=\" \"*4)\n",
    "print(*precision_recall_fscore_support(all_test_with_label, all_pred_with_label, labels=label_list), sep=\"\\n\")"
   ]
  },
  {
   "cell_type": "code",
   "execution_count": null,
   "id": "7fb8b066",
   "metadata": {},
   "outputs": [],
   "source": []
  }
 ],
 "metadata": {
  "kernelspec": {
   "display_name": "torch-gpu",
   "language": "python",
   "name": "torch-gpu"
  },
  "language_info": {
   "codemirror_mode": {
    "name": "ipython",
    "version": 3
   },
   "file_extension": ".py",
   "mimetype": "text/x-python",
   "name": "python",
   "nbconvert_exporter": "python",
   "pygments_lexer": "ipython3",
   "version": "3.8.13"
  }
 },
 "nbformat": 4,
 "nbformat_minor": 5
}
