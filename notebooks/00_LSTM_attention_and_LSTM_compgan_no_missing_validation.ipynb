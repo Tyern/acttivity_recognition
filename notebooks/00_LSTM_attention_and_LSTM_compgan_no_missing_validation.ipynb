{
 "cells": [
  {
   "cell_type": "code",
   "execution_count": null,
   "id": "df75ce92-d5e0-490f-940c-69cca04af9b1",
   "metadata": {},
   "outputs": [],
   "source": [
    "import torch\n",
    "from torch import nn\n",
    "from torchinfo import summary\n",
    "\n",
    "from sklearn import tree\n",
    "from sklearn.metrics import confusion_matrix\n",
    "from sklearn.metrics import precision_recall_fscore_support\n",
    "from sklearn.model_selection import train_test_split\n",
    "from sklearn.preprocessing import StandardScaler\n",
    "\n",
    "import pytorch_lightning as pl\n",
    "import torch.nn.functional as F\n",
    "from torch.utils.data import Dataset\n",
    "from torch.utils.data import DataLoader\n",
    "\n",
    "from tqdm.auto import tqdm\n",
    "from pytorch_lightning.callbacks.early_stopping import EarlyStopping\n",
    "from pytorch_lightning.loggers import TensorBoardLogger\n",
    "\n",
    "import seaborn as sns\n",
    "import matplotlib.pyplot as plt\n",
    "\n",
    "import pandas as pd\n",
    "import numpy  as np\n",
    "\n",
    "import json\n",
    "import os\n",
    "import glob\n",
    "import pickle\n",
    "from itertools import combinations\n",
    "import gc\n",
    "import time\n",
    "\n",
    "import warnings\n",
    "warnings.filterwarnings(\"ignore\")"
   ]
  },
  {
   "cell_type": "code",
   "execution_count": null,
   "id": "8c378fcc-4593-49d6-8edc-7fbcf8b76c89",
   "metadata": {},
   "outputs": [],
   "source": [
    "DATA_ROOT = \"../data/compgan_dataset/\"\n",
    "\n",
    "train_data_file_name_ = \"train_data{}.npy\"\n",
    "train_label_file_name_ = \"train_label{}.npy\"\n",
    "test_data_file_name_ = \"test_data{}.npy\"\n",
    "test_label_file_name_ = \"test_label{}.npy\"\n",
    "\n",
    "TRAIN_FOLDER_PATH = os.path.join(DATA_ROOT, \"train\")\n",
    "TEST_FOLDER_PATH = os.path.join(DATA_ROOT, \"test\")\n",
    "RESULT_FOLDER_PATH = os.path.join(DATA_ROOT, \"results\")\n",
    "\n",
    "assert os.path.isdir(TRAIN_FOLDER_PATH) and os.path.isdir(TEST_FOLDER_PATH)\n",
    "os.makedirs(RESULT_FOLDER_PATH, exist_ok=True)\n",
    "\n",
    "data_files = sorted(glob.glob(os.path.join(TRAIN_FOLDER_PATH, train_data_file_name_.format(\"*\"))))\n",
    "print(data_files)\n",
    "print(len(data_files))"
   ]
  },
  {
   "cell_type": "code",
   "execution_count": 3,
   "id": "7213a894-b05b-4aed-919f-5095cc12a166",
   "metadata": {},
   "outputs": [],
   "source": [
    "USER_NUM = 16\n",
    "assert USER_NUM == len(data_files)"
   ]
  },
  {
   "cell_type": "code",
   "execution_count": 4,
   "id": "4c9aa360-ce49-4f39-a84e-31387e8229c4",
   "metadata": {},
   "outputs": [],
   "source": [
    "# important\n",
    "\n",
    "label_list = ['歩行(平地)',\n",
    " '歩行(階段)',\n",
    " 'ベッド上での起き上がり',\n",
    " 'ベッド椅子間の乗り移り(立つ)',\n",
    " 'ベッド椅子間の乗り移り(立たない)',\n",
    " '立ち座り',\n",
    " '座位保持・座位バランス',\n",
    " '立位保持・立位バランス',\n",
    " '関節可動域増大訓練(肩)',\n",
    " '関節可動域増大訓練(股関節)']\n",
    "\n",
    "label_dict = dict(enumerate(label_list))"
   ]
  },
  {
   "cell_type": "code",
   "execution_count": 5,
   "id": "cea27346-8b63-431b-88cb-b8b4cb097701",
   "metadata": {},
   "outputs": [],
   "source": [
    "# important\n",
    "eng_label_dict = dict(zip(\n",
    "    label_list,\n",
    "    ['Walking', 'Upstair', 'Bed_Standup', 'Change_Bed', 'Change_Bed_Standup', 'Sit_Down', 'Sit', 'Stand', 'Shoulder_Exercise', 'Hip_Exercise']\n",
    "))\n",
    "\n",
    "eng_label_list = [eng_label_dict[i] for i in label_list]"
   ]
  },
  {
   "cell_type": "code",
   "execution_count": 6,
   "id": "5740cda6-230f-45e5-a48d-7c14f2f5d33c",
   "metadata": {},
   "outputs": [],
   "source": [
    "test_user = 0"
   ]
  },
  {
   "cell_type": "code",
   "execution_count": 7,
   "id": "eb081853-0634-4f3e-ab7e-004edf6d3992",
   "metadata": {},
   "outputs": [],
   "source": [
    "def load_train_test(test_user):\n",
    "    train_data_file_name = train_data_file_name_.format(test_user)\n",
    "    train_label_file_name = train_label_file_name_.format(test_user)\n",
    "    test_data_file_name = test_data_file_name_.format(test_user)\n",
    "    test_label_file_name = test_label_file_name_.format(test_user)\n",
    "\n",
    "    train_data_file_path = os.path.join(TRAIN_FOLDER_PATH, train_data_file_name)\n",
    "    train_label_file_path = os.path.join(TRAIN_FOLDER_PATH, train_label_file_name)\n",
    "    test_data_file_path = os.path.join(TEST_FOLDER_PATH, test_data_file_name)\n",
    "    test_label_file_path = os.path.join(TEST_FOLDER_PATH, test_label_file_name)\n",
    "\n",
    "    train_data, train_label = np.load(train_data_file_path), np.load(train_label_file_path)\n",
    "    test_data, test_label = np.load(test_data_file_path), np.load(test_label_file_path)\n",
    "\n",
    "    l, s, d, w = train_data.shape\n",
    "    train_data_reshape = train_data.reshape(l, s * d, w).transpose(0,2,1).reshape(-1, s * d)\n",
    "\n",
    "    l_t, s_t, d_t, w_t = test_data.shape\n",
    "    test_data_reshape = test_data.reshape(l_t, s_t * d_t, w_t).transpose(0,2,1).reshape(-1, s_t * d_t)\n",
    "\n",
    "    sc = StandardScaler()\n",
    "    train_data_reshape_norm = sc.fit_transform(train_data_reshape)\n",
    "    test_data_reshape_norm = sc.transform(test_data_reshape)\n",
    "\n",
    "    train_data_reshape_back = train_data_reshape_norm.reshape(l, w, s * d)\n",
    "    test_data_reshape_back = test_data_reshape_norm.reshape(l_t, w_t, s_t * d_t)\n",
    "\n",
    "    return train_data_reshape_back, train_label, test_data_reshape_back, test_label"
   ]
  },
  {
   "cell_type": "code",
   "execution_count": 8,
   "id": "dd428f4b-3fc6-4ec4-b4fe-c96164304249",
   "metadata": {},
   "outputs": [],
   "source": [
    "# test\n",
    "train_data, train_label, test_data, test_label = load_train_test(test_user)"
   ]
  },
  {
   "cell_type": "code",
   "execution_count": 9,
   "id": "f0ffc0b1-b9a0-4493-a4ec-28a3be124eca",
   "metadata": {},
   "outputs": [
    {
     "name": "stdout",
     "output_type": "stream",
     "text": [
      "(6361, 256, 42)\n",
      "(6361,)\n",
      "(214, 256, 42)\n",
      "(214,)\n"
     ]
    }
   ],
   "source": [
    "print(train_data.shape)\n",
    "print(train_label.shape)\n",
    "print(test_data.shape)\n",
    "print(test_label.shape)"
   ]
  },
  {
   "cell_type": "code",
   "execution_count": 10,
   "id": "54e8cca7-8c92-4a08-bc03-38f06bf24a13",
   "metadata": {},
   "outputs": [],
   "source": [
    "feature_num = train_data.shape[-1]"
   ]
  },
  {
   "cell_type": "code",
   "execution_count": null,
   "id": "5e6a68c6-d3e1-43fe-a32a-4e7e8c055714",
   "metadata": {},
   "outputs": [],
   "source": []
  },
  {
   "cell_type": "code",
   "execution_count": 11,
   "id": "a51fa7e1-0d0a-4168-a60f-3f0c8beaedac",
   "metadata": {},
   "outputs": [],
   "source": [
    "class CustomDataset(Dataset):\n",
    "    def __init__(self, feature_data, label_data, missing_sensor_id_list=None):\n",
    "        self.features = feature_data\n",
    "        self.label = label_data\n",
    "        \n",
    "        if missing_sensor_id_list is not None:\n",
    "            for missing_sensor_id in missing_sensor_id_list:\n",
    "                self.features[:, :, missing_sensor_id*6:(missing_sensor_id+1)*6] = 0\n",
    "\n",
    "        assert len(self.features) == len(self.label), \"features len is not equal to label len\"\n",
    "        \n",
    "    def __len__(self):\n",
    "        return len(self.features)\n",
    "    \n",
    "    def __getitem__(self, idx):\n",
    "        x = self.features[idx]\n",
    "        label = self.label[idx]\n",
    "        return x, int(label)"
   ]
  },
  {
   "cell_type": "code",
   "execution_count": 12,
   "id": "4dafaa88-cf0f-4144-91d5-71b28e148c0b",
   "metadata": {},
   "outputs": [],
   "source": [
    "def get_train_test_dataset(test_user, missing_sensor_id_list, echo=0):\n",
    "    if echo: \n",
    "        print(\"***********Start get_train_test_dataset***********\")\n",
    "        print(\"missing_sensor_id_list:\", missing_sensor_id_list)\n",
    "    \n",
    "    train_dataset_concat_list = []\n",
    "    for user in range(USER_NUM):\n",
    "        if user == test_user:\n",
    "            if echo: print(\"test_user\", user)\n",
    "            train_data, train_label, test_data, test_label = load_train_test(user)\n",
    "            test_dataset = CustomDataset(test_data, test_label, missing_sensor_id_list=missing_sensor_id_list)\n",
    "    \n",
    "        else:\n",
    "            if echo: print(\"train_user\", user)\n",
    "            train_data, train_label, test_data, test_label = load_train_test(user)\n",
    "            train_dataset = CustomDataset(train_data, train_label, missing_sensor_id_list=missing_sensor_id_list)\n",
    "            train_dataset_concat_list.append(train_dataset)\n",
    "\n",
    "    concat_train_dataset = torch.utils.data.ConcatDataset(train_dataset_concat_list)\n",
    "    if not echo: print(\"***********get_train_test_dataset completed***********\")\n",
    "    return concat_train_dataset, test_dataset"
   ]
  },
  {
   "cell_type": "code",
   "execution_count": 13,
   "id": "24ead38d-3779-4fe5-93e5-4815710795ed",
   "metadata": {},
   "outputs": [],
   "source": [
    "def create_dataset_for_missing_sensor_number(test_user, missing_sensor_numbers, echo=0):\n",
    "    if echo: print(\"****************Start create_dataset_for_missing_sensor_number\", test_user, missing_sensor_numbers, \"****************\")\n",
    "    train_dataset_list = []\n",
    "    val_dataset_list = []\n",
    "    test_dataset_list = []\n",
    "    \n",
    "    for missing_count in range(missing_sensor_numbers + 1):\n",
    "        for missing_index in combinations(range(7), missing_count):\n",
    "\n",
    "            dataset, test_dataset = get_train_test_dataset(test_user=test_user, missing_sensor_id_list=missing_index, echo=echo)\n",
    "            train_size = int(0.8 * len(dataset))\n",
    "            val_size = len(dataset) - train_size\n",
    "            train_dataset, val_dataset = torch.utils.data.random_split(dataset, [train_size, val_size])\n",
    "\n",
    "            train_dataset_list.append(train_dataset)\n",
    "            val_dataset_list.append(val_dataset)\n",
    "            test_dataset_list.append(test_dataset)\n",
    "\n",
    "    del dataset, test_dataset, train_dataset, val_dataset\n",
    "    gc.collect()\n",
    "    \n",
    "    train_dataset = torch.utils.data.ConcatDataset(train_dataset_list)\n",
    "    val_dataset = torch.utils.data.ConcatDataset(val_dataset_list)\n",
    "    test_dataset = torch.utils.data.ConcatDataset(test_dataset_list)\n",
    "    if echo: print(\"****************Completed create_dataset_for_missing_sensor_number****************\")\n",
    "\n",
    "    return train_dataset, val_dataset, test_dataset\n",
    "        "
   ]
  },
  {
   "cell_type": "code",
   "execution_count": null,
   "id": "bf6fc8ea-9181-46e3-bec8-e114695add57",
   "metadata": {},
   "outputs": [
    {
     "name": "stdout",
     "output_type": "stream",
     "text": [
      "****************Start create_dataset_for_missing_sensor_number 0 1 ****************\n",
      "***********Start get_train_test_dataset***********\n",
      "missing_sensor_id_list: ()\n",
      "test_user 0\n",
      "train_user 1\n",
      "train_user 2\n",
      "train_user 3\n",
      "train_user 4\n",
      "train_user 5\n",
      "train_user 6\n",
      "train_user 7\n",
      "train_user 8\n",
      "train_user 9\n",
      "train_user 10\n",
      "train_user 11\n",
      "train_user 12\n",
      "train_user 13\n",
      "train_user 14\n",
      "train_user 15\n",
      "***********Start get_train_test_dataset***********\n",
      "missing_sensor_id_list: (0,)\n",
      "test_user 0\n",
      "train_user 1\n",
      "train_user 2\n",
      "train_user 3\n",
      "train_user 4\n",
      "train_user 5\n",
      "train_user 6\n",
      "train_user 7\n",
      "train_user 8\n",
      "train_user 9\n"
     ]
    }
   ],
   "source": [
    "# test\n",
    "# train_dataset, val_dataset, test_dataset = create_dataset_for_missing_sensor_number(test_user=0, missing_sensor_numbers=0, echo=1)"
   ]
  },
  {
   "cell_type": "code",
   "execution_count": 23,
   "id": "152c67ba-250d-43a7-9253-8f273b6847e6",
   "metadata": {},
   "outputs": [],
   "source": [
    "# test\n",
    "# train_dataloader = DataLoader(\n",
    "#     train_dataset, \n",
    "#     batch_size=8,\n",
    "#     num_workers=0, # number of subprocesses to use for data loading\n",
    "#     shuffle=True)\n",
    "\n",
    "# val_dataloader = DataLoader(\n",
    "#     train_dataset, \n",
    "#     batch_size=8,\n",
    "#     num_workers=0, # number of subprocesses to use for data loading\n",
    "#     shuffle=False)"
   ]
  },
  {
   "cell_type": "code",
   "execution_count": 24,
   "id": "9ee9b96f-a6bb-4906-ad7c-7bdd16d18f64",
   "metadata": {},
   "outputs": [
    {
     "data": {
      "text/plain": [
       "torch.Size([8, 256, 42])"
      ]
     },
     "execution_count": 24,
     "metadata": {},
     "output_type": "execute_result"
    }
   ],
   "source": [
    "# next(train_dataloader.__iter__())[0].shape"
   ]
  },
  {
   "cell_type": "markdown",
   "id": "362325df-ae83-45a6-8586-64cfaace85fc",
   "metadata": {},
   "source": [
    "## model definition"
   ]
  },
  {
   "cell_type": "code",
   "execution_count": 25,
   "id": "5a402c05-8df2-4986-a0e7-aa1015dd9137",
   "metadata": {},
   "outputs": [],
   "source": [
    "class SelfAttention(nn.Module):\n",
    "    def __init__(self, input_dim):\n",
    "        super(SelfAttention, self).__init__()\n",
    "        self.input_dim = input_dim\n",
    "        self.query = nn.Linear(input_dim, input_dim)\n",
    "        self.key = nn.Linear(input_dim, input_dim)\n",
    "        self.value = nn.Linear(input_dim, input_dim)\n",
    "        self.softmax = nn.Softmax(dim=2)\n",
    "        \n",
    "    def forward(self, x):\n",
    "        queries = self.query(x)\n",
    "        keys = self.key(x)\n",
    "        values = self.value(x)\n",
    "        scores = torch.bmm(queries, keys.transpose(1, 2)) / (self.input_dim ** 0.5)\n",
    "        attention = self.softmax(scores)\n",
    "        weighted = torch.bmm(attention, values)\n",
    "        return weighted"
   ]
  },
  {
   "cell_type": "code",
   "execution_count": 26,
   "id": "57fda4c5-7c60-40e5-9a4e-729ac2d4d862",
   "metadata": {},
   "outputs": [],
   "source": [
    "class LSTM_Attention_Model(pl.LightningModule):\n",
    "    model_name = \"LSTM_Attention_Model\"\n",
    "    def __init__(self, hidden_size=128, input_size=30, output_size=6):\n",
    "        super().__init__()\n",
    "        self.save_hyperparameters()\n",
    "        self.example_input_array = torch.Tensor(1024, 200, input_size)\n",
    "        \n",
    "        self.rnn1 = nn.LSTM(input_size=input_size, \n",
    "                          hidden_size=hidden_size,\n",
    "                          num_layers=1,\n",
    "                          batch_first=True)\n",
    "        \n",
    "        self.attention1 = SelfAttention(\n",
    "            input_dim=hidden_size)\n",
    "\n",
    "        self.rnn2 = nn.LSTM(input_size=hidden_size, \n",
    "                          hidden_size=hidden_size,\n",
    "                          num_layers=1,\n",
    "                          batch_first=True)\n",
    "        \n",
    "        self.attention2 = SelfAttention(\n",
    "            input_dim=hidden_size\n",
    "        )\n",
    "        \n",
    "        self.seq_1 = nn.Sequential(\n",
    "            nn.Linear(in_features=hidden_size, out_features=hidden_size),\n",
    "            nn.BatchNorm1d(num_features=hidden_size),\n",
    "            nn.Dropout1d(p=0.2),\n",
    "            nn.ReLU(),\n",
    "            nn.Linear(in_features=hidden_size, out_features=hidden_size),\n",
    "            nn.BatchNorm1d(num_features=hidden_size),\n",
    "            nn.Dropout1d(p=0.2),\n",
    "            nn.ReLU(),\n",
    "        )\n",
    "        \n",
    "        self.seq_2 = nn.Sequential(\n",
    "            nn.Linear(in_features=hidden_size, out_features=hidden_size),\n",
    "            nn.BatchNorm1d(num_features=hidden_size),\n",
    "            nn.Dropout1d(p=0.2),\n",
    "            nn.ReLU(),\n",
    "            nn.Linear(in_features=hidden_size, out_features=hidden_size),\n",
    "            nn.BatchNorm1d(num_features=hidden_size),\n",
    "            nn.Dropout1d(p=0.2),\n",
    "            nn.ReLU(),\n",
    "        )\n",
    "        \n",
    "        self.classifier = nn.Linear(in_features=3 * hidden_size, out_features=output_size)\n",
    "        \n",
    "        self.all_test = []\n",
    "        self.all_pred = []\n",
    "        \n",
    "    def forward(self, x):\n",
    "        activation, _ = self.rnn1(x)\n",
    "        activation = self.attention1(activation)\n",
    "        activation, _ = self.rnn2(activation)\n",
    "        activation = self.attention2(activation)\n",
    "\n",
    "        b, _, _ = activation.size()\n",
    "        \n",
    "        lstm_output = activation[:,-1,:].view(b,-1)\n",
    "        \n",
    "        seq_1_output = self.seq_1(lstm_output)\n",
    "        seq_2_output = self.seq_2(lstm_output)\n",
    "        \n",
    "        output = torch.concat([lstm_output, seq_1_output, seq_2_output], dim=1)\n",
    "        output = self.classifier(output)\n",
    "        \n",
    "        return output\n",
    "    \n",
    "    def configure_optimizers(self):\n",
    "        optimizer = torch.optim.Adam(params=self.parameters(), lr=0.0005)\n",
    "        return optimizer\n",
    "    \n",
    "    def training_step(self, batch, batch_idx):\n",
    "        X, y = batch\n",
    "        X = X.float()\n",
    "        # 1. Forward pass\n",
    "        y_pred = self.forward(X)\n",
    "        # 2. Calculate  and accumulate loss\n",
    "        loss = F.cross_entropy(y_pred, y)\n",
    "        \n",
    "        self.log(\"train_loss\", loss, prog_bar=True)\n",
    "        \n",
    "        return loss\n",
    "    \n",
    "    def test_step(self, batch, batch_idx):\n",
    "        # this is the test loop\n",
    "        X, y = batch\n",
    "        X = X.float()\n",
    "        y = y\n",
    "    \n",
    "        # 1. Forward pass\n",
    "        test_pred_logits = self.forward(X)\n",
    "\n",
    "        # Calculate and accumulate accuracy\n",
    "        test_pred_labels = test_pred_logits.argmax(dim=1)\n",
    "        test_acc = ((test_pred_labels == y).sum().item()/len(test_pred_labels))\n",
    "        self.log(\"test_acc\", test_acc)\n",
    "        \n",
    "        self.all_pred = test_pred_labels\n",
    "        self.all_test = y\n",
    "        \n",
    "    def validation_step(self, batch, batch_idx):\n",
    "        # this is the validation loop\n",
    "        X, y = batch\n",
    "        X = X.float()\n",
    "        y = y\n",
    "        \n",
    "        y_pred = self.forward(X)\n",
    "        # 2. Calculate  and accumulate loss\n",
    "        loss = F.cross_entropy(y_pred, y)\n",
    "        \n",
    "        self.log(\"val_loss\", loss, prog_bar=True)\n",
    "        "
   ]
  },
  {
   "cell_type": "code",
   "execution_count": 27,
   "id": "7153d6a2-d187-473e-ab8e-516b2426792f",
   "metadata": {},
   "outputs": [],
   "source": [
    "\n",
    "class LSTMModel(pl.LightningModule):\n",
    "    model_name = \"LSTMModel\"\n",
    "    def __init__(self, hidden_size=128, input_size=30, output_size=6):\n",
    "        super().__init__()\n",
    "        self.rnn = nn.LSTM(input_size=input_size, \n",
    "                          hidden_size=hidden_size,\n",
    "                          num_layers=2,\n",
    "                          batch_first=True)\n",
    "        \n",
    "        self.seq_1 = nn.Sequential(\n",
    "            nn.Linear(in_features=hidden_size, out_features=hidden_size),\n",
    "            nn.BatchNorm1d(num_features=hidden_size),\n",
    "            nn.Dropout1d(p=0.2),\n",
    "            nn.ReLU(),\n",
    "            nn.Linear(in_features=hidden_size, out_features=hidden_size),\n",
    "            nn.BatchNorm1d(num_features=hidden_size),\n",
    "            nn.Dropout1d(p=0.2),\n",
    "            nn.ReLU(),\n",
    "        )\n",
    "        \n",
    "        self.seq_2 = nn.Sequential(\n",
    "            nn.Linear(in_features=hidden_size, out_features=hidden_size),\n",
    "            nn.BatchNorm1d(num_features=hidden_size),\n",
    "            nn.Dropout1d(p=0.2),\n",
    "            nn.ReLU(),\n",
    "            nn.Linear(in_features=hidden_size, out_features=hidden_size),\n",
    "            nn.BatchNorm1d(num_features=hidden_size),\n",
    "            nn.Dropout1d(p=0.2),\n",
    "            nn.ReLU(),\n",
    "        )\n",
    "        \n",
    "        self.classifier = nn.Linear(in_features=3 * hidden_size, out_features=output_size)\n",
    "        \n",
    "    def forward(self, x):\n",
    "        activation, _ = self.rnn(x)\n",
    "        \n",
    "        b, _, _ = activation.size()\n",
    "        lstm_output = activation[:,-1,:].view(b,-1)\n",
    "        seq_1_output = self.seq_1(lstm_output)\n",
    "        seq_2_output = self.seq_2(lstm_output)\n",
    "        \n",
    "        output = torch.concat([lstm_output, seq_1_output, seq_2_output], dim=1)\n",
    "        output = self.classifier(output)\n",
    "        \n",
    "        return output\n",
    "    \n",
    "    def configure_optimizers(self):\n",
    "        optimizer = torch.optim.Adam(params=self.parameters(), lr=0.0005)\n",
    "        return optimizer\n",
    "    \n",
    "    def training_step(self, batch, batch_idx):\n",
    "        X, y = batch\n",
    "        X = X.float()\n",
    "        # 1. Forward pass\n",
    "        y_pred = self.forward(X)\n",
    "        # 2. Calculate  and accumulate loss\n",
    "        loss = F.cross_entropy(y_pred, y)\n",
    "        \n",
    "        self.log(\"train_loss\", loss)\n",
    "        \n",
    "        return loss\n",
    "    \n",
    "    def test_step(self, batch, batch_idx):\n",
    "        # this is the test loop\n",
    "        X, y = batch\n",
    "        X = X.float()\n",
    "    \n",
    "        # 1. Forward pass\n",
    "        test_pred_logits = self.forward(X)\n",
    "\n",
    "        # Calculate and accumulate accuracy\n",
    "        test_pred_labels = test_pred_logits.argmax(dim=1)\n",
    "        test_acc = ((test_pred_labels == y).sum().item()/len(test_pred_labels))\n",
    "        self.log(\"test_acc\", test_acc)\n",
    "\n",
    "    def validation_step(self, batch, batch_idx):\n",
    "        # this is the validation loop\n",
    "        X, y = batch\n",
    "        X = X.float()\n",
    "        \n",
    "        y_pred = self.forward(X)\n",
    "        # 2. Calculate  and accumulate loss\n",
    "        loss = F.cross_entropy(y_pred, y)\n",
    "        \n",
    "        self.log(\"val_loss\", loss)"
   ]
  },
  {
   "cell_type": "code",
   "execution_count": 28,
   "id": "ddbd855c-2ac7-44ac-80e0-b908fda58eca",
   "metadata": {},
   "outputs": [
    {
     "data": {
      "text/plain": [
       "'LSTMModel'"
      ]
     },
     "execution_count": 28,
     "metadata": {},
     "output_type": "execute_result"
    }
   ],
   "source": [
    "use_model = LSTMModel\n",
    "use_model.model_name"
   ]
  },
  {
   "cell_type": "code",
   "execution_count": 29,
   "id": "fd27b8cd-e870-4c73-a356-210aa1d8c2bd",
   "metadata": {},
   "outputs": [
    {
     "data": {
      "text/plain": [
       "=================================================================\n",
       "Layer (type:depth-idx)                   Param #\n",
       "=================================================================\n",
       "LSTMModel                                --\n",
       "├─LSTM: 1-1                              214,016\n",
       "├─Sequential: 1-2                        --\n",
       "│    └─Linear: 2-1                       16,512\n",
       "│    └─BatchNorm1d: 2-2                  256\n",
       "│    └─Dropout1d: 2-3                    --\n",
       "│    └─ReLU: 2-4                         --\n",
       "│    └─Linear: 2-5                       16,512\n",
       "│    └─BatchNorm1d: 2-6                  256\n",
       "│    └─Dropout1d: 2-7                    --\n",
       "│    └─ReLU: 2-8                         --\n",
       "├─Sequential: 1-3                        --\n",
       "│    └─Linear: 2-9                       16,512\n",
       "│    └─BatchNorm1d: 2-10                 256\n",
       "│    └─Dropout1d: 2-11                   --\n",
       "│    └─ReLU: 2-12                        --\n",
       "│    └─Linear: 2-13                      16,512\n",
       "│    └─BatchNorm1d: 2-14                 256\n",
       "│    └─Dropout1d: 2-15                   --\n",
       "│    └─ReLU: 2-16                        --\n",
       "├─Linear: 1-4                            2,310\n",
       "=================================================================\n",
       "Total params: 283,398\n",
       "Trainable params: 283,398\n",
       "Non-trainable params: 0\n",
       "================================================================="
      ]
     },
     "execution_count": 29,
     "metadata": {},
     "output_type": "execute_result"
    }
   ],
   "source": [
    "model = use_model()\n",
    "summary(model)"
   ]
  },
  {
   "cell_type": "code",
   "execution_count": 30,
   "id": "e2386328-0a31-4586-8c4a-ebe495def323",
   "metadata": {},
   "outputs": [
    {
     "data": {
      "text/plain": [
       "[(0,), (1,), (2,), (3,), (4,), (5,), (6,)]"
      ]
     },
     "execution_count": 30,
     "metadata": {},
     "output_type": "execute_result"
    }
   ],
   "source": [
    "list(combinations(range(7),1))"
   ]
  },
  {
   "cell_type": "code",
   "execution_count": null,
   "id": "5f2b4f34-cd31-47fe-940c-3fd3f12d817f",
   "metadata": {},
   "outputs": [
    {
     "name": "stdout",
     "output_type": "stream",
     "text": [
      "start learning missing_sensor_numbers = 1\n",
      "\n",
      "*************training on User0*************\n",
      "***********get_train_test_dataset completed***********\n",
      "***********get_train_test_dataset completed***********\n"
     ]
    }
   ],
   "source": [
    "batch_size = 1024\n",
    "patience = 20\n",
    "# missing_sensor_numbers = 0\n",
    "all_test_pred = {}\n",
    "start_timer = time.perf_counter()\n",
    "# missing sensors number is the number of missing sensor, we loop it through 7 sensors\n",
    "for missing_sensor_numbers in [1,2,3,4,5,6]:\n",
    "    print(f\"start learning missing_sensor_numbers = {missing_sensor_numbers}\")\n",
    "    \n",
    "    all_test = []\n",
    "    all_pred = []\n",
    "\n",
    "    # kfold_train_test_index_list = [kfold_train_test_index_list[0]]\n",
    "\n",
    "    for i in range(len(data_files)):\n",
    "        print(f\"\\n*************training on User{i}*************\")\n",
    "\n",
    "        train_dataset, val_dataset, test_dataset = create_dataset_for_missing_sensor_number(i, missing_sensor_numbers)\n",
    "        \n",
    "        train_dataloader = DataLoader(\n",
    "            train_dataset, \n",
    "            batch_size=batch_size,\n",
    "            num_workers=4, # number of subprocesses to use for data loading\n",
    "            shuffle=True)\n",
    "\n",
    "        val_dataloader = DataLoader(\n",
    "            val_dataset, \n",
    "            batch_size=batch_size,\n",
    "            num_workers=2, # number of subprocesses to use for data loading\n",
    "            shuffle=False)\n",
    "\n",
    "        test_dataloader = DataLoader(\n",
    "            test_dataset,\n",
    "            batch_size=batch_size,\n",
    "            num_workers=2, # number of subprocesses to use for data loading\n",
    "            shuffle=False)\n",
    "\n",
    "        model = use_model(hidden_size=128, input_size=feature_num, output_size=len(label_list))\n",
    "\n",
    "        tb_logger = TensorBoardLogger(\".\")\n",
    "\n",
    "        trainer = pl.Trainer(\n",
    "            logger=tb_logger,\n",
    "            callbacks=[EarlyStopping(monitor=\"val_loss\", patience=patience, mode=\"min\")],\n",
    "        )\n",
    "        trainer.fit(model, train_dataloader, val_dataloader)\n",
    "        trainer.test(model, test_dataloader)\n",
    "\n",
    "        all_test.extend(model.all_test)\n",
    "        all_pred.extend(model.all_pred)\n",
    "            \n",
    "        all_test_pred[missing_index] = (all_test, all_pred)\n",
    "    \n",
    "    os.makedirs(RESULT_FOLDER_PATH, exist_ok=True)\n",
    "    with open(os.path.join(RESULT_FOLDER_PATH, f\"00_all_test_pred_{missing_sensor_numbers}_{model.model_name}.pkl\"), \"wb\") as f:\n",
    "        pickle.dump(all_test_pred, f)\n",
    "\n",
    "print(\"Executed Time:\", time.perf_counter() - start_timer)\n"
   ]
  },
  {
   "cell_type": "code",
   "execution_count": 41,
   "id": "779bd072-9b6d-4804-8936-ab6ea58962ea",
   "metadata": {
    "scrolled": true
   },
   "outputs": [
    {
     "ename": "TypeError",
     "evalue": "'Axes' object is not subscriptable",
     "output_type": "error",
     "traceback": [
      "\u001b[0;31m---------------------------------------------------------------------------\u001b[0m",
      "\u001b[0;31mTypeError\u001b[0m                                 Traceback (most recent call last)",
      "Cell \u001b[0;32mIn[41], line 28\u001b[0m\n\u001b[1;32m     25\u001b[0m         all_pred_with_label \u001b[38;5;241m=\u001b[39m [label_list[i] \u001b[38;5;28;01mfor\u001b[39;00m i \u001b[38;5;129;01min\u001b[39;00m all_pred]\n\u001b[1;32m     27\u001b[0m         cf \u001b[38;5;241m=\u001b[39m confusion_matrix(all_test_with_label, all_pred_with_label, labels\u001b[38;5;241m=\u001b[39mlabel_list)\n\u001b[0;32m---> 28\u001b[0m         sns\u001b[38;5;241m.\u001b[39mheatmap(cf, ax\u001b[38;5;241m=\u001b[39m\u001b[43max\u001b[49m\u001b[43m[\u001b[49m\u001b[43midx\u001b[49m\u001b[38;5;241;43m/\u001b[39;49m\u001b[38;5;241;43m/\u001b[39;49m\u001b[43mrow_item\u001b[49m\u001b[43m]\u001b[49m\u001b[43m[\u001b[49m\u001b[43midx\u001b[49m\u001b[38;5;241;43m%\u001b[39;49m\u001b[43mrow_item\u001b[49m\u001b[43m]\u001b[49m, annot\u001b[38;5;241m=\u001b[39m\u001b[38;5;28;01mTrue\u001b[39;00m, xticklabels\u001b[38;5;241m=\u001b[39meng_label_list, yticklabels\u001b[38;5;241m=\u001b[39meng_label_list, fmt\u001b[38;5;241m=\u001b[39m\u001b[38;5;124m'\u001b[39m\u001b[38;5;124mg\u001b[39m\u001b[38;5;124m'\u001b[39m)\n\u001b[1;32m     29\u001b[0m         ax[idx\u001b[38;5;241m/\u001b[39m\u001b[38;5;241m/\u001b[39mrow_item][idx\u001b[38;5;241m%\u001b[39mrow_item]\u001b[38;5;241m.\u001b[39mset_title(\u001b[38;5;124mf\u001b[39m\u001b[38;5;124m\"\u001b[39m\u001b[38;5;124mmissing_index \u001b[39m\u001b[38;5;132;01m{\u001b[39;00mmissing_index\u001b[38;5;132;01m}\u001b[39;00m\u001b[38;5;124m confusion matrix\u001b[39m\u001b[38;5;124m\"\u001b[39m)\n\u001b[1;32m     31\u001b[0m plt\u001b[38;5;241m.\u001b[39msavefig(os\u001b[38;5;241m.\u001b[39mpath\u001b[38;5;241m.\u001b[39mjoin(RESULT_FOLDER_PATH, \u001b[38;5;124mf\u001b[39m\u001b[38;5;124m\"\u001b[39m\u001b[38;5;124mall_test_pred_\u001b[39m\u001b[38;5;132;01m{\u001b[39;00mmissing_sensor_numbers\u001b[38;5;132;01m}\u001b[39;00m\u001b[38;5;124m.jpg\u001b[39m\u001b[38;5;124m\"\u001b[39m))\n",
      "\u001b[0;31mTypeError\u001b[0m: 'Axes' object is not subscriptable"
     ]
    },
    {
     "data": {
      "image/png": "[encoded data removed]",
      "text/plain": [
       "<Figure size 1300x2800 with 2 Axes>"
      ]
     },
     "metadata": {},
     "output_type": "display_data"
    }
   ],
   "source": [
    "# for missing_sensor_numbers in range(1):\n",
    "#     with open(os.path.join(RESULT_FOLDER_PATH, f\"00_all_test_pred_{missing_sensor_numbers}_{use_model.model_name}.pkl\"), \"rb\") as f:\n",
    "#         all_test_pred = pickle.load(f)\n",
    "\n",
    "#     if all_test_pred == 0:\n",
    "#         missing_index = list(all_test_pred.keys())[0]\n",
    "        \n",
    "#         all_tall_test, all_pred = all_test_pred[missing_index]\n",
    "        \n",
    "#         # print(\"missing index\", missing_index)\n",
    "#         all_test_with_label = [label_list[i] for i in all_test]\n",
    "#         all_pred_with_label = [label_list[i] for i in all_pred]\n",
    "        \n",
    "#         cf = confusion_matrix(all_test_with_label, all_pred_with_label, labels=label_list)\n",
    "#         sns.heatmap(cf, annot=True, xticklabels=eng_label_list, yticklabels=eng_label_list, fmt='g')\n",
    "#     else:\n",
    "#         row_item = 2\n",
    "#         fig, ax = plt.subplots(len(all_test_pred.keys()) // row_item + len(all_test_pred.keys()) % row_item, row_item, figsize=(13,28))\n",
    "        \n",
    "#         for idx, missing_index in enumerate(all_test_pred.keys()):\n",
    "#             all_test, all_pred = all_test_pred[missing_index]\n",
    "            \n",
    "#             # print(\"missing index\", missing_index)\n",
    "#             all_test_with_label = [label_list[i] for i in all_test]\n",
    "#             all_pred_with_label = [label_list[i] for i in all_pred]\n",
    "            \n",
    "#             cf = confusion_matrix(all_test_with_label, all_pred_with_label, labels=label_list)\n",
    "#             sns.heatmap(cf, ax=ax[idx//row_item][idx%row_item], annot=True, xticklabels=eng_label_list, yticklabels=eng_label_list, fmt='g')\n",
    "#             ax[idx//row_item][idx%row_item].set_title(f\"missing_index {missing_index} confusion matrix\")\n",
    "            \n",
    "#     plt.savefig(os.path.join(RESULT_FOLDER_PATH, f\"00_all_test_pred_{missing_sensor_numbers}_{use_model.model_name}.jpg\"))"
   ]
  },
  {
   "cell_type": "code",
   "execution_count": 46,
   "id": "6fc90823-f196-4393-a37f-0cffe23e4c6a",
   "metadata": {},
   "outputs": [
    {
     "data": {
      "text/plain": [
       "0.434828897338403"
      ]
     },
     "execution_count": 46,
     "metadata": {},
     "output_type": "execute_result"
    }
   ],
   "source": [
    "# from sklearn.metrics import accuracy_score\n",
    "# all_test = list(map(lambda x: x.cpu().item(), all_tall_test))\n",
    "# all_pred = list(map(lambda x: x.cpu().item(), all_pred))\n",
    "# accuracy_score(all_test, all_pred)"
   ]
  },
  {
   "cell_type": "code",
   "execution_count": null,
   "id": "c861afc9-a211-4468-a6b4-6d159d9c3dce",
   "metadata": {},
   "outputs": [],
   "source": []
  }
 ],
 "metadata": {
  "kernelspec": {
   "display_name": "Python 3 (ipykernel)",
   "language": "python",
   "name": "python3"
  },
  "language_info": {
   "codemirror_mode": {
    "name": "ipython",
    "version": 3
   },
   "file_extension": ".py",
   "mimetype": "text/x-python",
   "name": "python",
   "nbconvert_exporter": "python",
   "pygments_lexer": "ipython3",
   "version": "3.8.17"
  }
 },
 "nbformat": 4,
 "nbformat_minor": 5
}
