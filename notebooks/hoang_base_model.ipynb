{
 "cells": [
  {
   "cell_type": "code",
   "execution_count": 7,
   "id": "b47e3b36",
   "metadata": {},
   "outputs": [],
   "source": [
    "import pandas as pd\n",
    "import numpy as np\n",
    "\n",
    "df_feature = pd.read_csv('../data_tran/extracted_feature.csv') #読み込み"
   ]
  },
  {
   "cell_type": "code",
   "execution_count": 8,
   "id": "feca577e",
   "metadata": {},
   "outputs": [
    {
     "data": {
      "text/html": [
       "<div>\n",
       "<style scoped>\n",
       "    .dataframe tbody tr th:only-of-type {\n",
       "        vertical-align: middle;\n",
       "    }\n",
       "\n",
       "    .dataframe tbody tr th {\n",
       "        vertical-align: top;\n",
       "    }\n",
       "\n",
       "    .dataframe thead th {\n",
       "        text-align: right;\n",
       "    }\n",
       "</style>\n",
       "<table border=\"1\" class=\"dataframe\">\n",
       "  <thead>\n",
       "    <tr style=\"text-align: right;\">\n",
       "      <th></th>\n",
       "      <th>label</th>\n",
       "      <th>ax_A_mean</th>\n",
       "      <th>ax_A_std</th>\n",
       "      <th>ax_A_RMS</th>\n",
       "      <th>ax_A_energy</th>\n",
       "      <th>ax_A_entropy</th>\n",
       "      <th>ay_A_mean</th>\n",
       "      <th>ay_A_std</th>\n",
       "      <th>ay_A_RMS</th>\n",
       "      <th>ay_A_energy</th>\n",
       "      <th>...</th>\n",
       "      <th>ay_E_mean</th>\n",
       "      <th>ay_E_std</th>\n",
       "      <th>ay_E_RMS</th>\n",
       "      <th>ay_E_energy</th>\n",
       "      <th>ay_E_entropy</th>\n",
       "      <th>az_E_mean</th>\n",
       "      <th>az_E_std</th>\n",
       "      <th>az_E_RMS</th>\n",
       "      <th>az_E_energy</th>\n",
       "      <th>az_E_entropy</th>\n",
       "    </tr>\n",
       "  </thead>\n",
       "  <tbody>\n",
       "    <tr>\n",
       "      <th>0</th>\n",
       "      <td>階段降り</td>\n",
       "      <td>-10095.115000</td>\n",
       "      <td>3193.308573</td>\n",
       "      <td>149738.816948</td>\n",
       "      <td>1.589442e+12</td>\n",
       "      <td>1.291517</td>\n",
       "      <td>2333.925000</td>\n",
       "      <td>2153.205443</td>\n",
       "      <td>44907.682160</td>\n",
       "      <td>1.143133e+11</td>\n",
       "      <td>...</td>\n",
       "      <td>1806.145000</td>\n",
       "      <td>1795.656586</td>\n",
       "      <td>36018.168568</td>\n",
       "      <td>1.110045e+11</td>\n",
       "      <td>3.056860</td>\n",
       "      <td>3081.645000</td>\n",
       "      <td>1990.262201</td>\n",
       "      <td>51880.014524</td>\n",
       "      <td>2.080846e+11</td>\n",
       "      <td>2.106770</td>\n",
       "    </tr>\n",
       "    <tr>\n",
       "      <th>1</th>\n",
       "      <td>階段降り</td>\n",
       "      <td>-10094.328125</td>\n",
       "      <td>3333.864469</td>\n",
       "      <td>170089.943336</td>\n",
       "      <td>2.651143e+12</td>\n",
       "      <td>1.374896</td>\n",
       "      <td>2014.660156</td>\n",
       "      <td>2457.361669</td>\n",
       "      <td>50842.456382</td>\n",
       "      <td>1.810564e+11</td>\n",
       "      <td>...</td>\n",
       "      <td>1706.808594</td>\n",
       "      <td>2366.021737</td>\n",
       "      <td>46678.486854</td>\n",
       "      <td>1.745063e+11</td>\n",
       "      <td>3.181850</td>\n",
       "      <td>3136.132812</td>\n",
       "      <td>2178.539603</td>\n",
       "      <td>61096.883210</td>\n",
       "      <td>3.458789e+11</td>\n",
       "      <td>2.148186</td>\n",
       "    </tr>\n",
       "    <tr>\n",
       "      <th>2</th>\n",
       "      <td>階段降り</td>\n",
       "      <td>-9774.820000</td>\n",
       "      <td>3475.480257</td>\n",
       "      <td>146714.736172</td>\n",
       "      <td>1.608769e+12</td>\n",
       "      <td>1.477448</td>\n",
       "      <td>1566.395000</td>\n",
       "      <td>2285.059553</td>\n",
       "      <td>39179.306923</td>\n",
       "      <td>1.376261e+11</td>\n",
       "      <td>...</td>\n",
       "      <td>1706.790000</td>\n",
       "      <td>2538.833273</td>\n",
       "      <td>43263.856717</td>\n",
       "      <td>1.574565e+11</td>\n",
       "      <td>3.429951</td>\n",
       "      <td>3067.520000</td>\n",
       "      <td>2349.352196</td>\n",
       "      <td>54642.720814</td>\n",
       "      <td>2.184749e+11</td>\n",
       "      <td>2.321673</td>\n",
       "    </tr>\n",
       "    <tr>\n",
       "      <th>3</th>\n",
       "      <td>階段降り</td>\n",
       "      <td>-9947.925781</td>\n",
       "      <td>4048.729614</td>\n",
       "      <td>171844.349174</td>\n",
       "      <td>2.704598e+12</td>\n",
       "      <td>1.440465</td>\n",
       "      <td>2117.660156</td>\n",
       "      <td>2588.711144</td>\n",
       "      <td>53512.549379</td>\n",
       "      <td>2.898369e+11</td>\n",
       "      <td>...</td>\n",
       "      <td>1509.148438</td>\n",
       "      <td>2764.306774</td>\n",
       "      <td>50390.909517</td>\n",
       "      <td>2.745205e+11</td>\n",
       "      <td>3.636137</td>\n",
       "      <td>3219.917969</td>\n",
       "      <td>2560.565715</td>\n",
       "      <td>65822.779773</td>\n",
       "      <td>3.814031e+11</td>\n",
       "      <td>2.482349</td>\n",
       "    </tr>\n",
       "    <tr>\n",
       "      <th>4</th>\n",
       "      <td>階段降り</td>\n",
       "      <td>-9877.695000</td>\n",
       "      <td>4102.551451</td>\n",
       "      <td>151261.222344</td>\n",
       "      <td>1.672245e+12</td>\n",
       "      <td>1.481259</td>\n",
       "      <td>2008.595000</td>\n",
       "      <td>2648.684368</td>\n",
       "      <td>47010.600411</td>\n",
       "      <td>2.397319e+11</td>\n",
       "      <td>...</td>\n",
       "      <td>1464.050000</td>\n",
       "      <td>2965.510483</td>\n",
       "      <td>46771.133897</td>\n",
       "      <td>1.341559e+11</td>\n",
       "      <td>3.441022</td>\n",
       "      <td>3302.915000</td>\n",
       "      <td>2665.429948</td>\n",
       "      <td>60022.936124</td>\n",
       "      <td>2.246754e+11</td>\n",
       "      <td>2.352513</td>\n",
       "    </tr>\n",
       "  </tbody>\n",
       "</table>\n",
       "<p>5 rows × 76 columns</p>\n",
       "</div>"
      ],
      "text/plain": [
       "  label     ax_A_mean     ax_A_std       ax_A_RMS   ax_A_energy  ax_A_entropy  \\\n",
       "0  階段降り -10095.115000  3193.308573  149738.816948  1.589442e+12      1.291517   \n",
       "1  階段降り -10094.328125  3333.864469  170089.943336  2.651143e+12      1.374896   \n",
       "2  階段降り  -9774.820000  3475.480257  146714.736172  1.608769e+12      1.477448   \n",
       "3  階段降り  -9947.925781  4048.729614  171844.349174  2.704598e+12      1.440465   \n",
       "4  階段降り  -9877.695000  4102.551451  151261.222344  1.672245e+12      1.481259   \n",
       "\n",
       "     ay_A_mean     ay_A_std      ay_A_RMS   ay_A_energy  ...    ay_E_mean  \\\n",
       "0  2333.925000  2153.205443  44907.682160  1.143133e+11  ...  1806.145000   \n",
       "1  2014.660156  2457.361669  50842.456382  1.810564e+11  ...  1706.808594   \n",
       "2  1566.395000  2285.059553  39179.306923  1.376261e+11  ...  1706.790000   \n",
       "3  2117.660156  2588.711144  53512.549379  2.898369e+11  ...  1509.148438   \n",
       "4  2008.595000  2648.684368  47010.600411  2.397319e+11  ...  1464.050000   \n",
       "\n",
       "      ay_E_std      ay_E_RMS   ay_E_energy  ay_E_entropy    az_E_mean  \\\n",
       "0  1795.656586  36018.168568  1.110045e+11      3.056860  3081.645000   \n",
       "1  2366.021737  46678.486854  1.745063e+11      3.181850  3136.132812   \n",
       "2  2538.833273  43263.856717  1.574565e+11      3.429951  3067.520000   \n",
       "3  2764.306774  50390.909517  2.745205e+11      3.636137  3219.917969   \n",
       "4  2965.510483  46771.133897  1.341559e+11      3.441022  3302.915000   \n",
       "\n",
       "      az_E_std      az_E_RMS   az_E_energy  az_E_entropy  \n",
       "0  1990.262201  51880.014524  2.080846e+11      2.106770  \n",
       "1  2178.539603  61096.883210  3.458789e+11      2.148186  \n",
       "2  2349.352196  54642.720814  2.184749e+11      2.321673  \n",
       "3  2560.565715  65822.779773  3.814031e+11      2.482349  \n",
       "4  2665.429948  60022.936124  2.246754e+11      2.352513  \n",
       "\n",
       "[5 rows x 76 columns]"
      ]
     },
     "execution_count": 8,
     "metadata": {},
     "output_type": "execute_result"
    }
   ],
   "source": [
    "df_feature.head(5)"
   ]
  },
  {
   "cell_type": "code",
   "execution_count": 68,
   "id": "951237a1",
   "metadata": {},
   "outputs": [
    {
     "name": "stdout",
     "output_type": "stream",
     "text": [
      "歩いている    210\n",
      "立っている    205\n",
      "走っている    200\n",
      "階段降り     199\n",
      "階段上り     199\n",
      "座っている    196\n",
      "Name: label, dtype: int64\n"
     ]
    }
   ],
   "source": [
    "print(df_feature[\"label\"].value_counts())"
   ]
  },
  {
   "cell_type": "code",
   "execution_count": 37,
   "id": "fde0d6d2",
   "metadata": {},
   "outputs": [
    {
     "name": "stdout",
     "output_type": "stream",
     "text": [
      "['歩いている', '立っている', '走っている', '階段降り', '階段上り', '座っている']\n",
      "['Walking', 'Standing', 'Jogging', 'DownStair', 'Upstair', 'Sit']\n"
     ]
    }
   ],
   "source": [
    "label_list = list(df_feature[\"label\"].value_counts().keys())\n",
    "print(label_list)\n",
    "eng_label_dict = dict(zip(\n",
    "    ['歩いている', '立っている', '走っている', '階段降り', '階段上り', '座っている'],\n",
    "    ['Walking', 'Standing', 'Jogging', 'DownStair', 'Upstair', 'Sit']\n",
    "))\n",
    "\n",
    "eng_label_list = [eng_label_dict[i] for i in label_list]\n",
    "print(eng_label_list)"
   ]
  },
  {
   "cell_type": "code",
   "execution_count": 70,
   "id": "bce4d202",
   "metadata": {},
   "outputs": [],
   "source": [
    "#ラベル名ごとにカウント\n",
    "data_all = []\n",
    "for activity_label in label_list:\n",
    "    \n",
    "    one_activity_data = df_feature[df_feature['label'] == activity_label]\n",
    "    data_all.append(one_activity_data)\n",
    "    \n",
    "\n",
    "label_all = [activity_data.pop(\"label\") for activity_data in data_all]"
   ]
  },
  {
   "cell_type": "code",
   "execution_count": 64,
   "id": "2f60ad9d",
   "metadata": {},
   "outputs": [],
   "source": [
    "from sklearn.model_selection import KFold\n",
    "\n",
    "\n",
    "def k_fold_eval(model):\n",
    "    n_split = 10\n",
    "\n",
    "    #KFoldの設定(5個に分割)\n",
    "    kf = KFold(n_splits = n_split, shuffle = True, random_state = 42)\n",
    "\n",
    "    k_index_list = []\n",
    "\n",
    "    for activity_data in data_all:\n",
    "        k_index_list.append(list(kf.split(activity_data)))\n",
    "        \n",
    "    all_test = []\n",
    "    all_pred = []\n",
    "\n",
    "    for k in range(n_split):\n",
    "\n",
    "        train_x, train_y, test_x, test_y = [[] for _ in range(4)]\n",
    "        \n",
    "        for i, activity_data in enumerate(data_all):\n",
    "\n",
    "            activity_x_train, activity_x_test = activity_data.values[ k_index_list[i][k][0] ], activity_data.values[ k_index_list[i][k][1] ]\n",
    "            activity_y_train, activity_y_test = label_all[i].values[ k_index_list[i][k][0] ], label_all[i].values[ k_index_list[i][k][1] ]\n",
    "\n",
    "            train_x.append(activity_x_train)\n",
    "            test_x.append(activity_x_test)\n",
    "\n",
    "            train_y.append(activity_y_train)\n",
    "            test_y.append(activity_y_test)\n",
    "\n",
    "        train_x = np.concatenate(train_x, axis=0)\n",
    "        train_y = np.concatenate(train_y, axis=0)\n",
    "        \n",
    "        test_x = np.concatenate(test_x, axis=0)\n",
    "        test_y = np.concatenate(test_y, axis=0)\n",
    "        \n",
    "        model.fit(train_x, train_y)\n",
    "        \n",
    "        y_pred = model.predict(test_x)\n",
    "        \n",
    "        all_test.extend(test_y)\n",
    "        all_pred.extend(y_pred)\n",
    "        \n",
    "    return all_test, all_pred"
   ]
  },
  {
   "cell_type": "markdown",
   "id": "e5987b13",
   "metadata": {},
   "source": [
    "### test with DecisionTreeClassifier"
   ]
  },
  {
   "cell_type": "code",
   "execution_count": 73,
   "id": "7d1853aa",
   "metadata": {},
   "outputs": [
    {
     "data": {
      "text/plain": [
       "<AxesSubplot:>"
      ]
     },
     "execution_count": 73,
     "metadata": {},
     "output_type": "execute_result"
    },
    {
     "data": {
      "image/png": "[encoded data removed]",
      "text/plain": [
       "<Figure size 640x480 with 2 Axes>"
      ]
     },
     "metadata": {},
     "output_type": "display_data"
    }
   ],
   "source": [
    "from sklearn import tree\n",
    "from sklearn.metrics import confusion_matrix\n",
    "import seaborn as sns\n",
    "\n",
    "Model = tree.DecisionTreeClassifier(criterion='gini', min_samples_leaf=1 , max_depth=6) # モデル構造の定義\n",
    "\n",
    "all_test, all_pred = k_fold_eval(Model)\n",
    "cf = confusion_matrix(all_test, all_pred, labels=label_list)\n",
    "sns.heatmap(cf, annot=True, xticklabels=eng_label_list, yticklabels=eng_label_list, fmt='g')"
   ]
  },
  {
   "cell_type": "code",
   "execution_count": 66,
   "id": "947c597a",
   "metadata": {},
   "outputs": [
    {
     "name": "stdout",
     "output_type": "stream",
     "text": [
      "precision_recall_fscore_support: \n",
      "\n",
      "Walking    Standing    Jogging    DownStair    Upstair    Sit\n",
      "[0.98557692 1.         1.         0.91162791 0.98387097 1.        ]\n",
      "[0.97619048 1.         0.995      0.98492462 0.91959799 1.        ]\n",
      "[0.98086124 1.         0.99749373 0.9468599  0.95064935 1.        ]\n",
      "[210 205 200 199 199 196]\n"
     ]
    }
   ],
   "source": [
    "from sklearn.metrics import precision_recall_fscore_support\n",
    "\n",
    "print(\"precision_recall_fscore_support: \")\n",
    "print()\n",
    "print(*eng_label_list, sep=\" \"*4)\n",
    "print(*precision_recall_fscore_support(all_test, all_pred, labels=label_list), sep=\"\\n\")"
   ]
  },
  {
   "cell_type": "markdown",
   "id": "c9cbbf2a",
   "metadata": {},
   "source": [
    "### test with SVM"
   ]
  },
  {
   "cell_type": "code",
   "execution_count": 67,
   "id": "83b208ad",
   "metadata": {},
   "outputs": [
    {
     "data": {
      "text/plain": [
       "<AxesSubplot:>"
      ]
     },
     "execution_count": 67,
     "metadata": {},
     "output_type": "execute_result"
    },
    {
     "data": {
      "image/png": "[encoded data removed]",
      "text/plain": [
       "<Figure size 640x480 with 2 Axes>"
      ]
     },
     "metadata": {},
     "output_type": "display_data"
    }
   ],
   "source": [
    "from sklearn import svm\n",
    "from sklearn.metrics import confusion_matrix\n",
    "import seaborn as sns\n",
    "\n",
    "Model = svm.SVC(kernel='rbf', degree=5) # モデル構造の定義\n",
    "\n",
    "all_test, all_pred = k_fold_eval(Model)\n",
    "cf = confusion_matrix(all_test, all_pred, labels=label_list)\n",
    "sns.heatmap(cf, annot=True, xticklabels=eng_label_list, yticklabels=eng_label_list, fmt='g')"
   ]
  },
  {
   "cell_type": "code",
   "execution_count": 62,
   "id": "11007cf4",
   "metadata": {},
   "outputs": [
    {
     "name": "stdout",
     "output_type": "stream",
     "text": [
      "precision_recall_fscore_support: \n",
      "\n",
      "Walking    Standing    Jogging    DownStair    Upstair    Sit\n",
      "[0.68571429 0.88362069 1.         0.8961039  0.59907834 1.        ]\n",
      "[0.68571429 1.         1.         0.69346734 0.65326633 1.        ]\n",
      "[0.68571429 0.9382151  1.         0.78186969 0.625      1.        ]\n",
      "[210 205 200 199 199 196]\n"
     ]
    }
   ],
   "source": [
    "from sklearn.metrics import precision_recall_fscore_support\n",
    "\n",
    "print(\"precision_recall_fscore_support: \")\n",
    "print()\n",
    "print(*eng_label_list, sep=\" \"*4)\n",
    "print(*precision_recall_fscore_support(all_test, all_pred, labels=label_list), sep=\"\\n\")"
   ]
  },
  {
   "cell_type": "code",
   "execution_count": null,
   "id": "c0f426f3",
   "metadata": {},
   "outputs": [],
   "source": []
  }
 ],
 "metadata": {
  "kernelspec": {
   "display_name": "torch-gpu",
   "language": "python",
   "name": "torch-gpu"
  },
  "language_info": {
   "codemirror_mode": {
    "name": "ipython",
    "version": 3
   },
   "file_extension": ".py",
   "mimetype": "text/x-python",
   "name": "python",
   "nbconvert_exporter": "python",
   "pygments_lexer": "ipython3",
   "version": "3.8.13"
  }
 },
 "nbformat": 4,
 "nbformat_minor": 5
}
